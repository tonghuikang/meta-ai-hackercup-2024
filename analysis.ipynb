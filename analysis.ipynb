{
 "cells": [
  {
   "cell_type": "code",
   "execution_count": 7,
   "id": "8a55cd67",
   "metadata": {},
   "outputs": [],
   "source": [
    "contest_folder = 'contestData'"
   ]
  },
  {
   "cell_type": "code",
   "execution_count": 8,
   "id": "30ade329",
   "metadata": {},
   "outputs": [],
   "source": [
    "from analysis import get_current_status, process_row"
   ]
  },
  {
   "cell_type": "code",
   "execution_count": 9,
   "id": "92b784cb",
   "metadata": {},
   "outputs": [],
   "source": [
    "df_grouped, aggregated_df = get_current_status(contest_folder)"
   ]
  },
  {
   "cell_type": "code",
   "execution_count": 10,
   "id": "7bd7d877",
   "metadata": {},
   "outputs": [],
   "source": [
    "aggregated_list = aggregated_df.to_dict(orient='records')"
   ]
  },
  {
   "cell_type": "code",
   "execution_count": 11,
   "id": "84d4f1ea",
   "metadata": {},
   "outputs": [
    {
     "data": {
      "text/html": [
       "<div>\n",
       "<style scoped>\n",
       "    .dataframe tbody tr th:only-of-type {\n",
       "        vertical-align: middle;\n",
       "    }\n",
       "\n",
       "    .dataframe tbody tr th {\n",
       "        vertical-align: top;\n",
       "    }\n",
       "\n",
       "    .dataframe thead th {\n",
       "        text-align: right;\n",
       "    }\n",
       "</style>\n",
       "<table border=\"1\" class=\"dataframe\">\n",
       "  <thead>\n",
       "    <tr style=\"text-align: right;\">\n",
       "      <th></th>\n",
       "      <th>problem_code</th>\n",
       "      <th>problem_name</th>\n",
       "      <th>statement</th>\n",
       "      <th>sample_in</th>\n",
       "      <th>sample_out</th>\n",
       "      <th>full_in</th>\n",
       "      <th>solution_id</th>\n",
       "      <th>execution_code</th>\n",
       "      <th>execution_sample_out</th>\n",
       "      <th>execution_full_out</th>\n",
       "      <th>hash</th>\n",
       "      <th>status</th>\n",
       "      <th>timestring</th>\n",
       "    </tr>\n",
       "  </thead>\n",
       "  <tbody>\n",
       "    <tr>\n",
       "      <th>0</th>\n",
       "      <td>line_by_line</td>\n",
       "      <td>Line by Line</td>\n",
       "      <td>Not available</td>\n",
       "      <td>Not available</td>\n",
       "      <td>Not available</td>\n",
       "      <td>Not available</td>\n",
       "      <td>[001]</td>\n",
       "      <td>[import math\\nimport sys\\n\\ndef main():\\n    T...</td>\n",
       "      <td>[Case #1: 20.710678118654755\\nCase #2: 11.5443...</td>\n",
       "      <td>[Case #1: 20.710678118654755\\nCase #2: 11.5443...</td>\n",
       "      <td>1b24fda2</td>\n",
       "      <td>not_analyzed</td>\n",
       "      <td>2647</td>\n",
       "    </tr>\n",
       "  </tbody>\n",
       "</table>\n",
       "</div>"
      ],
      "text/plain": [
       "   problem_code  problem_name      statement      sample_in     sample_out  \\\n",
       "0  line_by_line  Line by Line  Not available  Not available  Not available   \n",
       "\n",
       "         full_in solution_id  \\\n",
       "0  Not available       [001]   \n",
       "\n",
       "                                      execution_code  \\\n",
       "0  [import math\\nimport sys\\n\\ndef main():\\n    T...   \n",
       "\n",
       "                                execution_sample_out  \\\n",
       "0  [Case #1: 20.710678118654755\\nCase #2: 11.5443...   \n",
       "\n",
       "                                  execution_full_out      hash        status  \\\n",
       "0  [Case #1: 20.710678118654755\\nCase #2: 11.5443...  1b24fda2  not_analyzed   \n",
       "\n",
       "  timestring  \n",
       "0       2647  "
      ]
     },
     "execution_count": 11,
     "metadata": {},
     "output_type": "execute_result"
    }
   ],
   "source": [
    "aggregated_df"
   ]
  },
  {
   "cell_type": "code",
   "execution_count": null,
   "id": "823e9cc1",
   "metadata": {},
   "outputs": [
    {
     "name": "stdout",
     "output_type": "stream",
     "text": [
      "Running analysis at 2647\n",
      "Running analysis at 2647 for Line by Line\n",
      "Running analysis at 2717\n",
      "Running analysis at 2717 for Fall in Line\n",
      "Running analysis at 2717 for Line by Line\n",
      "Running analysis at 2747\n",
      "Running analysis at 2747 for Fall in Line\n",
      "Running analysis at 2747 for Line of Delivery (Part 2)\n",
      "Running analysis at 2747 for Walk the Line\n",
      "Running analysis at 2817\n",
      "Running analysis at 2817 for Line of Delivery (Part 1)\n",
      "Running analysis at 2817 for Line of Delivery (Part 2)\n"
     ]
    }
   ],
   "source": [
    "import time\n",
    "import threading\n",
    "\n",
    "while True:\n",
    "    _, aggregated_df = get_current_status(contest_folder)\n",
    "    if len(aggregated_df) == 0:\n",
    "        print(\"Not outputs found yet\")\n",
    "        time.sleep(30)\n",
    "        continue\n",
    "    \n",
    "    aggregated_list = aggregated_df.to_dict(orient='records')\n",
    "    print(f\"Running analysis at {aggregated_df['timestring'][0]}\")\n",
    "    \n",
    "    for row in aggregated_list:\n",
    "        if row[\"status\"] != \"not_analyzed\":\n",
    "            continue\n",
    "        analysis_thread = threading.Thread(target=process_row, args=(row,))\n",
    "        analysis_thread.start()\n",
    "        print(f\"Running analysis at {row['timestring']} for {row['problem_name']}\")\n",
    "\n",
    "    time.sleep(30)"
   ]
  },
  {
   "cell_type": "code",
   "execution_count": null,
   "id": "8276d95e",
   "metadata": {},
   "outputs": [],
   "source": []
  },
  {
   "cell_type": "code",
   "execution_count": null,
   "id": "a1e46c19",
   "metadata": {},
   "outputs": [],
   "source": []
  }
 ],
 "metadata": {
  "kernelspec": {
   "display_name": "Python 3 (ipykernel)",
   "language": "python",
   "name": "python3"
  },
  "language_info": {
   "codemirror_mode": {
    "name": "ipython",
    "version": 3
   },
   "file_extension": ".py",
   "mimetype": "text/x-python",
   "name": "python",
   "nbconvert_exporter": "python",
   "pygments_lexer": "ipython3",
   "version": "3.9.7"
  }
 },
 "nbformat": 4,
 "nbformat_minor": 5
}
