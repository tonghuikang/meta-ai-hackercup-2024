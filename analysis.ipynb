{
 "cells": [
  {
   "cell_type": "code",
   "execution_count": 1,
   "id": "8a55cd67",
   "metadata": {},
   "outputs": [],
   "source": [
    "contest_folder = 'practice'"
   ]
  },
  {
   "cell_type": "code",
   "execution_count": 2,
   "id": "30ade329",
   "metadata": {},
   "outputs": [],
   "source": [
    "from analysis import get_current_status, select_solution"
   ]
  },
  {
   "cell_type": "code",
   "execution_count": 4,
   "id": "92b784cb",
   "metadata": {},
   "outputs": [],
   "source": [
    "df_grouped, aggregated_df = get_current_status(contest_folder)"
   ]
  },
  {
   "cell_type": "code",
   "execution_count": 5,
   "id": "7bd7d877",
   "metadata": {},
   "outputs": [],
   "source": [
    "aggregated_list = aggregated_df.to_dict(orient='records')"
   ]
  },
  {
   "cell_type": "code",
   "execution_count": 6,
   "id": "84d4f1ea",
   "metadata": {},
   "outputs": [
    {
     "data": {
      "text/html": [
       "<div>\n",
       "<style scoped>\n",
       "    .dataframe tbody tr th:only-of-type {\n",
       "        vertical-align: middle;\n",
       "    }\n",
       "\n",
       "    .dataframe tbody tr th {\n",
       "        vertical-align: top;\n",
       "    }\n",
       "\n",
       "    .dataframe thead th {\n",
       "        text-align: right;\n",
       "    }\n",
       "</style>\n",
       "<table border=\"1\" class=\"dataframe\">\n",
       "  <thead>\n",
       "    <tr style=\"text-align: right;\">\n",
       "      <th></th>\n",
       "      <th>problem_code</th>\n",
       "      <th>problem_name</th>\n",
       "      <th>statement</th>\n",
       "      <th>sample_in</th>\n",
       "      <th>sample_out</th>\n",
       "      <th>full_in</th>\n",
       "      <th>solution_id</th>\n",
       "      <th>execution_response</th>\n",
       "      <th>execution_code</th>\n",
       "      <th>execution_sample_out</th>\n",
       "      <th>execution_full_out</th>\n",
       "      <th>hash</th>\n",
       "      <th>status</th>\n",
       "      <th>timestring</th>\n",
       "    </tr>\n",
       "  </thead>\n",
       "  <tbody>\n",
       "    <tr>\n",
       "      <th>0</th>\n",
       "      <td>line_by_line</td>\n",
       "      <td>Line by Line</td>\n",
       "      <td>You’ve found a solution to an implementation-h...</td>\n",
       "      <td>4\\n2 50\\n3 10\\n13 37\\n950 95\\n</td>\n",
       "      <td>Case #1: 20.710678118654748\\nCase #2: 11.54434...</td>\n",
       "      <td>174\\n2 50\\n3 10\\n13 37\\n950 95\\n2 1\\n2 2\\n2 3\\...</td>\n",
       "      <td>[000, 002, 003]</td>\n",
       "      <td>[**Key Findings:**\\n\\n1. **Understanding Succe...</td>\n",
       "      <td>[import math\\n\\ndef compute_increase(N, P):\\n ...</td>\n",
       "      <td>[Case #1: 20.710678118654755\\nCase #2: 11.5443...</td>\n",
       "      <td>[Case #1: 20.710678118654755\\nCase #2: 11.5443...</td>\n",
       "      <td>50b1cb3a</td>\n",
       "      <td>not_analyzed</td>\n",
       "      <td>3407</td>\n",
       "    </tr>\n",
       "    <tr>\n",
       "      <th>1</th>\n",
       "      <td>line_of_delivery_part_1</td>\n",
       "      <td>Line of Delivery (Part 1)</td>\n",
       "      <td>*This problem shares some similarities with pr...</td>\n",
       "      <td>4\\n2 5\\n7\\n2\\n3 1\\n9\\n5\\n7\\n4 7\\n8\\n7\\n9\\n6\\n2...</td>\n",
       "      <td>Case #1: 1 2\\nCase #2: 3 4\\nCase #3: 3 0\\nCase...</td>\n",
       "      <td>111\\n2 5\\n7\\n2\\n3 1\\n9\\n5\\n7\\n4 7\\n8\\n7\\n9\\n6\\...</td>\n",
       "      <td>[000, 001]</td>\n",
       "      <td>[**Key Findings:**\\n\\n1. **Unique Energy Const...</td>\n",
       "      <td>[import sys\\nimport threading\\n\\ndef main():\\n...</td>\n",
       "      <td>[Case #1: 1 2\\nCase #2: 2 4\\nCase #3: 2 0\\nCas...</td>\n",
       "      <td>[Case #1: 1 2\\nCase #2: 2 4\\nCase #3: 2 0\\nCas...</td>\n",
       "      <td>b6413a1a</td>\n",
       "      <td>not_analyzed</td>\n",
       "      <td>3407</td>\n",
       "    </tr>\n",
       "    <tr>\n",
       "      <th>2</th>\n",
       "      <td>line_of_delivery_part_2</td>\n",
       "      <td>Line of Delivery (Part 2)</td>\n",
       "      <td>*This problem shares some similarities with pr...</td>\n",
       "      <td>5\\n2 5\\n7\\n2\\n3 6\\n9\\n5\\n7\\n4 8\\n8\\n7\\n9\\n6\\n2...</td>\n",
       "      <td>Case #1: 1 2\\nCase #2: 2 2\\nCase #3: 2 0\\nCase...</td>\n",
       "      <td>112\\n2 5\\n7\\n2\\n3 6\\n9\\n5\\n7\\n4 8\\n8\\n7\\n9\\n6\\...</td>\n",
       "      <td>[003]</td>\n",
       "      <td>[**Key Findings:**\\n\\n1. **Energy Transfer Mec...</td>\n",
       "      <td>[import sys\\nimport threading\\nimport bisect\\n...</td>\n",
       "      <td>[Case #1: 1 2\\nCase #2: 2 2\\nCase #3: 1 1\\nCas...</td>\n",
       "      <td>[Case #1: 1 2\\nCase #2: 2 2\\nCase #3: 1 1\\nCas...</td>\n",
       "      <td>ce192dec</td>\n",
       "      <td>not_analyzed</td>\n",
       "      <td>3407</td>\n",
       "    </tr>\n",
       "  </tbody>\n",
       "</table>\n",
       "</div>"
      ],
      "text/plain": [
       "              problem_code               problem_name  \\\n",
       "0             line_by_line               Line by Line   \n",
       "1  line_of_delivery_part_1  Line of Delivery (Part 1)   \n",
       "2  line_of_delivery_part_2  Line of Delivery (Part 2)   \n",
       "\n",
       "                                           statement  \\\n",
       "0  You’ve found a solution to an implementation-h...   \n",
       "1  *This problem shares some similarities with pr...   \n",
       "2  *This problem shares some similarities with pr...   \n",
       "\n",
       "                                           sample_in  \\\n",
       "0                     4\\n2 50\\n3 10\\n13 37\\n950 95\\n   \n",
       "1  4\\n2 5\\n7\\n2\\n3 1\\n9\\n5\\n7\\n4 7\\n8\\n7\\n9\\n6\\n2...   \n",
       "2  5\\n2 5\\n7\\n2\\n3 6\\n9\\n5\\n7\\n4 8\\n8\\n7\\n9\\n6\\n2...   \n",
       "\n",
       "                                          sample_out  \\\n",
       "0  Case #1: 20.710678118654748\\nCase #2: 11.54434...   \n",
       "1  Case #1: 1 2\\nCase #2: 3 4\\nCase #3: 3 0\\nCase...   \n",
       "2  Case #1: 1 2\\nCase #2: 2 2\\nCase #3: 2 0\\nCase...   \n",
       "\n",
       "                                             full_in      solution_id  \\\n",
       "0  174\\n2 50\\n3 10\\n13 37\\n950 95\\n2 1\\n2 2\\n2 3\\...  [000, 002, 003]   \n",
       "1  111\\n2 5\\n7\\n2\\n3 1\\n9\\n5\\n7\\n4 7\\n8\\n7\\n9\\n6\\...       [000, 001]   \n",
       "2  112\\n2 5\\n7\\n2\\n3 6\\n9\\n5\\n7\\n4 8\\n8\\n7\\n9\\n6\\...            [003]   \n",
       "\n",
       "                                  execution_response  \\\n",
       "0  [**Key Findings:**\\n\\n1. **Understanding Succe...   \n",
       "1  [**Key Findings:**\\n\\n1. **Unique Energy Const...   \n",
       "2  [**Key Findings:**\\n\\n1. **Energy Transfer Mec...   \n",
       "\n",
       "                                      execution_code  \\\n",
       "0  [import math\\n\\ndef compute_increase(N, P):\\n ...   \n",
       "1  [import sys\\nimport threading\\n\\ndef main():\\n...   \n",
       "2  [import sys\\nimport threading\\nimport bisect\\n...   \n",
       "\n",
       "                                execution_sample_out  \\\n",
       "0  [Case #1: 20.710678118654755\\nCase #2: 11.5443...   \n",
       "1  [Case #1: 1 2\\nCase #2: 2 4\\nCase #3: 2 0\\nCas...   \n",
       "2  [Case #1: 1 2\\nCase #2: 2 2\\nCase #3: 1 1\\nCas...   \n",
       "\n",
       "                                  execution_full_out      hash        status  \\\n",
       "0  [Case #1: 20.710678118654755\\nCase #2: 11.5443...  50b1cb3a  not_analyzed   \n",
       "1  [Case #1: 1 2\\nCase #2: 2 4\\nCase #3: 2 0\\nCas...  b6413a1a  not_analyzed   \n",
       "2  [Case #1: 1 2\\nCase #2: 2 2\\nCase #3: 1 1\\nCas...  ce192dec  not_analyzed   \n",
       "\n",
       "  timestring  \n",
       "0       3407  \n",
       "1       3407  \n",
       "2       3407  "
      ]
     },
     "execution_count": 6,
     "metadata": {},
     "output_type": "execute_result"
    }
   ],
   "source": [
    "aggregated_df"
   ]
  },
  {
   "cell_type": "code",
   "execution_count": 7,
   "id": "823e9cc1",
   "metadata": {},
   "outputs": [
    {
     "name": "stdout",
     "output_type": "stream",
     "text": [
      "Running analysis at 3409\n",
      "Running analysis at 3409 for Line by Line\n",
      "Running analysis at 3409 for Line of Delivery (Part 1)\n",
      "Running analysis at 3409 for Line of Delivery (Part 2)\n",
      "Running analysis at 3439\n",
      "Running analysis at 3439 for Fall in Line\n",
      "Running analysis at 3439 for Line by Line\n",
      "Running analysis at 3439 for Line of Delivery (Part 1)\n",
      "Running analysis at 3439 for Line of Delivery (Part 2)\n",
      "Running analysis at 3439 for Walk the Line\n",
      "Running analysis at 3510\n",
      "Running analysis at 3510 for Fall in Line\n",
      "Running analysis at 3510 for Line of Delivery (Part 2)\n",
      "Running analysis at 3510 for Walk the Line\n",
      "Running analysis at 3541\n",
      "Running analysis at 3541 for Line of Delivery (Part 1)\n",
      "Running analysis at 3612\n",
      "Running analysis at 3612 for Line of Delivery (Part 1)\n",
      "Running analysis at 3612 for Line of Delivery (Part 2)\n",
      "Running analysis at 3612 for Walk the Line\n",
      "Running analysis at 3642\n",
      "Running analysis at 3713\n",
      "Running analysis at 3713 for Line of Delivery (Part 2)\n",
      "Running analysis at 3744\n",
      "Running analysis at 3744 for Line of Delivery (Part 2)\n",
      "Running analysis at 3815\n",
      "Running analysis at 3845\n",
      "Running analysis at 3916\n"
     ]
    },
    {
     "ename": "KeyboardInterrupt",
     "evalue": "",
     "output_type": "error",
     "traceback": [
      "\u001b[0;31m---------------------------------------------------------------------------\u001b[0m",
      "\u001b[0;31mKeyboardInterrupt\u001b[0m                         Traceback (most recent call last)",
      "Input \u001b[0;32mIn [7]\u001b[0m, in \u001b[0;36m<module>\u001b[0;34m\u001b[0m\n\u001b[1;32m     18\u001b[0m     analysis_thread\u001b[38;5;241m.\u001b[39mstart()\n\u001b[1;32m     19\u001b[0m     \u001b[38;5;28mprint\u001b[39m(\u001b[38;5;124mf\u001b[39m\u001b[38;5;124m\"\u001b[39m\u001b[38;5;124mRunning analysis at \u001b[39m\u001b[38;5;132;01m{\u001b[39;00mrow[\u001b[38;5;124m'\u001b[39m\u001b[38;5;124mtimestring\u001b[39m\u001b[38;5;124m'\u001b[39m]\u001b[38;5;132;01m}\u001b[39;00m\u001b[38;5;124m for \u001b[39m\u001b[38;5;132;01m{\u001b[39;00mrow[\u001b[38;5;124m'\u001b[39m\u001b[38;5;124mproblem_name\u001b[39m\u001b[38;5;124m'\u001b[39m]\u001b[38;5;132;01m}\u001b[39;00m\u001b[38;5;124m\"\u001b[39m)\n\u001b[0;32m---> 21\u001b[0m \u001b[43mtime\u001b[49m\u001b[38;5;241;43m.\u001b[39;49m\u001b[43msleep\u001b[49m\u001b[43m(\u001b[49m\u001b[38;5;241;43m30\u001b[39;49m\u001b[43m)\u001b[49m\n",
      "\u001b[0;31mKeyboardInterrupt\u001b[0m: "
     ]
    }
   ],
   "source": [
    "import time\n",
    "import threading\n",
    "\n",
    "while True:\n",
    "    _, aggregated_df = get_current_status(contest_folder)\n",
    "    if len(aggregated_df) == 0:\n",
    "        print(\"Not outputs found yet\")\n",
    "        time.sleep(30)\n",
    "        continue\n",
    "    \n",
    "    aggregated_list = aggregated_df.to_dict(orient='records')\n",
    "    print(f\"Running analysis at {aggregated_df['timestring'][0]}\")\n",
    "    \n",
    "    for row in aggregated_list:\n",
    "        if row[\"status\"] != \"not_analyzed\":\n",
    "            continue\n",
    "        analysis_thread = threading.Thread(target=select_solution, args=(row,))\n",
    "        analysis_thread.start()\n",
    "        print(f\"Running analysis at {row['timestring']} for {row['problem_name']}\")\n",
    "\n",
    "    time.sleep(30)"
   ]
  },
  {
   "cell_type": "code",
   "execution_count": null,
   "id": "d6c90b5c",
   "metadata": {},
   "outputs": [],
   "source": [
    "process_row(aggregated_list[3])"
   ]
  },
  {
   "cell_type": "code",
   "execution_count": null,
   "id": "0e2944ae",
   "metadata": {},
   "outputs": [],
   "source": []
  }
 ],
 "metadata": {
  "kernelspec": {
   "display_name": "Python 3 (ipykernel)",
   "language": "python",
   "name": "python3"
  },
  "language_info": {
   "codemirror_mode": {
    "name": "ipython",
    "version": 3
   },
   "file_extension": ".py",
   "mimetype": "text/x-python",
   "name": "python",
   "nbconvert_exporter": "python",
   "pygments_lexer": "ipython3",
   "version": "3.9.7"
  }
 },
 "nbformat": 4,
 "nbformat_minor": 5
}
