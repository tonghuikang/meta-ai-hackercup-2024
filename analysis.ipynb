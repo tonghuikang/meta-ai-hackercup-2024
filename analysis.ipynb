{
 "cells": [
  {
   "cell_type": "code",
   "execution_count": 1,
   "id": "8a55cd67",
   "metadata": {},
   "outputs": [],
   "source": [
    "contest_folder = 'practice'   # CHANGE THIS\n",
    "contest_folder = 'contestData'\n",
    "# contest_folder = 'round1'"
   ]
  },
  {
   "cell_type": "code",
   "execution_count": 2,
   "id": "30ade329",
   "metadata": {},
   "outputs": [],
   "source": [
    "from analysis import get_current_status, select_solution"
   ]
  },
  {
   "cell_type": "code",
   "execution_count": 3,
   "id": "92b784cb",
   "metadata": {},
   "outputs": [],
   "source": [
    "df_grouped, aggregated_df = get_current_status(contest_folder)"
   ]
  },
  {
   "cell_type": "code",
   "execution_count": 4,
   "id": "7bd7d877",
   "metadata": {},
   "outputs": [],
   "source": [
    "aggregated_list = aggregated_df.to_dict(orient='records')"
   ]
  },
  {
   "cell_type": "code",
   "execution_count": 5,
   "id": "9a3cbf7b",
   "metadata": {},
   "outputs": [],
   "source": [
    "# df_grouped"
   ]
  },
  {
   "cell_type": "code",
   "execution_count": 6,
   "id": "84d4f1ea",
   "metadata": {},
   "outputs": [
    {
     "data": {
      "text/html": [
       "<div>\n",
       "<style scoped>\n",
       "    .dataframe tbody tr th:only-of-type {\n",
       "        vertical-align: middle;\n",
       "    }\n",
       "\n",
       "    .dataframe tbody tr th {\n",
       "        vertical-align: top;\n",
       "    }\n",
       "\n",
       "    .dataframe thead th {\n",
       "        text-align: right;\n",
       "    }\n",
       "</style>\n",
       "<table border=\"1\" class=\"dataframe\">\n",
       "  <thead>\n",
       "    <tr style=\"text-align: right;\">\n",
       "      <th></th>\n",
       "    </tr>\n",
       "  </thead>\n",
       "  <tbody>\n",
       "  </tbody>\n",
       "</table>\n",
       "</div>"
      ],
      "text/plain": [
       "Empty DataFrame\n",
       "Columns: []\n",
       "Index: []"
      ]
     },
     "execution_count": 6,
     "metadata": {},
     "output_type": "execute_result"
    }
   ],
   "source": [
    "aggregated_df"
   ]
  },
  {
   "cell_type": "code",
   "execution_count": null,
   "id": "823e9cc1",
   "metadata": {},
   "outputs": [
    {
     "name": "stdout",
     "output_type": "stream",
     "text": [
      "Not outputs found yet\n",
      "Running analysis at 0046\n",
      "Running analysis at 0046 for Chicken Tender\n",
      "Running analysis at 0046 for Distributed Server\n",
      "Running analysis at 0046 for Snake Cover\n",
      "Did not select solution for distributed_server, forcing any solution.\n",
      "Selected solution 002 for distributed_server\n",
      "Selected solution 002 for chicken_tender\n",
      "Did not select solution for snake_cover, forcing any solution.\n",
      "Selected solution 000 for snake_cover\n",
      "Running analysis at 0117\n",
      "Running analysis at 0117 for Chicken Tender\n",
      "Running analysis at 0117 for Distributed Server\n",
      "Running analysis at 0117 for Snake Cover\n",
      "Running analysis at 0117 for Sushi Platter\n",
      "Did not select solution for sushi_platter, forcing any solution.\n",
      "Selected solution 007 for sushi_platter\n",
      "Selected solution 002 for chicken_tender\n",
      "Did not select solution for distributed_server, forcing any solution.\n",
      "Selected solution 003 for distributed_server\n",
      "Did not select solution for snake_cover, forcing any solution.\n",
      "Selected solution 006 for snake_cover\n",
      "Running analysis at 0149\n",
      "Running analysis at 0149 for Chicken Tender\n",
      "Running analysis at 0149 for Distributed Server\n",
      "Running analysis at 0149 for Snake Cover\n",
      "Running analysis at 0149 for Sushi Platter\n",
      "Did not select solution for sushi_platter, forcing any solution.\n",
      "Selected solution 007 for sushi_platter\n",
      "Selected solution 002 for chicken_tender\n",
      "Selected solution 002 for distributed_server\n",
      "Selected solution 000 for snake_cover\n",
      "Running analysis at 0221\n",
      "Running analysis at 0221 for Distributed Server\n",
      "Running analysis at 0221 for Duplicate Order\n",
      "Running analysis at 0221 for Pizza Broiler\n",
      "Running analysis at 0221 for Snake Cover\n",
      "Running analysis at 0221 for Sushi Platter\n"
     ]
    }
   ],
   "source": [
    "import time\n",
    "import threading\n",
    "\n",
    "while True:\n",
    "    _, aggregated_df = get_current_status(contest_folder)\n",
    "    if len(aggregated_df) == 0:\n",
    "        print(\"Not outputs found yet\")\n",
    "        time.sleep(30)\n",
    "        continue\n",
    "    \n",
    "    aggregated_list = aggregated_df.to_dict(orient='records')\n",
    "    print(f\"Running analysis at {aggregated_df['timestring'][0]}\")\n",
    "    \n",
    "    for row in aggregated_list:\n",
    "        if row[\"status\"] != \"not_analyzed\":\n",
    "            continue\n",
    "        analysis_thread = threading.Thread(target=select_solution, args=(row,))\n",
    "        analysis_thread.start()\n",
    "        print(f\"Running analysis at {row['timestring']} for {row['problem_name']}\")\n",
    "\n",
    "    time.sleep(30)"
   ]
  },
  {
   "cell_type": "code",
   "execution_count": null,
   "id": "22b57da0",
   "metadata": {},
   "outputs": [],
   "source": []
  },
  {
   "cell_type": "code",
   "execution_count": null,
   "id": "bf60980f",
   "metadata": {},
   "outputs": [],
   "source": []
  },
  {
   "cell_type": "code",
   "execution_count": null,
   "id": "adb91069",
   "metadata": {},
   "outputs": [],
   "source": []
  }
 ],
 "metadata": {
  "kernelspec": {
   "display_name": "Python 3 (ipykernel)",
   "language": "python",
   "name": "python3"
  },
  "language_info": {
   "codemirror_mode": {
    "name": "ipython",
    "version": 3
   },
   "file_extension": ".py",
   "mimetype": "text/x-python",
   "name": "python",
   "nbconvert_exporter": "python",
   "pygments_lexer": "ipython3",
   "version": "3.9.7"
  }
 },
 "nbformat": 4,
 "nbformat_minor": 5
}
