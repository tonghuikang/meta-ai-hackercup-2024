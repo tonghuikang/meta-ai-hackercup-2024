{
 "cells": [
  {
   "cell_type": "code",
   "execution_count": 1,
   "id": "8a55cd67",
   "metadata": {},
   "outputs": [],
   "source": [
    "contest_folder = 'contestData'   # CHANGE THIS"
   ]
  },
  {
   "cell_type": "code",
   "execution_count": 2,
   "id": "30ade329",
   "metadata": {},
   "outputs": [],
   "source": [
    "from analysis import get_current_status, select_solution"
   ]
  },
  {
   "cell_type": "code",
   "execution_count": 3,
   "id": "92b784cb",
   "metadata": {},
   "outputs": [],
   "source": [
    "df_grouped, aggregated_df = get_current_status(contest_folder)"
   ]
  },
  {
   "cell_type": "code",
   "execution_count": 4,
   "id": "7bd7d877",
   "metadata": {},
   "outputs": [],
   "source": [
    "aggregated_list = aggregated_df.to_dict(orient='records')"
   ]
  },
  {
   "cell_type": "code",
   "execution_count": 5,
   "id": "a36f9c43",
   "metadata": {},
   "outputs": [],
   "source": [
    "# df_grouped"
   ]
  },
  {
   "cell_type": "code",
   "execution_count": 6,
   "id": "84d4f1ea",
   "metadata": {},
   "outputs": [
    {
     "data": {
      "text/html": [
       "<div>\n",
       "<style scoped>\n",
       "    .dataframe tbody tr th:only-of-type {\n",
       "        vertical-align: middle;\n",
       "    }\n",
       "\n",
       "    .dataframe tbody tr th {\n",
       "        vertical-align: top;\n",
       "    }\n",
       "\n",
       "    .dataframe thead th {\n",
       "        text-align: right;\n",
       "    }\n",
       "</style>\n",
       "<table border=\"1\" class=\"dataframe\">\n",
       "  <thead>\n",
       "    <tr style=\"text-align: right;\">\n",
       "      <th></th>\n",
       "    </tr>\n",
       "  </thead>\n",
       "  <tbody>\n",
       "  </tbody>\n",
       "</table>\n",
       "</div>"
      ],
      "text/plain": [
       "Empty DataFrame\n",
       "Columns: []\n",
       "Index: []"
      ]
     },
     "execution_count": 6,
     "metadata": {},
     "output_type": "execute_result"
    }
   ],
   "source": [
    "aggregated_df"
   ]
  },
  {
   "cell_type": "code",
   "execution_count": null,
   "id": "823e9cc1",
   "metadata": {},
   "outputs": [
    {
     "name": "stdout",
     "output_type": "stream",
     "text": [
      "Not outputs found yet\n",
      "Running analysis at 0036\n",
      "Running analysis at 0036 for Cottontail Climb (Part 1)\n",
      "Running analysis at 0036 for Cottontail Climb (Part 2)\n",
      "Running analysis at 0036 for Splitting Hares\n",
      "Selected solution 000 for cottontail_climb_part_2\n",
      "Selected solution 004 for cottontail_climb_part_1\n",
      "Selected solution 002 for splitting_hares\n",
      "Running analysis at 0106\n",
      "Running analysis at 0106 for Cottontail Climb (Part 1)\n",
      "Running analysis at 0106 for Cottontail Climb (Part 2)\n",
      "Running analysis at 0106 for Four in a Burrow\n",
      "Running analysis at 0106 for Splitting Hares\n",
      "Selected solution 005 for cottontail_climb_part_2\n",
      "Selected solution 001 for cottontail_climb_part_1\n",
      "Selected solution 002 for four_in_a_burrow\n",
      "Selected solution 004 for splitting_hares\n",
      "Running analysis at 0136\n",
      "Running analysis at 0136 for Bunny Hopscotch\n",
      "Running analysis at 0136 for Cottontail Climb (Part 1)\n",
      "Running analysis at 0136 for Four in a Burrow\n",
      "Running analysis at 0136 for Splitting Hares\n",
      "Selected solution 000 for cottontail_climb_part_1\n",
      "Selected solution 006 for bunny_hopscotch\n",
      "Selected solution 005 for four_in_a_burrow\n",
      "Running analysis at 0207\n",
      "Running analysis at 0207 for Bunny Hopscotch\n",
      "Running analysis at 0207 for Cottontail Climb (Part 1)\n",
      "Running analysis at 0207 for Four in a Burrow\n",
      "Selected solution 002 for splitting_hares\n",
      "Selected solution 006 for bunny_hopscotch\n",
      "Selected solution 010 for cottontail_climb_part_1\n",
      "Selected solution 000 for four_in_a_burrow\n",
      "Running analysis at 0238\n",
      "Running analysis at 0238 for Bunny Hopscotch\n",
      "Running analysis at 0238 for Cottontail Climb (Part 1)\n",
      "Running analysis at 0238 for Four in a Burrow\n",
      "Running analysis at 0238 for Splitting Hares\n",
      "Selected solution 001 for bunny_hopscotch\n",
      "Selected solution 001 for four_in_a_burrow\n",
      "Selected solution 002 for splitting_hares\n",
      "Selected solution 010 for cottontail_climb_part_1\n",
      "Running analysis at 0309\n",
      "Running analysis at 0309 for Bunny Hopscotch\n",
      "Running analysis at 0309 for Cottontail Climb (Part 1)\n",
      "Running analysis at 0309 for Four in a Burrow\n",
      "Running analysis at 0309 for Splitting Hares\n",
      "Selected solution 008 for cottontail_climb_part_1\n",
      "Selected solution 001 for four_in_a_burrow\n",
      "Selected solution 001 for bunny_hopscotch\n",
      "Selected solution 002 for splitting_hares\n",
      "Running analysis at 0341\n",
      "Running analysis at 0341 for Bunny Hopscotch\n",
      "Running analysis at 0341 for Cottontail Climb (Part 1)\n",
      "Running analysis at 0341 for Four in a Burrow\n",
      "Selected solution 000 for four_in_a_burrow\n",
      "Selected solution 007 for bunny_hopscotch\n",
      "Selected solution 001 for cottontail_climb_part_1\n",
      "Running analysis at 0413\n",
      "Running analysis at 0413 for Bunny Hopscotch\n",
      "Running analysis at 0413 for Four in a Burrow\n",
      "Running analysis at 0413 for Splitting Hares\n",
      "Selected solution 014 for four_in_a_burrow\n",
      "Running analysis at 0445\n",
      "Running analysis at 0445 for Bunny Hopscotch\n",
      "Running analysis at 0445 for Splitting Hares\n",
      "Selected solution 010 for bunny_hopscotch\n",
      "Selected solution 008 for splitting_hares\n",
      "Selected solution 017 for splitting_hares\n",
      "Running analysis at 0517\n",
      "Selected solution 001 for bunny_hopscotch\n",
      "Running analysis at 0550\n",
      "Running analysis at 0550 for Bunny Hopscotch\n"
     ]
    }
   ],
   "source": [
    "import time\n",
    "import threading\n",
    "\n",
    "while True:\n",
    "    _, aggregated_df = get_current_status(contest_folder)\n",
    "    if len(aggregated_df) == 0:\n",
    "        print(\"Not outputs found yet\")\n",
    "        time.sleep(30)\n",
    "        continue\n",
    "    \n",
    "    aggregated_list = aggregated_df.to_dict(orient='records')\n",
    "    print(f\"Running analysis at {aggregated_df['timestring'][0]}\")\n",
    "    \n",
    "    for row in aggregated_list:\n",
    "        if row[\"status\"] != \"not_analyzed\":\n",
    "            continue\n",
    "        analysis_thread = threading.Thread(target=select_solution, args=(row,))\n",
    "        analysis_thread.start()\n",
    "        print(f\"Running analysis at {row['timestring']} for {row['problem_name']}\")\n",
    "\n",
    "    time.sleep(30)"
   ]
  },
  {
   "cell_type": "code",
   "execution_count": null,
   "id": "0e2944ae",
   "metadata": {},
   "outputs": [],
   "source": []
  },
  {
   "cell_type": "code",
   "execution_count": null,
   "id": "84e769a5",
   "metadata": {},
   "outputs": [],
   "source": []
  }
 ],
 "metadata": {
  "kernelspec": {
   "display_name": "Python 3 (ipykernel)",
   "language": "python",
   "name": "python3"
  },
  "language_info": {
   "codemirror_mode": {
    "name": "ipython",
    "version": 3
   },
   "file_extension": ".py",
   "mimetype": "text/x-python",
   "name": "python",
   "nbconvert_exporter": "python",
   "pygments_lexer": "ipython3",
   "version": "3.9.7"
  }
 },
 "nbformat": 4,
 "nbformat_minor": 5
}
