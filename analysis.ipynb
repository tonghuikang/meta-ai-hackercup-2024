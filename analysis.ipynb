{
 "cells": [
  {
   "cell_type": "code",
   "execution_count": 1,
   "id": "8a55cd67",
   "metadata": {},
   "outputs": [],
   "source": [
    "contest_folder = 'round2'   # CHANGE THIS"
   ]
  },
  {
   "cell_type": "code",
   "execution_count": 2,
   "id": "30ade329",
   "metadata": {},
   "outputs": [],
   "source": [
    "from analysis import get_current_status, select_solution"
   ]
  },
  {
   "cell_type": "code",
   "execution_count": 3,
   "id": "92b784cb",
   "metadata": {},
   "outputs": [],
   "source": [
    "df_grouped, aggregated_df = get_current_status(contest_folder)"
   ]
  },
  {
   "cell_type": "code",
   "execution_count": 4,
   "id": "7bd7d877",
   "metadata": {},
   "outputs": [],
   "source": [
    "aggregated_list = aggregated_df.to_dict(orient='records')"
   ]
  },
  {
   "cell_type": "code",
   "execution_count": 5,
   "id": "9a3cbf7b",
   "metadata": {},
   "outputs": [],
   "source": [
    "# df_grouped"
   ]
  },
  {
   "cell_type": "code",
   "execution_count": 6,
   "id": "84d4f1ea",
   "metadata": {},
   "outputs": [
    {
     "data": {
      "text/html": [
       "<div>\n",
       "<style scoped>\n",
       "    .dataframe tbody tr th:only-of-type {\n",
       "        vertical-align: middle;\n",
       "    }\n",
       "\n",
       "    .dataframe tbody tr th {\n",
       "        vertical-align: top;\n",
       "    }\n",
       "\n",
       "    .dataframe thead th {\n",
       "        text-align: right;\n",
       "    }\n",
       "</style>\n",
       "<table border=\"1\" class=\"dataframe\">\n",
       "  <thead>\n",
       "    <tr style=\"text-align: right;\">\n",
       "      <th></th>\n",
       "      <th>problem_code</th>\n",
       "      <th>problem_name</th>\n",
       "      <th>statement</th>\n",
       "      <th>sample_in</th>\n",
       "      <th>sample_out</th>\n",
       "      <th>full_in</th>\n",
       "      <th>solution_id</th>\n",
       "      <th>execution_response</th>\n",
       "      <th>execution_code</th>\n",
       "      <th>execution_sample_out</th>\n",
       "      <th>execution_full_out</th>\n",
       "      <th>case_string</th>\n",
       "      <th>case_string_found</th>\n",
       "      <th>sample_out_found</th>\n",
       "      <th>hash</th>\n",
       "      <th>status</th>\n",
       "      <th>timestring</th>\n",
       "    </tr>\n",
       "  </thead>\n",
       "  <tbody>\n",
       "    <tr>\n",
       "      <th>0</th>\n",
       "      <td>cottontail_climb_part_2</td>\n",
       "      <td>Cottontail Climb (Part 2)</td>\n",
       "      <td>*This problem shares some similarities with pr...</td>\n",
       "      <td>6\\n121 121 11\\n0 100 2\\n0 132 1\\n121 132 1\\n12...</td>\n",
       "      <td>Case #1: 1\\nCase #2: 4\\nCase #3: 12\\nCase #4: ...</td>\n",
       "      <td>136\\n121 121 11\\n0 100 2\\n0 132 1\\n121 132 1\\n...</td>\n",
       "      <td>[001, 010]</td>\n",
       "      <td>[To solve this problem, we will generate all p...</td>\n",
       "      <td>[def read_int():\\n    return int(input())\\n\\nd...</td>\n",
       "      <td>[Case #1: 1\\nCase #2: 4\\nCase #3: 12\\nCase #4:...</td>\n",
       "      <td>[Case #1: 1\\nCase #2: 4\\nCase #3: 12\\nCase #4:...</td>\n",
       "      <td>[Case #136, Case #136]</td>\n",
       "      <td>[True, True]</td>\n",
       "      <td>[False, False]</td>\n",
       "      <td>4cc1d9b5</td>\n",
       "      <td>not_analyzed</td>\n",
       "      <td>3130</td>\n",
       "    </tr>\n",
       "  </tbody>\n",
       "</table>\n",
       "</div>"
      ],
      "text/plain": [
       "              problem_code               problem_name  \\\n",
       "0  cottontail_climb_part_2  Cottontail Climb (Part 2)   \n",
       "\n",
       "                                           statement  \\\n",
       "0  *This problem shares some similarities with pr...   \n",
       "\n",
       "                                           sample_in  \\\n",
       "0  6\\n121 121 11\\n0 100 2\\n0 132 1\\n121 132 1\\n12...   \n",
       "\n",
       "                                          sample_out  \\\n",
       "0  Case #1: 1\\nCase #2: 4\\nCase #3: 12\\nCase #4: ...   \n",
       "\n",
       "                                             full_in solution_id  \\\n",
       "0  136\\n121 121 11\\n0 100 2\\n0 132 1\\n121 132 1\\n...  [001, 010]   \n",
       "\n",
       "                                  execution_response  \\\n",
       "0  [To solve this problem, we will generate all p...   \n",
       "\n",
       "                                      execution_code  \\\n",
       "0  [def read_int():\\n    return int(input())\\n\\nd...   \n",
       "\n",
       "                                execution_sample_out  \\\n",
       "0  [Case #1: 1\\nCase #2: 4\\nCase #3: 12\\nCase #4:...   \n",
       "\n",
       "                                  execution_full_out             case_string  \\\n",
       "0  [Case #1: 1\\nCase #2: 4\\nCase #3: 12\\nCase #4:...  [Case #136, Case #136]   \n",
       "\n",
       "  case_string_found sample_out_found      hash        status timestring  \n",
       "0      [True, True]   [False, False]  4cc1d9b5  not_analyzed       3130  "
      ]
     },
     "execution_count": 6,
     "metadata": {},
     "output_type": "execute_result"
    }
   ],
   "source": [
    "aggregated_df"
   ]
  },
  {
   "cell_type": "code",
   "execution_count": null,
   "id": "823e9cc1",
   "metadata": {},
   "outputs": [
    {
     "name": "stdout",
     "output_type": "stream",
     "text": [
      "Running analysis at 3130\n",
      "Running analysis at 3130 for Cottontail Climb (Part 2)\n",
      "Selected solution 001 for cottontail_climb_part_2\n",
      "Running analysis at 3200\n",
      "Running analysis at 3230\n",
      "Running analysis at 3300\n",
      "Running analysis at 3300 for Cottontail Climb (Part 2)\n",
      "Selected solution 002 for cottontail_climb_part_2\n",
      "Running analysis at 3330\n",
      "Running analysis at 3400\n",
      "Running analysis at 3400 for Cottontail Climb (Part 2)\n",
      "Selected solution 004 for cottontail_climb_part_2\n",
      "Running analysis at 3430\n",
      "Running analysis at 3500\n",
      "Running analysis at 3530\n",
      "Running analysis at 3600\n",
      "Running analysis at 3630\n"
     ]
    }
   ],
   "source": [
    "import time\n",
    "import threading\n",
    "\n",
    "while True:\n",
    "    _, aggregated_df = get_current_status(contest_folder)\n",
    "    if len(aggregated_df) == 0:\n",
    "        print(\"Not outputs found yet\")\n",
    "        time.sleep(30)\n",
    "        continue\n",
    "    \n",
    "    aggregated_list = aggregated_df.to_dict(orient='records')\n",
    "    print(f\"Running analysis at {aggregated_df['timestring'][0]}\")\n",
    "    \n",
    "    for row in aggregated_list:\n",
    "        if row[\"status\"] != \"not_analyzed\":\n",
    "            continue\n",
    "        analysis_thread = threading.Thread(target=select_solution, args=(row,))\n",
    "        analysis_thread.start()\n",
    "        print(f\"Running analysis at {row['timestring']} for {row['problem_name']}\")\n",
    "\n",
    "    time.sleep(30)"
   ]
  },
  {
   "cell_type": "code",
   "execution_count": null,
   "id": "84e769a5",
   "metadata": {},
   "outputs": [],
   "source": []
  },
  {
   "cell_type": "code",
   "execution_count": null,
   "id": "dc0af09e",
   "metadata": {},
   "outputs": [],
   "source": []
  },
  {
   "cell_type": "code",
   "execution_count": null,
   "id": "60330bbf",
   "metadata": {},
   "outputs": [],
   "source": []
  },
  {
   "cell_type": "code",
   "execution_count": null,
   "id": "105a9ae8",
   "metadata": {},
   "outputs": [],
   "source": []
  }
 ],
 "metadata": {
  "kernelspec": {
   "display_name": "Python 3 (ipykernel)",
   "language": "python",
   "name": "python3"
  },
  "language_info": {
   "codemirror_mode": {
    "name": "ipython",
    "version": 3
   },
   "file_extension": ".py",
   "mimetype": "text/x-python",
   "name": "python",
   "nbconvert_exporter": "python",
   "pygments_lexer": "ipython3",
   "version": "3.9.7"
  }
 },
 "nbformat": 4,
 "nbformat_minor": 5
}
