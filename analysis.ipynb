{
 "cells": [
  {
   "cell_type": "code",
   "execution_count": 11,
   "id": "8a55cd67",
   "metadata": {},
   "outputs": [],
   "source": [
    "contest_folder = 'round1'"
   ]
  },
  {
   "cell_type": "code",
   "execution_count": 12,
   "id": "30ade329",
   "metadata": {},
   "outputs": [],
   "source": [
    "from analysis import get_current_status, select_solution"
   ]
  },
  {
   "cell_type": "code",
   "execution_count": 13,
   "id": "92b784cb",
   "metadata": {},
   "outputs": [],
   "source": [
    "df_grouped, aggregated_df = get_current_status(contest_folder)"
   ]
  },
  {
   "cell_type": "code",
   "execution_count": 14,
   "id": "7bd7d877",
   "metadata": {},
   "outputs": [],
   "source": [
    "aggregated_list = aggregated_df.to_dict(orient='records')"
   ]
  },
  {
   "cell_type": "code",
   "execution_count": 15,
   "id": "84d4f1ea",
   "metadata": {},
   "outputs": [
    {
     "data": {
      "text/html": [
       "<div>\n",
       "<style scoped>\n",
       "    .dataframe tbody tr th:only-of-type {\n",
       "        vertical-align: middle;\n",
       "    }\n",
       "\n",
       "    .dataframe tbody tr th {\n",
       "        vertical-align: top;\n",
       "    }\n",
       "\n",
       "    .dataframe thead th {\n",
       "        text-align: right;\n",
       "    }\n",
       "</style>\n",
       "<table border=\"1\" class=\"dataframe\">\n",
       "  <thead>\n",
       "    <tr style=\"text-align: right;\">\n",
       "      <th></th>\n",
       "      <th>problem_code</th>\n",
       "      <th>problem_name</th>\n",
       "      <th>statement</th>\n",
       "      <th>sample_in</th>\n",
       "      <th>sample_out</th>\n",
       "      <th>full_in</th>\n",
       "      <th>solution_id</th>\n",
       "      <th>execution_response</th>\n",
       "      <th>execution_code</th>\n",
       "      <th>execution_sample_out</th>\n",
       "      <th>execution_full_out</th>\n",
       "      <th>hash</th>\n",
       "      <th>status</th>\n",
       "      <th>timestring</th>\n",
       "    </tr>\n",
       "  </thead>\n",
       "  <tbody>\n",
       "    <tr>\n",
       "      <th>0</th>\n",
       "      <td>substitution_cipher</td>\n",
       "      <td>Substitution Cipher</td>\n",
       "      <td>You’ve probably seen the most classic substitu...</td>\n",
       "      <td>6\\n??2 3\\n135201 1\\n?35 2\\n1?0 2\\n1122 1\\n3???...</td>\n",
       "      <td>Case #1: 122 3\\nCase #2: 135201 2\\nCase #3: 13...</td>\n",
       "      <td>128\\n??2 3\\n135201 1\\n?35 2\\n1?0 2\\n1122 1\\n3?...</td>\n",
       "      <td>[004, 006, 007, 010, 012, 014, 015, 017, 018]</td>\n",
       "      <td>[To solve this problem efficiently, several ke...</td>\n",
       "      <td>[import sys\\nimport sys\\nimport sys\\nimport sy...</td>\n",
       "      <td>[Case #1: 972 1\\nCase #2: 135201 1\\nCase #3: 8...</td>\n",
       "      <td>[Case #1: 972 1\\nCase #2: 135201 1\\nCase #3: 8...</td>\n",
       "      <td>31c563a5</td>\n",
       "      <td>not_analyzed</td>\n",
       "      <td>0612</td>\n",
       "    </tr>\n",
       "  </tbody>\n",
       "</table>\n",
       "</div>"
      ],
      "text/plain": [
       "          problem_code         problem_name  \\\n",
       "0  substitution_cipher  Substitution Cipher   \n",
       "\n",
       "                                           statement  \\\n",
       "0  You’ve probably seen the most classic substitu...   \n",
       "\n",
       "                                           sample_in  \\\n",
       "0  6\\n??2 3\\n135201 1\\n?35 2\\n1?0 2\\n1122 1\\n3???...   \n",
       "\n",
       "                                          sample_out  \\\n",
       "0  Case #1: 122 3\\nCase #2: 135201 2\\nCase #3: 13...   \n",
       "\n",
       "                                             full_in  \\\n",
       "0  128\\n??2 3\\n135201 1\\n?35 2\\n1?0 2\\n1122 1\\n3?...   \n",
       "\n",
       "                                     solution_id  \\\n",
       "0  [004, 006, 007, 010, 012, 014, 015, 017, 018]   \n",
       "\n",
       "                                  execution_response  \\\n",
       "0  [To solve this problem efficiently, several ke...   \n",
       "\n",
       "                                      execution_code  \\\n",
       "0  [import sys\\nimport sys\\nimport sys\\nimport sy...   \n",
       "\n",
       "                                execution_sample_out  \\\n",
       "0  [Case #1: 972 1\\nCase #2: 135201 1\\nCase #3: 8...   \n",
       "\n",
       "                                  execution_full_out      hash        status  \\\n",
       "0  [Case #1: 972 1\\nCase #2: 135201 1\\nCase #3: 8...  31c563a5  not_analyzed   \n",
       "\n",
       "  timestring  \n",
       "0       0612  "
      ]
     },
     "execution_count": 15,
     "metadata": {},
     "output_type": "execute_result"
    }
   ],
   "source": [
    "aggregated_df"
   ]
  },
  {
   "cell_type": "code",
   "execution_count": 28,
   "id": "823e9cc1",
   "metadata": {},
   "outputs": [
    {
     "name": "stdout",
     "output_type": "stream",
     "text": [
      "Running analysis at 1956\n",
      "Running analysis at 1956 for Prime Subtractorization\n",
      "Running analysis at 1956 for Subsonic Subway\n",
      "Running analysis at 1956 for Substantial Losses\n",
      "Running analysis at 1956 for Substitution Cipher\n",
      "Running analysis at 1956 for Wildcard Submissions\n"
     ]
    },
    {
     "name": "stderr",
     "output_type": "stream",
     "text": [
      "Exception in thread Thread-69:\n",
      "Traceback (most recent call last):\n",
      "  File \"/usr/local/Caskroom/miniforge/base/lib/python3.9/threading.py\", line 973, in _bootstrap_inner\n",
      "    self.run()\n",
      "  File \"/usr/local/Caskroom/miniforge/base/lib/python3.9/threading.py\", line 910, in run\n",
      "    self._target(*self._args, **self._kwargs)\n",
      "  File \"/Users/htong/Desktop/hackercup/analysis.py\", line 274, in process_row\n",
      "    )\n",
      "  File \"/Users/htong/Desktop/hackercup/analysis.py\", line 213, in call_openai\n",
      "    \n",
      "  File \"/usr/local/Caskroom/miniforge/base/lib/python3.9/site-packages/openai/_utils/_utils.py\", line 272, in wrapper\n",
      "    return func(*args, **kwargs)\n",
      "  File \"/usr/local/Caskroom/miniforge/base/lib/python3.9/site-packages/openai/resources/chat/completions.py\", line 645, in create\n",
      "    return self._post(\n",
      "  File \"/usr/local/Caskroom/miniforge/base/lib/python3.9/site-packages/openai/_base_client.py\", line 1088, in post\n",
      "    return cast(ResponseT, self.request(cast_to, opts, stream=stream, stream_cls=stream_cls))\n",
      "  File \"/usr/local/Caskroom/miniforge/base/lib/python3.9/site-packages/openai/_base_client.py\", line 853, in request\n",
      "    return self._request(\n",
      "  File \"/usr/local/Caskroom/miniforge/base/lib/python3.9/site-packages/openai/_base_client.py\", line 930, in _request\n",
      "    raise self._make_status_error_from_response(err.response) from None\n",
      "openai.BadRequestError: Error code: 400 - {'error': {'message': \"This model's maximum context length has been exceeded. Please reduce the length of the messages.\", 'type': 'invalid_request_error', 'param': 'messages', 'code': 'context_length_exceeded'}}\n"
     ]
    },
    {
     "name": "stdout",
     "output_type": "stream",
     "text": [
      "Running analysis at 2026\n",
      "Running analysis at 2056\n",
      "Running analysis at 2126\n",
      "Running analysis at 2156\n",
      "Running analysis at 2226\n",
      "Running analysis at 2256\n",
      "Running analysis at 2326\n"
     ]
    },
    {
     "ename": "KeyboardInterrupt",
     "evalue": "",
     "output_type": "error",
     "traceback": [
      "\u001b[0;31m---------------------------------------------------------------------------\u001b[0m",
      "\u001b[0;31mKeyboardInterrupt\u001b[0m                         Traceback (most recent call last)",
      "Input \u001b[0;32mIn [28]\u001b[0m, in \u001b[0;36m<module>\u001b[0;34m\u001b[0m\n\u001b[1;32m     18\u001b[0m     analysis_thread\u001b[38;5;241m.\u001b[39mstart()\n\u001b[1;32m     19\u001b[0m     \u001b[38;5;28mprint\u001b[39m(\u001b[38;5;124mf\u001b[39m\u001b[38;5;124m\"\u001b[39m\u001b[38;5;124mRunning analysis at \u001b[39m\u001b[38;5;132;01m{\u001b[39;00mrow[\u001b[38;5;124m'\u001b[39m\u001b[38;5;124mtimestring\u001b[39m\u001b[38;5;124m'\u001b[39m]\u001b[38;5;132;01m}\u001b[39;00m\u001b[38;5;124m for \u001b[39m\u001b[38;5;132;01m{\u001b[39;00mrow[\u001b[38;5;124m'\u001b[39m\u001b[38;5;124mproblem_name\u001b[39m\u001b[38;5;124m'\u001b[39m]\u001b[38;5;132;01m}\u001b[39;00m\u001b[38;5;124m\"\u001b[39m)\n\u001b[0;32m---> 21\u001b[0m \u001b[43mtime\u001b[49m\u001b[38;5;241;43m.\u001b[39;49m\u001b[43msleep\u001b[49m\u001b[43m(\u001b[49m\u001b[38;5;241;43m30\u001b[39;49m\u001b[43m)\u001b[49m\n",
      "\u001b[0;31mKeyboardInterrupt\u001b[0m: "
     ]
    }
   ],
   "source": [
    "import time\n",
    "import threading\n",
    "\n",
    "while True:\n",
    "    _, aggregated_df = get_current_status(contest_folder)\n",
    "    if len(aggregated_df) == 0:\n",
    "        print(\"Not outputs found yet\")\n",
    "        time.sleep(30)\n",
    "        continue\n",
    "    \n",
    "    aggregated_list = aggregated_df.to_dict(orient='records')\n",
    "    print(f\"Running analysis at {aggregated_df['timestring'][0]}\")\n",
    "    \n",
    "    for row in aggregated_list:\n",
    "        if row[\"status\"] != \"not_analyzed\":\n",
    "            continue\n",
    "        analysis_thread = threading.Thread(target=select_solution, args=(row,))\n",
    "        analysis_thread.start()\n",
    "        print(f\"Running analysis at {row['timestring']} for {row['problem_name']}\")\n",
    "\n",
    "    time.sleep(30)"
   ]
  },
  {
   "cell_type": "code",
   "execution_count": 8,
   "id": "d6c90b5c",
   "metadata": {},
   "outputs": [
    {
     "data": {
      "text/plain": [
       "(\"After carefully reviewing all the presented solutions, here's the analysis:\\n\\n### **Solution Analysis**\\n\\n1. **Solution ID 000**\\n   - **Issue:** The output for the first test case (`Case #1: 112 116`) does not match the expected sample output (`Case #1: 122 3`). This indicates a flaw in both the decoding logic and the way corrupted characters are handled.\\n   \\n2. **Solution ID 001**\\n   - **Strengths:**\\n     - **Correctness:** The output matches the sample input perfectly. For example, `Case #1: 122 3` aligns with the expected output.\\n     - **Comprehensive Handling:** The solution effectively uses dynamic programming to maximize decodings and correctly identifies the lexicographically \\\\(K\\\\)th largest string.\\n     - **Efficiency:** It accounts for large inputs by implementing optimizations and handles edge cases gracefully.\\n   - **Conclusion:** This solution accurately solves the problem as per the given specifications and sample tests.\\n\\n3. **Solution ID 003**\\n   - **Issue:** The output for the first test case (`Case #1: 972 116`) does not match the expected sample, indicating incorrect handling of corrupted characters and decoding logic.\\n   \\n4. **Solution ID 006**\\n   - **Issue:** Similar to Solution ID 000 and 003, the output does not align with the expected sample results (`Case #1: 222 116` vs. `Case #1: 122 3`), showcasing flawed implementation.\\n   \\n5. **Solution ID 009**\\n   - **Issue:** The first test case output (`Case #1: 972 116`) deviates from the expected result, pointing to inaccuracies in decoding and corrupted character replacement.\\n\\n### **Conclusion**\\n\\nAmong all the solutions, **Solution ID 001** stands out as the most accurate and reliable. It successfully passes the sample tests and adheres to the problem constraints, making it the best choice.\\n\\n**The best solution is `<index>001</index>`.**\",\n",
       " '001')"
      ]
     },
     "execution_count": 8,
     "metadata": {},
     "output_type": "execute_result"
    }
   ],
   "source": [
    "process_row(aggregated_list[3])"
   ]
  },
  {
   "cell_type": "code",
   "execution_count": null,
   "id": "0e2944ae",
   "metadata": {},
   "outputs": [],
   "source": []
  }
 ],
 "metadata": {
  "kernelspec": {
   "display_name": "Python 3 (ipykernel)",
   "language": "python",
   "name": "python3"
  },
  "language_info": {
   "codemirror_mode": {
    "name": "ipython",
    "version": 3
   },
   "file_extension": ".py",
   "mimetype": "text/x-python",
   "name": "python",
   "nbconvert_exporter": "python",
   "pygments_lexer": "ipython3",
   "version": "3.9.7"
  }
 },
 "nbformat": 4,
 "nbformat_minor": 5
}
