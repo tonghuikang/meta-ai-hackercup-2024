{
 "cells": [
  {
   "cell_type": "code",
   "execution_count": 1,
   "id": "8a55cd67",
   "metadata": {},
   "outputs": [],
   "source": [
    "contest_folder = 'practice'"
   ]
  },
  {
   "cell_type": "code",
   "execution_count": 2,
   "id": "30ade329",
   "metadata": {},
   "outputs": [],
   "source": [
    "from analysis import get_current_status, process_row"
   ]
  },
  {
   "cell_type": "code",
   "execution_count": 3,
   "id": "92b784cb",
   "metadata": {},
   "outputs": [],
   "source": [
    "df_grouped, aggregated_df = get_current_status(contest_folder)"
   ]
  },
  {
   "cell_type": "code",
   "execution_count": 4,
   "id": "7bd7d877",
   "metadata": {},
   "outputs": [],
   "source": [
    "aggregated_list = aggregated_df.to_dict(orient='records')"
   ]
  },
  {
   "cell_type": "code",
   "execution_count": 5,
   "id": "84d4f1ea",
   "metadata": {},
   "outputs": [
    {
     "data": {
      "text/html": [
       "<div>\n",
       "<style scoped>\n",
       "    .dataframe tbody tr th:only-of-type {\n",
       "        vertical-align: middle;\n",
       "    }\n",
       "\n",
       "    .dataframe tbody tr th {\n",
       "        vertical-align: top;\n",
       "    }\n",
       "\n",
       "    .dataframe thead th {\n",
       "        text-align: right;\n",
       "    }\n",
       "</style>\n",
       "<table border=\"1\" class=\"dataframe\">\n",
       "  <thead>\n",
       "    <tr style=\"text-align: right;\">\n",
       "      <th></th>\n",
       "      <th>problem_code</th>\n",
       "      <th>problem_name</th>\n",
       "      <th>statement</th>\n",
       "      <th>sample_in</th>\n",
       "      <th>sample_out</th>\n",
       "      <th>full_in</th>\n",
       "      <th>solution_id</th>\n",
       "      <th>execution_code</th>\n",
       "      <th>execution_sample_out</th>\n",
       "      <th>execution_full_out</th>\n",
       "      <th>hash</th>\n",
       "      <th>status</th>\n",
       "      <th>timestring</th>\n",
       "    </tr>\n",
       "  </thead>\n",
       "  <tbody>\n",
       "    <tr>\n",
       "      <th>0</th>\n",
       "      <td>fall_in_line</td>\n",
       "      <td>Fall in Line</td>\n",
       "      <td>As the queen of an ant colony, it’s your job t...</td>\n",
       "      <td>3\\n4\\n1 1\\n2 2\\n-3 -3\\n4 4\\n4\\n1 1\\n-1 1\\n1 -1...</td>\n",
       "      <td>Case #1: 0\\nCase #2: 2\\nCase #3: 3\\n</td>\n",
       "      <td>113\\n4\\n1 1\\n2 2\\n-3 -3\\n4 4\\n4\\n1 1\\n-1 1\\n1 ...</td>\n",
       "      <td>[000, 001]</td>\n",
       "      <td>[import sys, math, random\\nfrom collections im...</td>\n",
       "      <td>[Case #1: 0\\nCase #2: 2\\nCase #3: 3\\n, Case #1...</td>\n",
       "      <td>[Case #1: 0\\nCase #2: 2\\nCase #3: 3\\nCase #4: ...</td>\n",
       "      <td>4eda3995</td>\n",
       "      <td>not_analyzed</td>\n",
       "      <td>2153</td>\n",
       "    </tr>\n",
       "    <tr>\n",
       "      <th>1</th>\n",
       "      <td>line_by_line</td>\n",
       "      <td>Line by Line</td>\n",
       "      <td>You’ve found a solution to an implementation-h...</td>\n",
       "      <td>4\\n2 50\\n3 10\\n13 37\\n950 95\\n</td>\n",
       "      <td>Case #1: 20.710678118654748\\nCase #2: 11.54434...</td>\n",
       "      <td>174\\n2 50\\n3 10\\n13 37\\n950 95\\n2 1\\n2 2\\n2 3\\...</td>\n",
       "      <td>[000, 001]</td>\n",
       "      <td>[import math\\nimport sys\\n\\ndef main():\\n    T...</td>\n",
       "      <td>[Case #1: 20.710678118654755\\nCase #2: 11.5443...</td>\n",
       "      <td>[Case #1: 20.710678118654755\\nCase #2: 11.5443...</td>\n",
       "      <td>1992998d</td>\n",
       "      <td>not_analyzed</td>\n",
       "      <td>2153</td>\n",
       "    </tr>\n",
       "    <tr>\n",
       "      <th>2</th>\n",
       "      <td>walk_the_line</td>\n",
       "      <td>Walk the Line</td>\n",
       "      <td>There’s an old, narrow bridge that a group of ...</td>\n",
       "      <td>6\\n4 17\\n1\\n2\\n5\\n10\\n4 4\\n1\\n2\\n5\\n10\\n2 22\\n...</td>\n",
       "      <td>Case #1: YES\\nCase #2: NO\\nCase #3: YES\\nCase ...</td>\n",
       "      <td>114\\n4 17\\n1\\n2\\n5\\n10\\n4 4\\n1\\n2\\n5\\n10\\n2 22...</td>\n",
       "      <td>[001]</td>\n",
       "      <td>[import sys\\n\\ndef compute_min_time(S, N):\\n  ...</td>\n",
       "      <td>[Case #1: YES\\nCase #2: NO\\nCase #3: YES\\nCase...</td>\n",
       "      <td>[Case #1: YES\\nCase #2: NO\\nCase #3: YES\\nCase...</td>\n",
       "      <td>ed3158bb</td>\n",
       "      <td>not_analyzed</td>\n",
       "      <td>2153</td>\n",
       "    </tr>\n",
       "  </tbody>\n",
       "</table>\n",
       "</div>"
      ],
      "text/plain": [
       "    problem_code   problem_name  \\\n",
       "0   fall_in_line   Fall in Line   \n",
       "1   line_by_line   Line by Line   \n",
       "2  walk_the_line  Walk the Line   \n",
       "\n",
       "                                           statement  \\\n",
       "0  As the queen of an ant colony, it’s your job t...   \n",
       "1  You’ve found a solution to an implementation-h...   \n",
       "2  There’s an old, narrow bridge that a group of ...   \n",
       "\n",
       "                                           sample_in  \\\n",
       "0  3\\n4\\n1 1\\n2 2\\n-3 -3\\n4 4\\n4\\n1 1\\n-1 1\\n1 -1...   \n",
       "1                     4\\n2 50\\n3 10\\n13 37\\n950 95\\n   \n",
       "2  6\\n4 17\\n1\\n2\\n5\\n10\\n4 4\\n1\\n2\\n5\\n10\\n2 22\\n...   \n",
       "\n",
       "                                          sample_out  \\\n",
       "0               Case #1: 0\\nCase #2: 2\\nCase #3: 3\\n   \n",
       "1  Case #1: 20.710678118654748\\nCase #2: 11.54434...   \n",
       "2  Case #1: YES\\nCase #2: NO\\nCase #3: YES\\nCase ...   \n",
       "\n",
       "                                             full_in solution_id  \\\n",
       "0  113\\n4\\n1 1\\n2 2\\n-3 -3\\n4 4\\n4\\n1 1\\n-1 1\\n1 ...  [000, 001]   \n",
       "1  174\\n2 50\\n3 10\\n13 37\\n950 95\\n2 1\\n2 2\\n2 3\\...  [000, 001]   \n",
       "2  114\\n4 17\\n1\\n2\\n5\\n10\\n4 4\\n1\\n2\\n5\\n10\\n2 22...       [001]   \n",
       "\n",
       "                                      execution_code  \\\n",
       "0  [import sys, math, random\\nfrom collections im...   \n",
       "1  [import math\\nimport sys\\n\\ndef main():\\n    T...   \n",
       "2  [import sys\\n\\ndef compute_min_time(S, N):\\n  ...   \n",
       "\n",
       "                                execution_sample_out  \\\n",
       "0  [Case #1: 0\\nCase #2: 2\\nCase #3: 3\\n, Case #1...   \n",
       "1  [Case #1: 20.710678118654755\\nCase #2: 11.5443...   \n",
       "2  [Case #1: YES\\nCase #2: NO\\nCase #3: YES\\nCase...   \n",
       "\n",
       "                                  execution_full_out      hash        status  \\\n",
       "0  [Case #1: 0\\nCase #2: 2\\nCase #3: 3\\nCase #4: ...  4eda3995  not_analyzed   \n",
       "1  [Case #1: 20.710678118654755\\nCase #2: 11.5443...  1992998d  not_analyzed   \n",
       "2  [Case #1: YES\\nCase #2: NO\\nCase #3: YES\\nCase...  ed3158bb  not_analyzed   \n",
       "\n",
       "  timestring  \n",
       "0       2153  \n",
       "1       2153  \n",
       "2       2153  "
      ]
     },
     "execution_count": 5,
     "metadata": {},
     "output_type": "execute_result"
    }
   ],
   "source": [
    "aggregated_df"
   ]
  },
  {
   "cell_type": "code",
   "execution_count": null,
   "id": "823e9cc1",
   "metadata": {},
   "outputs": [
    {
     "name": "stdout",
     "output_type": "stream",
     "text": [
      "Running analysis at 2153\n",
      "Running analysis at 2153 for Fall in Line\n",
      "Running analysis at 2153 for Line by Line\n",
      "Running analysis at 2153 for Walk the Line\n",
      "Running analysis at 2223\n",
      "Running analysis at 2223 for Line of Delivery (Part 1)\n",
      "Running analysis at 2223 for Line of Delivery (Part 2)\n",
      "Running analysis at 2253\n",
      "Running analysis at 2323\n",
      "Running analysis at 2323 for Line of Delivery (Part 1)\n",
      "Running analysis at 2323 for Line of Delivery (Part 2)\n",
      "Running analysis at 2323 for Walk the Line\n",
      "Running analysis at 2354\n",
      "Running analysis at 2424\n"
     ]
    }
   ],
   "source": [
    "import time\n",
    "import threading\n",
    "\n",
    "while True:\n",
    "    _, aggregated_df = get_current_status(contest_folder)\n",
    "    if len(aggregated_df) == 0:\n",
    "        print(\"Not outputs found yet\")\n",
    "        time.sleep(30)\n",
    "        continue\n",
    "    \n",
    "    aggregated_list = aggregated_df.to_dict(orient='records')\n",
    "    print(f\"Running analysis at {aggregated_df['timestring'][0]}\")\n",
    "    \n",
    "    for row in aggregated_list:\n",
    "        if row[\"status\"] != \"not_analyzed\":\n",
    "            continue\n",
    "        analysis_thread = threading.Thread(target=process_row, args=(row,))\n",
    "        analysis_thread.start()\n",
    "        print(f\"Running analysis at {row['timestring']} for {row['problem_name']}\")\n",
    "\n",
    "    time.sleep(30)"
   ]
  },
  {
   "cell_type": "code",
   "execution_count": null,
   "id": "26102b05",
   "metadata": {},
   "outputs": [],
   "source": []
  },
  {
   "cell_type": "code",
   "execution_count": null,
   "id": "e5eb52e1",
   "metadata": {},
   "outputs": [],
   "source": []
  }
 ],
 "metadata": {
  "kernelspec": {
   "display_name": "Python 3 (ipykernel)",
   "language": "python",
   "name": "python3"
  },
  "language_info": {
   "codemirror_mode": {
    "name": "ipython",
    "version": 3
   },
   "file_extension": ".py",
   "mimetype": "text/x-python",
   "name": "python",
   "nbconvert_exporter": "python",
   "pygments_lexer": "ipython3",
   "version": "3.9.7"
  }
 },
 "nbformat": 4,
 "nbformat_minor": 5
}
