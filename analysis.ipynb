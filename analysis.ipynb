{
 "cells": [
  {
   "cell_type": "code",
   "execution_count": 1,
   "id": "8a55cd67",
   "metadata": {},
   "outputs": [],
   "source": [
    "contest_folder = 'contestData'"
   ]
  },
  {
   "cell_type": "code",
   "execution_count": 2,
   "id": "30ade329",
   "metadata": {},
   "outputs": [],
   "source": [
    "from analysis import get_current_status, process_row"
   ]
  },
  {
   "cell_type": "code",
   "execution_count": 3,
   "id": "92b784cb",
   "metadata": {},
   "outputs": [],
   "source": [
    "df_grouped, aggregated_df = get_current_status(contest_folder)"
   ]
  },
  {
   "cell_type": "code",
   "execution_count": 4,
   "id": "7bd7d877",
   "metadata": {},
   "outputs": [],
   "source": [
    "aggregated_list = aggregated_df.to_dict(orient='records')"
   ]
  },
  {
   "cell_type": "code",
   "execution_count": 5,
   "id": "84d4f1ea",
   "metadata": {},
   "outputs": [
    {
     "data": {
      "text/html": [
       "<div>\n",
       "<style scoped>\n",
       "    .dataframe tbody tr th:only-of-type {\n",
       "        vertical-align: middle;\n",
       "    }\n",
       "\n",
       "    .dataframe tbody tr th {\n",
       "        vertical-align: top;\n",
       "    }\n",
       "\n",
       "    .dataframe thead th {\n",
       "        text-align: right;\n",
       "    }\n",
       "</style>\n",
       "<table border=\"1\" class=\"dataframe\">\n",
       "  <thead>\n",
       "    <tr style=\"text-align: right;\">\n",
       "      <th></th>\n",
       "    </tr>\n",
       "  </thead>\n",
       "  <tbody>\n",
       "  </tbody>\n",
       "</table>\n",
       "</div>"
      ],
      "text/plain": [
       "Empty DataFrame\n",
       "Columns: []\n",
       "Index: []"
      ]
     },
     "execution_count": 5,
     "metadata": {},
     "output_type": "execute_result"
    }
   ],
   "source": [
    "aggregated_df"
   ]
  },
  {
   "cell_type": "code",
   "execution_count": null,
   "id": "823e9cc1",
   "metadata": {},
   "outputs": [
    {
     "name": "stdout",
     "output_type": "stream",
     "text": [
      "Not outputs found yet\n",
      "Not outputs found yet\n",
      "Running analysis at 4949\n",
      "Running analysis at 4949 for Fall in Line\n",
      "Running analysis at 4949 for Line by Line\n",
      "Running analysis at 4949 for Line of Delivery (Part 2)\n",
      "Running analysis at 4949 for Walk the Line\n",
      "Running analysis at 5019\n",
      "Running analysis at 5019 for Fall in Line\n",
      "Running analysis at 5019 for Line by Line\n",
      "Running analysis at 5019 for Line of Delivery (Part 1)\n",
      "Running analysis at 5019 for Walk the Line\n",
      "Running analysis at 5050\n",
      "Running analysis at 5050 for Fall in Line\n",
      "Running analysis at 5050 for Line by Line\n",
      "Running analysis at 5050 for Line of Delivery (Part 1)\n",
      "Running analysis at 5050 for Line of Delivery (Part 2)\n",
      "Running analysis at 5050 for Walk the Line\n",
      "Running analysis at 5120\n",
      "Running analysis at 5120 for Fall in Line\n",
      "Running analysis at 5120 for Line of Delivery (Part 1)\n",
      "Running analysis at 5120 for Line of Delivery (Part 2)\n",
      "Running analysis at 5120 for Walk the Line\n",
      "Running analysis at 5150\n",
      "Running analysis at 5150 for Line of Delivery (Part 1)\n",
      "Running analysis at 5220\n",
      "Running analysis at 5220 for Line of Delivery (Part 1)\n",
      "Running analysis at 5220 for Line of Delivery (Part 2)\n",
      "Running analysis at 5220 for Walk the Line\n",
      "Running analysis at 5250\n",
      "Running analysis at 5250 for Line of Delivery (Part 1)\n",
      "Running analysis at 5250 for Line of Delivery (Part 2)\n",
      "Running analysis at 5320\n",
      "Running analysis at 5320 for Line of Delivery (Part 2)\n",
      "Running analysis at 5350\n",
      "Running analysis at 5420\n"
     ]
    }
   ],
   "source": [
    "import time\n",
    "import threading\n",
    "\n",
    "while True:\n",
    "    _, aggregated_df = get_current_status(contest_folder)\n",
    "    if len(aggregated_df) == 0:\n",
    "        print(\"Not outputs found yet\")\n",
    "        time.sleep(30)\n",
    "        continue\n",
    "    \n",
    "    aggregated_list = aggregated_df.to_dict(orient='records')\n",
    "    print(f\"Running analysis at {aggregated_df['timestring'][0]}\")\n",
    "    \n",
    "    for row in aggregated_list:\n",
    "        if row[\"status\"] != \"not_analyzed\":\n",
    "            continue\n",
    "        analysis_thread = threading.Thread(target=process_row, args=(row,))\n",
    "        analysis_thread.start()\n",
    "        print(f\"Running analysis at {row['timestring']} for {row['problem_name']}\")\n",
    "\n",
    "    time.sleep(30)"
   ]
  },
  {
   "cell_type": "code",
   "execution_count": null,
   "id": "f8429669",
   "metadata": {},
   "outputs": [],
   "source": []
  },
  {
   "cell_type": "code",
   "execution_count": null,
   "id": "cf53dd11",
   "metadata": {},
   "outputs": [],
   "source": []
  },
  {
   "cell_type": "code",
   "execution_count": null,
   "id": "498f0368",
   "metadata": {},
   "outputs": [],
   "source": []
  }
 ],
 "metadata": {
  "kernelspec": {
   "display_name": "Python 3 (ipykernel)",
   "language": "python",
   "name": "python3"
  },
  "language_info": {
   "codemirror_mode": {
    "name": "ipython",
    "version": 3
   },
   "file_extension": ".py",
   "mimetype": "text/x-python",
   "name": "python",
   "nbconvert_exporter": "python",
   "pygments_lexer": "ipython3",
   "version": "3.9.7"
  }
 },
 "nbformat": 4,
 "nbformat_minor": 5
}
