{
 "cells": [
  {
   "cell_type": "code",
   "execution_count": 8,
   "id": "39f83bc0",
   "metadata": {},
   "outputs": [],
   "source": [
    "contest_folder = 'round2'   # CHANGE THIS"
   ]
  },
  {
   "cell_type": "code",
   "execution_count": 9,
   "id": "bb19edb0",
   "metadata": {},
   "outputs": [],
   "source": [
    "from analysis import get_current_status"
   ]
  },
  {
   "cell_type": "code",
   "execution_count": 10,
   "id": "3a47087c",
   "metadata": {},
   "outputs": [],
   "source": [
    "df_grouped, aggregated_df = get_current_status(contest_folder)"
   ]
  },
  {
   "cell_type": "code",
   "execution_count": 11,
   "id": "f9c06c1b",
   "metadata": {},
   "outputs": [],
   "source": [
    "# df_grouped"
   ]
  },
  {
   "cell_type": "code",
   "execution_count": 12,
   "id": "9f5ca8b0",
   "metadata": {},
   "outputs": [
    {
     "data": {
      "text/html": [
       "<div>\n",
       "<style scoped>\n",
       "    .dataframe tbody tr th:only-of-type {\n",
       "        vertical-align: middle;\n",
       "    }\n",
       "\n",
       "    .dataframe tbody tr th {\n",
       "        vertical-align: top;\n",
       "    }\n",
       "\n",
       "    .dataframe thead th {\n",
       "        text-align: right;\n",
       "    }\n",
       "</style>\n",
       "<table border=\"1\" class=\"dataframe\">\n",
       "  <thead>\n",
       "    <tr style=\"text-align: right;\">\n",
       "      <th></th>\n",
       "      <th>problem_code</th>\n",
       "      <th>problem_name</th>\n",
       "      <th>statement</th>\n",
       "      <th>sample_in</th>\n",
       "      <th>sample_out</th>\n",
       "      <th>full_in</th>\n",
       "      <th>solution_id</th>\n",
       "      <th>execution_response</th>\n",
       "      <th>execution_code</th>\n",
       "      <th>execution_sample_out</th>\n",
       "      <th>execution_full_out</th>\n",
       "      <th>case_string</th>\n",
       "      <th>case_string_found</th>\n",
       "      <th>sample_out_found</th>\n",
       "      <th>hash</th>\n",
       "      <th>status</th>\n",
       "      <th>timestring</th>\n",
       "    </tr>\n",
       "  </thead>\n",
       "  <tbody>\n",
       "    <tr>\n",
       "      <th>0</th>\n",
       "      <td>cottontail_climb_part_2</td>\n",
       "      <td>Cottontail Climb (Part 2)</td>\n",
       "      <td>*This problem shares some similarities with pr...</td>\n",
       "      <td>6\\n121 121 11\\n0 100 2\\n0 132 1\\n121 132 1\\n12...</td>\n",
       "      <td>Case #1: 1\\nCase #2: 4\\nCase #3: 12\\nCase #4: ...</td>\n",
       "      <td>136\\n121 121 11\\n0 100 2\\n0 132 1\\n121 132 1\\n...</td>\n",
       "      <td>[001, 002, 004, 010]</td>\n",
       "      <td>[To solve this problem, we will generate all p...</td>\n",
       "      <td>[def read_int():\\n    return int(input())\\n\\nd...</td>\n",
       "      <td>[Case #1: 1\\nCase #2: 4\\nCase #3: 12\\nCase #4:...</td>\n",
       "      <td>[Case #1: 1\\nCase #2: 4\\nCase #3: 12\\nCase #4:...</td>\n",
       "      <td>[Case #136, Case #136, Case #136, Case #136]</td>\n",
       "      <td>[True, True, True, True]</td>\n",
       "      <td>[False, True, True, False]</td>\n",
       "      <td>494c1da6</td>\n",
       "      <td>analyzing</td>\n",
       "      <td>3402</td>\n",
       "    </tr>\n",
       "  </tbody>\n",
       "</table>\n",
       "</div>"
      ],
      "text/plain": [
       "              problem_code               problem_name  \\\n",
       "0  cottontail_climb_part_2  Cottontail Climb (Part 2)   \n",
       "\n",
       "                                           statement  \\\n",
       "0  *This problem shares some similarities with pr...   \n",
       "\n",
       "                                           sample_in  \\\n",
       "0  6\\n121 121 11\\n0 100 2\\n0 132 1\\n121 132 1\\n12...   \n",
       "\n",
       "                                          sample_out  \\\n",
       "0  Case #1: 1\\nCase #2: 4\\nCase #3: 12\\nCase #4: ...   \n",
       "\n",
       "                                             full_in           solution_id  \\\n",
       "0  136\\n121 121 11\\n0 100 2\\n0 132 1\\n121 132 1\\n...  [001, 002, 004, 010]   \n",
       "\n",
       "                                  execution_response  \\\n",
       "0  [To solve this problem, we will generate all p...   \n",
       "\n",
       "                                      execution_code  \\\n",
       "0  [def read_int():\\n    return int(input())\\n\\nd...   \n",
       "\n",
       "                                execution_sample_out  \\\n",
       "0  [Case #1: 1\\nCase #2: 4\\nCase #3: 12\\nCase #4:...   \n",
       "\n",
       "                                  execution_full_out  \\\n",
       "0  [Case #1: 1\\nCase #2: 4\\nCase #3: 12\\nCase #4:...   \n",
       "\n",
       "                                    case_string         case_string_found  \\\n",
       "0  [Case #136, Case #136, Case #136, Case #136]  [True, True, True, True]   \n",
       "\n",
       "             sample_out_found      hash     status timestring  \n",
       "0  [False, True, True, False]  494c1da6  analyzing       3402  "
      ]
     },
     "execution_count": 12,
     "metadata": {},
     "output_type": "execute_result"
    }
   ],
   "source": [
    "aggregated_df"
   ]
  },
  {
   "cell_type": "code",
   "execution_count": 13,
   "id": "f8af68b5",
   "metadata": {},
   "outputs": [
    {
     "data": {
      "text/plain": [
       "dict_keys(['problem_code', 'problem_name', 'statement', 'sample_in', 'sample_out', 'full_in', 'solution_id', 'execution_response', 'execution_code', 'execution_sample_out', 'execution_full_out', 'case_string', 'case_string_found', 'sample_out_found', 'hash', 'status', 'timestring'])"
      ]
     },
     "execution_count": 13,
     "metadata": {},
     "output_type": "execute_result"
    }
   ],
   "source": [
    "aggregated_df.to_dict(orient='records')[0].keys()"
   ]
  },
  {
   "cell_type": "code",
   "execution_count": 14,
   "id": "bfae2405",
   "metadata": {},
   "outputs": [
    {
     "data": {
      "text/plain": [
       "[False, True, True, False]"
      ]
     },
     "execution_count": 14,
     "metadata": {},
     "output_type": "execute_result"
    }
   ],
   "source": [
    "aggregated_df[\"sample_out_found\"][0]"
   ]
  },
  {
   "cell_type": "code",
   "execution_count": 37,
   "id": "52f72631",
   "metadata": {},
   "outputs": [],
   "source": [
    "# aggregated_df[0]"
   ]
  },
  {
   "cell_type": "code",
   "execution_count": null,
   "id": "6f5b97af",
   "metadata": {},
   "outputs": [],
   "source": []
  },
  {
   "cell_type": "code",
   "execution_count": null,
   "id": "484a204d",
   "metadata": {},
   "outputs": [],
   "source": []
  }
 ],
 "metadata": {
  "kernelspec": {
   "display_name": "Python 3 (ipykernel)",
   "language": "python",
   "name": "python3"
  },
  "language_info": {
   "codemirror_mode": {
    "name": "ipython",
    "version": 3
   },
   "file_extension": ".py",
   "mimetype": "text/x-python",
   "name": "python",
   "nbconvert_exporter": "python",
   "pygments_lexer": "ipython3",
   "version": "3.9.7"
  }
 },
 "nbformat": 4,
 "nbformat_minor": 5
}
