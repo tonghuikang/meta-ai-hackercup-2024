{
 "cells": [
  {
   "cell_type": "code",
   "execution_count": 81,
   "id": "39f83bc0",
   "metadata": {},
   "outputs": [],
   "source": [
    "# contest_folder = 'practice'   # CHANGE THIS\n",
    "contest_folder = 'contestData'"
   ]
  },
  {
   "cell_type": "code",
   "execution_count": 82,
   "id": "bb19edb0",
   "metadata": {},
   "outputs": [],
   "source": [
    "from analysis import get_current_status"
   ]
  },
  {
   "cell_type": "code",
   "execution_count": 83,
   "id": "3a47087c",
   "metadata": {},
   "outputs": [],
   "source": [
    "df_grouped, aggregated_df = get_current_status(contest_folder)"
   ]
  },
  {
   "cell_type": "code",
   "execution_count": 84,
   "id": "f9c06c1b",
   "metadata": {},
   "outputs": [],
   "source": [
    "# df_grouped.head(1)"
   ]
  },
  {
   "cell_type": "code",
   "execution_count": 85,
   "id": "9f5ca8b0",
   "metadata": {},
   "outputs": [
    {
     "data": {
      "text/html": [
       "<div>\n",
       "<style scoped>\n",
       "    .dataframe tbody tr th:only-of-type {\n",
       "        vertical-align: middle;\n",
       "    }\n",
       "\n",
       "    .dataframe tbody tr th {\n",
       "        vertical-align: top;\n",
       "    }\n",
       "\n",
       "    .dataframe thead th {\n",
       "        text-align: right;\n",
       "    }\n",
       "</style>\n",
       "<table border=\"1\" class=\"dataframe\">\n",
       "  <thead>\n",
       "    <tr style=\"text-align: right;\">\n",
       "      <th></th>\n",
       "      <th>problem_code</th>\n",
       "      <th>problem_name</th>\n",
       "      <th>statement</th>\n",
       "      <th>sample_in</th>\n",
       "      <th>sample_out</th>\n",
       "      <th>full_in</th>\n",
       "      <th>solution_id</th>\n",
       "      <th>execution_response</th>\n",
       "      <th>execution_code</th>\n",
       "      <th>execution_sample_out</th>\n",
       "      <th>execution_full_out</th>\n",
       "      <th>case_string</th>\n",
       "      <th>case_string_found</th>\n",
       "      <th>sample_out_found</th>\n",
       "      <th>hash</th>\n",
       "      <th>status</th>\n",
       "      <th>timestring</th>\n",
       "    </tr>\n",
       "  </thead>\n",
       "  <tbody>\n",
       "    <tr>\n",
       "      <th>0</th>\n",
       "      <td>coin_change</td>\n",
       "      <td>Coin Change</td>\n",
       "      <td>You found a magic coin exchange machine which ...</td>\n",
       "      <td>6\\n3 0\\n3 100\\n10 50\\n100 40\\n1337 7\\n99887766...</td>\n",
       "      <td>Case #1: 5.5\\nCase #2: 4.5\\nCase #3: 19.956349...</td>\n",
       "      <td>60\\n9988776655 44\\n198975626633448 2\\n46751915...</td>\n",
       "      <td>[000, 001, 002, 004, 005]</td>\n",
       "      <td>[**Key Findings:**\\n\\n1. **Understanding the P...</td>\n",
       "      <td>[import sys\\nimport math\\nfrom itertools impor...</td>\n",
       "      <td>[Case #1: 5.5\\nCase #2: 5.0794415417\\nCase #3:...</td>\n",
       "      <td>[Case #1: 2.2036974640E+10\\nCase #2: 9.8131309...</td>\n",
       "      <td>[Case #60, Case #60, Case #60, Case #60, Case ...</td>\n",
       "      <td>[True, True, True, True, True]</td>\n",
       "      <td>[False, False, False, False, False]</td>\n",
       "      <td>b37c9c61</td>\n",
       "      <td>analyzing</td>\n",
       "      <td>0744</td>\n",
       "    </tr>\n",
       "  </tbody>\n",
       "</table>\n",
       "</div>"
      ],
      "text/plain": [
       "  problem_code problem_name  \\\n",
       "0  coin_change  Coin Change   \n",
       "\n",
       "                                           statement  \\\n",
       "0  You found a magic coin exchange machine which ...   \n",
       "\n",
       "                                           sample_in  \\\n",
       "0  6\\n3 0\\n3 100\\n10 50\\n100 40\\n1337 7\\n99887766...   \n",
       "\n",
       "                                          sample_out  \\\n",
       "0  Case #1: 5.5\\nCase #2: 4.5\\nCase #3: 19.956349...   \n",
       "\n",
       "                                             full_in  \\\n",
       "0  60\\n9988776655 44\\n198975626633448 2\\n46751915...   \n",
       "\n",
       "                 solution_id  \\\n",
       "0  [000, 001, 002, 004, 005]   \n",
       "\n",
       "                                  execution_response  \\\n",
       "0  [**Key Findings:**\\n\\n1. **Understanding the P...   \n",
       "\n",
       "                                      execution_code  \\\n",
       "0  [import sys\\nimport math\\nfrom itertools impor...   \n",
       "\n",
       "                                execution_sample_out  \\\n",
       "0  [Case #1: 5.5\\nCase #2: 5.0794415417\\nCase #3:...   \n",
       "\n",
       "                                  execution_full_out  \\\n",
       "0  [Case #1: 2.2036974640E+10\\nCase #2: 9.8131309...   \n",
       "\n",
       "                                         case_string  \\\n",
       "0  [Case #60, Case #60, Case #60, Case #60, Case ...   \n",
       "\n",
       "                case_string_found                     sample_out_found  \\\n",
       "0  [True, True, True, True, True]  [False, False, False, False, False]   \n",
       "\n",
       "       hash     status timestring  \n",
       "0  b37c9c61  analyzing       0744  "
      ]
     },
     "execution_count": 85,
     "metadata": {},
     "output_type": "execute_result"
    }
   ],
   "source": [
    "aggregated_df"
   ]
  },
  {
   "cell_type": "code",
   "execution_count": 86,
   "id": "c0329856",
   "metadata": {},
   "outputs": [
    {
     "data": {
      "text/plain": [
       "dict_keys(['problem_code', 'problem_name', 'statement', 'sample_in', 'sample_out', 'full_in', 'solution_id', 'execution_response', 'execution_code', 'execution_sample_out', 'execution_full_out', 'case_string', 'case_string_found', 'sample_out_found', 'hash', 'status', 'timestring'])"
      ]
     },
     "execution_count": 86,
     "metadata": {},
     "output_type": "execute_result"
    }
   ],
   "source": [
    "aggregated_df.to_dict(orient='records')[0].keys()"
   ]
  },
  {
   "cell_type": "code",
   "execution_count": 87,
   "id": "f5db068a",
   "metadata": {},
   "outputs": [
    {
     "data": {
      "text/plain": [
       "[False, False, False, False, False]"
      ]
     },
     "execution_count": 87,
     "metadata": {},
     "output_type": "execute_result"
    }
   ],
   "source": [
    "aggregated_df[\"sample_out_found\"][0]"
   ]
  },
  {
   "cell_type": "code",
   "execution_count": null,
   "id": "52f72631",
   "metadata": {},
   "outputs": [],
   "source": [
    "# aggregated_df[0]"
   ]
  },
  {
   "cell_type": "code",
   "execution_count": null,
   "id": "6f5b97af",
   "metadata": {},
   "outputs": [],
   "source": []
  },
  {
   "cell_type": "code",
   "execution_count": null,
   "id": "484a204d",
   "metadata": {},
   "outputs": [],
   "source": []
  }
 ],
 "metadata": {
  "kernelspec": {
   "display_name": "Python 3 (ipykernel)",
   "language": "python",
   "name": "python3"
  },
  "language_info": {
   "codemirror_mode": {
    "name": "ipython",
    "version": 3
   },
   "file_extension": ".py",
   "mimetype": "text/x-python",
   "name": "python",
   "nbconvert_exporter": "python",
   "pygments_lexer": "ipython3",
   "version": "3.9.7"
  }
 },
 "nbformat": 4,
 "nbformat_minor": 5
}
