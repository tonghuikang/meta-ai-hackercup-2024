{
 "cells": [
  {
   "cell_type": "code",
   "execution_count": 1,
   "id": "39f83bc0",
   "metadata": {},
   "outputs": [],
   "source": [
    "# contest_folder = 'practice'   # CHANGE THIS\n",
    "contest_folder = 'contestData'\n",
    "contest_folder = 'round1'"
   ]
  },
  {
   "cell_type": "code",
   "execution_count": 2,
   "id": "bb19edb0",
   "metadata": {},
   "outputs": [],
   "source": [
    "from analysis import get_current_status"
   ]
  },
  {
   "cell_type": "code",
   "execution_count": 3,
   "id": "3a47087c",
   "metadata": {},
   "outputs": [],
   "source": [
    "df_grouped, aggregated_df = get_current_status(contest_folder)"
   ]
  },
  {
   "cell_type": "code",
   "execution_count": 4,
   "id": "f9c06c1b",
   "metadata": {},
   "outputs": [
    {
     "data": {
      "text/html": [
       "<div>\n",
       "<style scoped>\n",
       "    .dataframe tbody tr th:only-of-type {\n",
       "        vertical-align: middle;\n",
       "    }\n",
       "\n",
       "    .dataframe tbody tr th {\n",
       "        vertical-align: top;\n",
       "    }\n",
       "\n",
       "    .dataframe thead th {\n",
       "        text-align: right;\n",
       "    }\n",
       "</style>\n",
       "<table border=\"1\" class=\"dataframe\">\n",
       "  <thead>\n",
       "    <tr style=\"text-align: right;\">\n",
       "      <th></th>\n",
       "      <th>problem_code</th>\n",
       "      <th>solution_id</th>\n",
       "      <th>problem_name</th>\n",
       "      <th>statement</th>\n",
       "      <th>sample_in</th>\n",
       "      <th>sample_out</th>\n",
       "      <th>full_in</th>\n",
       "      <th>execution_response</th>\n",
       "      <th>execution_code</th>\n",
       "      <th>execution_sample_out</th>\n",
       "      <th>execution_full_out</th>\n",
       "      <th>case_string</th>\n",
       "      <th>case_string_found</th>\n",
       "      <th>sample_out_found</th>\n",
       "    </tr>\n",
       "  </thead>\n",
       "  <tbody>\n",
       "    <tr>\n",
       "      <th>0</th>\n",
       "      <td>prime_subtractorization</td>\n",
       "      <td>000</td>\n",
       "      <td>Prime Subtractorization</td>\n",
       "      <td>A positive integer is an *$N$-subtractorizatio...</td>\n",
       "      <td>2\\n5\\n8\\n</td>\n",
       "      <td>Case #1: 2\\nCase #2: 3\\n</td>\n",
       "      <td>110\\n5\\n8\\n1\\n6\\n7\\n4170220\\n9971849\\n10000000...</td>\n",
       "      <td>**Key Findings:**\\n\\n1. **Prime Generation:** ...</td>\n",
       "      <td>import sys\\nimport numpy as np\\n\\ndef main():\\...</td>\n",
       "      <td>None</td>\n",
       "      <td>None</td>\n",
       "      <td>Case #110</td>\n",
       "      <td>False</td>\n",
       "      <td>False</td>\n",
       "    </tr>\n",
       "  </tbody>\n",
       "</table>\n",
       "</div>"
      ],
      "text/plain": [
       "              problem_code solution_id             problem_name  \\\n",
       "0  prime_subtractorization         000  Prime Subtractorization   \n",
       "\n",
       "                                           statement  sample_in  \\\n",
       "0  A positive integer is an *$N$-subtractorizatio...  2\\n5\\n8\\n   \n",
       "\n",
       "                 sample_out  \\\n",
       "0  Case #1: 2\\nCase #2: 3\\n   \n",
       "\n",
       "                                             full_in  \\\n",
       "0  110\\n5\\n8\\n1\\n6\\n7\\n4170220\\n9971849\\n10000000...   \n",
       "\n",
       "                                  execution_response  \\\n",
       "0  **Key Findings:**\\n\\n1. **Prime Generation:** ...   \n",
       "\n",
       "                                      execution_code execution_sample_out  \\\n",
       "0  import sys\\nimport numpy as np\\n\\ndef main():\\...                 None   \n",
       "\n",
       "  execution_full_out case_string  case_string_found  sample_out_found  \n",
       "0               None   Case #110              False             False  "
      ]
     },
     "execution_count": 4,
     "metadata": {},
     "output_type": "execute_result"
    }
   ],
   "source": [
    "df_grouped.head(1)"
   ]
  },
  {
   "cell_type": "code",
   "execution_count": 5,
   "id": "9f5ca8b0",
   "metadata": {},
   "outputs": [
    {
     "data": {
      "text/html": [
       "<div>\n",
       "<style scoped>\n",
       "    .dataframe tbody tr th:only-of-type {\n",
       "        vertical-align: middle;\n",
       "    }\n",
       "\n",
       "    .dataframe tbody tr th {\n",
       "        vertical-align: top;\n",
       "    }\n",
       "\n",
       "    .dataframe thead th {\n",
       "        text-align: right;\n",
       "    }\n",
       "</style>\n",
       "<table border=\"1\" class=\"dataframe\">\n",
       "  <thead>\n",
       "    <tr style=\"text-align: right;\">\n",
       "      <th></th>\n",
       "      <th>problem_code</th>\n",
       "      <th>problem_name</th>\n",
       "      <th>statement</th>\n",
       "      <th>sample_in</th>\n",
       "      <th>sample_out</th>\n",
       "      <th>full_in</th>\n",
       "      <th>solution_id</th>\n",
       "      <th>execution_response</th>\n",
       "      <th>execution_code</th>\n",
       "      <th>execution_sample_out</th>\n",
       "      <th>execution_full_out</th>\n",
       "      <th>case_string</th>\n",
       "      <th>case_string_found</th>\n",
       "      <th>sample_out_found</th>\n",
       "      <th>hash</th>\n",
       "      <th>status</th>\n",
       "      <th>timestring</th>\n",
       "    </tr>\n",
       "  </thead>\n",
       "  <tbody>\n",
       "    <tr>\n",
       "      <th>0</th>\n",
       "      <td>subsonic_subway</td>\n",
       "      <td>Subsonic Subway</td>\n",
       "      <td>When he's not busy fighting with Dr. Robotnik,...</td>\n",
       "      <td>4\\n3\\n0 10\\n0 10\\n0 10\\n4\\n0 3\\n1 4\\n1 2\\n0 10...</td>\n",
       "      <td>Case #1: 0.3\\nCase #2: 1.5\\nCase #3: -1\\nCase ...</td>\n",
       "      <td>111\\n3\\n0 10\\n0 10\\n0 10\\n4\\n0 3\\n1 4\\n1 2\\n0 ...</td>\n",
       "      <td>[000, 001]</td>\n",
       "      <td>[**Key Findings:**\\n\\n1. **Understanding the P...</td>\n",
       "      <td>[import sys\\n\\ndef main():\\n    import sys\\n  ...</td>\n",
       "      <td>[Case #1: 0.3\\nCase #2: 1.5\\nCase #3: -1\\nCase...</td>\n",
       "      <td>[Case #1: 0.3\\nCase #2: 1.5\\nCase #3: -1\\nCase...</td>\n",
       "      <td>[Case #111, Case #111]</td>\n",
       "      <td>[True, True]</td>\n",
       "      <td>[True, False]</td>\n",
       "      <td>40ad7bc7</td>\n",
       "      <td>not_analyzed</td>\n",
       "      <td>4623</td>\n",
       "    </tr>\n",
       "    <tr>\n",
       "      <th>1</th>\n",
       "      <td>substantial_losses</td>\n",
       "      <td>Substantial Losses</td>\n",
       "      <td>You currently weigh $W$ units, but you would i...</td>\n",
       "      <td>5\\n201 200 1\\n185 183 2\\n250 180 0\\n7766554433...</td>\n",
       "      <td>Case #1: 3\\nCase #2: 10\\nCase #3: 70\\nCase #4:...</td>\n",
       "      <td>114\\n201 200 1\\n185 183 2\\n250 180 0\\n77665544...</td>\n",
       "      <td>[000, 001]</td>\n",
       "      <td>[**Key Findings:**\\n\\n1. **Understanding the P...</td>\n",
       "      <td>[import sys\\n\\nMOD = 998244353\\n\\ndef main():\\...</td>\n",
       "      <td>[Case #1: 3\\nCase #2: 10\\nCase #3: 70\\nCase #4...</td>\n",
       "      <td>[Case #1: 3\\nCase #2: 10\\nCase #3: 70\\nCase #4...</td>\n",
       "      <td>[Case #114, Case #114]</td>\n",
       "      <td>[True, True]</td>\n",
       "      <td>[True, True]</td>\n",
       "      <td>3b8f5638</td>\n",
       "      <td>not_analyzed</td>\n",
       "      <td>4623</td>\n",
       "    </tr>\n",
       "    <tr>\n",
       "      <th>2</th>\n",
       "      <td>substitution_cipher</td>\n",
       "      <td>Substitution Cipher</td>\n",
       "      <td>You’ve probably seen the most classic substitu...</td>\n",
       "      <td>6\\n??2 3\\n135201 1\\n?35 2\\n1?0 2\\n1122 1\\n3???...</td>\n",
       "      <td>Case #1: 122 3\\nCase #2: 135201 2\\nCase #3: 13...</td>\n",
       "      <td>128\\n??2 3\\n135201 1\\n?35 2\\n1?0 2\\n1122 1\\n3?...</td>\n",
       "      <td>[001, 002]</td>\n",
       "      <td>[To solve this problem efficiently within the ...</td>\n",
       "      <td>[import sys\\nimport threading\\nMOD = 998244353...</td>\n",
       "      <td>[Case #1:  116\\nCase #2: 135201 2\\nCase #3: 13...</td>\n",
       "      <td>[Case #1:  116\\nCase #2: 135201 2\\nCase #3: 13...</td>\n",
       "      <td>[Case #128, Case #128]</td>\n",
       "      <td>[True, True]</td>\n",
       "      <td>[False, False]</td>\n",
       "      <td>8efece30</td>\n",
       "      <td>not_analyzed</td>\n",
       "      <td>4623</td>\n",
       "    </tr>\n",
       "  </tbody>\n",
       "</table>\n",
       "</div>"
      ],
      "text/plain": [
       "          problem_code         problem_name  \\\n",
       "0      subsonic_subway      Subsonic Subway   \n",
       "1   substantial_losses   Substantial Losses   \n",
       "2  substitution_cipher  Substitution Cipher   \n",
       "\n",
       "                                           statement  \\\n",
       "0  When he's not busy fighting with Dr. Robotnik,...   \n",
       "1  You currently weigh $W$ units, but you would i...   \n",
       "2  You’ve probably seen the most classic substitu...   \n",
       "\n",
       "                                           sample_in  \\\n",
       "0  4\\n3\\n0 10\\n0 10\\n0 10\\n4\\n0 3\\n1 4\\n1 2\\n0 10...   \n",
       "1  5\\n201 200 1\\n185 183 2\\n250 180 0\\n7766554433...   \n",
       "2  6\\n??2 3\\n135201 1\\n?35 2\\n1?0 2\\n1122 1\\n3???...   \n",
       "\n",
       "                                          sample_out  \\\n",
       "0  Case #1: 0.3\\nCase #2: 1.5\\nCase #3: -1\\nCase ...   \n",
       "1  Case #1: 3\\nCase #2: 10\\nCase #3: 70\\nCase #4:...   \n",
       "2  Case #1: 122 3\\nCase #2: 135201 2\\nCase #3: 13...   \n",
       "\n",
       "                                             full_in solution_id  \\\n",
       "0  111\\n3\\n0 10\\n0 10\\n0 10\\n4\\n0 3\\n1 4\\n1 2\\n0 ...  [000, 001]   \n",
       "1  114\\n201 200 1\\n185 183 2\\n250 180 0\\n77665544...  [000, 001]   \n",
       "2  128\\n??2 3\\n135201 1\\n?35 2\\n1?0 2\\n1122 1\\n3?...  [001, 002]   \n",
       "\n",
       "                                  execution_response  \\\n",
       "0  [**Key Findings:**\\n\\n1. **Understanding the P...   \n",
       "1  [**Key Findings:**\\n\\n1. **Understanding the P...   \n",
       "2  [To solve this problem efficiently within the ...   \n",
       "\n",
       "                                      execution_code  \\\n",
       "0  [import sys\\n\\ndef main():\\n    import sys\\n  ...   \n",
       "1  [import sys\\n\\nMOD = 998244353\\n\\ndef main():\\...   \n",
       "2  [import sys\\nimport threading\\nMOD = 998244353...   \n",
       "\n",
       "                                execution_sample_out  \\\n",
       "0  [Case #1: 0.3\\nCase #2: 1.5\\nCase #3: -1\\nCase...   \n",
       "1  [Case #1: 3\\nCase #2: 10\\nCase #3: 70\\nCase #4...   \n",
       "2  [Case #1:  116\\nCase #2: 135201 2\\nCase #3: 13...   \n",
       "\n",
       "                                  execution_full_out             case_string  \\\n",
       "0  [Case #1: 0.3\\nCase #2: 1.5\\nCase #3: -1\\nCase...  [Case #111, Case #111]   \n",
       "1  [Case #1: 3\\nCase #2: 10\\nCase #3: 70\\nCase #4...  [Case #114, Case #114]   \n",
       "2  [Case #1:  116\\nCase #2: 135201 2\\nCase #3: 13...  [Case #128, Case #128]   \n",
       "\n",
       "  case_string_found sample_out_found      hash        status timestring  \n",
       "0      [True, True]    [True, False]  40ad7bc7  not_analyzed       4623  \n",
       "1      [True, True]     [True, True]  3b8f5638  not_analyzed       4623  \n",
       "2      [True, True]   [False, False]  8efece30  not_analyzed       4623  "
      ]
     },
     "execution_count": 5,
     "metadata": {},
     "output_type": "execute_result"
    }
   ],
   "source": [
    "aggregated_df"
   ]
  },
  {
   "cell_type": "code",
   "execution_count": 6,
   "id": "c0329856",
   "metadata": {},
   "outputs": [
    {
     "data": {
      "text/plain": [
       "dict_keys(['problem_code', 'problem_name', 'statement', 'sample_in', 'sample_out', 'full_in', 'solution_id', 'execution_response', 'execution_code', 'execution_sample_out', 'execution_full_out', 'case_string', 'case_string_found', 'sample_out_found', 'hash', 'status', 'timestring'])"
      ]
     },
     "execution_count": 6,
     "metadata": {},
     "output_type": "execute_result"
    }
   ],
   "source": [
    "aggregated_df.to_dict(orient='records')[0].keys()"
   ]
  },
  {
   "cell_type": "code",
   "execution_count": 7,
   "id": "f5db068a",
   "metadata": {},
   "outputs": [
    {
     "data": {
      "text/plain": [
       "[True, False]"
      ]
     },
     "execution_count": 7,
     "metadata": {},
     "output_type": "execute_result"
    }
   ],
   "source": [
    "aggregated_df[\"sample_out_found\"][0]"
   ]
  },
  {
   "cell_type": "code",
   "execution_count": null,
   "id": "52f72631",
   "metadata": {},
   "outputs": [],
   "source": [
    "# aggregated_df[0]"
   ]
  },
  {
   "cell_type": "code",
   "execution_count": null,
   "id": "6f5b97af",
   "metadata": {},
   "outputs": [],
   "source": []
  },
  {
   "cell_type": "code",
   "execution_count": null,
   "id": "484a204d",
   "metadata": {},
   "outputs": [],
   "source": []
  }
 ],
 "metadata": {
  "kernelspec": {
   "display_name": "Python 3 (ipykernel)",
   "language": "python",
   "name": "python3"
  },
  "language_info": {
   "codemirror_mode": {
    "name": "ipython",
    "version": 3
   },
   "file_extension": ".py",
   "mimetype": "text/x-python",
   "name": "python",
   "nbconvert_exporter": "python",
   "pygments_lexer": "ipython3",
   "version": "3.9.7"
  }
 },
 "nbformat": 4,
 "nbformat_minor": 5
}
