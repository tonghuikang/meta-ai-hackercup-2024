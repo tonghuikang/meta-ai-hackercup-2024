{
 "cells": [
  {
   "cell_type": "code",
   "execution_count": 1,
   "id": "39f83bc0",
   "metadata": {},
   "outputs": [],
   "source": [
    "# contest_folder = 'practice'   # CHANGE THIS\n",
    "contest_folder = 'contestData'\n",
    "# contest_folder = 'round1'"
   ]
  },
  {
   "cell_type": "code",
   "execution_count": 6,
   "id": "bb19edb0",
   "metadata": {},
   "outputs": [],
   "source": [
    "from analysis import get_current_status"
   ]
  },
  {
   "cell_type": "code",
   "execution_count": 9,
   "id": "3a47087c",
   "metadata": {},
   "outputs": [],
   "source": [
    "df_grouped, aggregated_df = get_current_status(contest_folder)"
   ]
  },
  {
   "cell_type": "code",
   "execution_count": 12,
   "id": "f9c06c1b",
   "metadata": {},
   "outputs": [
    {
     "data": {
      "text/html": [
       "<div>\n",
       "<style scoped>\n",
       "    .dataframe tbody tr th:only-of-type {\n",
       "        vertical-align: middle;\n",
       "    }\n",
       "\n",
       "    .dataframe tbody tr th {\n",
       "        vertical-align: top;\n",
       "    }\n",
       "\n",
       "    .dataframe thead th {\n",
       "        text-align: right;\n",
       "    }\n",
       "</style>\n",
       "<table border=\"1\" class=\"dataframe\">\n",
       "  <thead>\n",
       "    <tr style=\"text-align: right;\">\n",
       "      <th></th>\n",
       "      <th>problem_code</th>\n",
       "      <th>solution_id</th>\n",
       "      <th>problem_name</th>\n",
       "      <th>statement</th>\n",
       "      <th>sample_in</th>\n",
       "      <th>sample_out</th>\n",
       "      <th>full_in</th>\n",
       "      <th>execution_response</th>\n",
       "      <th>execution_code</th>\n",
       "      <th>execution_sample_out</th>\n",
       "      <th>execution_full_out</th>\n",
       "      <th>case_string</th>\n",
       "      <th>case_string_found</th>\n",
       "      <th>sample_out_found</th>\n",
       "    </tr>\n",
       "  </thead>\n",
       "  <tbody>\n",
       "    <tr>\n",
       "      <th>0</th>\n",
       "      <td>chicken_tender</td>\n",
       "      <td>002</td>\n",
       "      <td>Chicken Tender</td>\n",
       "      <td>As chef de cuisine of Snacker Cup, you've been...</td>\n",
       "      <td>3\\n7 10 5\\n15 5\\n19 7\\n16 11\\n10 12\\n4 10\\n2 6...</td>\n",
       "      <td>Case #1: Yes\\nCase #2: No\\nCase #3: Yes\\n</td>\n",
       "      <td>30\\n6 31 22\\n0 0\\n32 0\\n31 46\\n26 51\\n6 51\\n1 ...</td>\n",
       "      <td>To solve this problem, we need to determine wh...</td>\n",
       "      <td>import sys\\nimport math\\n\\ndef readints():\\n  ...</td>\n",
       "      <td>Case #1: Yes\\nCase #2: Yes\\nCase #3: Yes\\n</td>\n",
       "      <td>Case #1: Yes\\nCase #2: No\\nCase #3: No\\nCase #...</td>\n",
       "      <td>Case #30</td>\n",
       "      <td>True</td>\n",
       "      <td>False</td>\n",
       "    </tr>\n",
       "  </tbody>\n",
       "</table>\n",
       "</div>"
      ],
      "text/plain": [
       "     problem_code solution_id    problem_name  \\\n",
       "0  chicken_tender         002  Chicken Tender   \n",
       "\n",
       "                                           statement  \\\n",
       "0  As chef de cuisine of Snacker Cup, you've been...   \n",
       "\n",
       "                                           sample_in  \\\n",
       "0  3\\n7 10 5\\n15 5\\n19 7\\n16 11\\n10 12\\n4 10\\n2 6...   \n",
       "\n",
       "                                  sample_out  \\\n",
       "0  Case #1: Yes\\nCase #2: No\\nCase #3: Yes\\n   \n",
       "\n",
       "                                             full_in  \\\n",
       "0  30\\n6 31 22\\n0 0\\n32 0\\n31 46\\n26 51\\n6 51\\n1 ...   \n",
       "\n",
       "                                  execution_response  \\\n",
       "0  To solve this problem, we need to determine wh...   \n",
       "\n",
       "                                      execution_code  \\\n",
       "0  import sys\\nimport math\\n\\ndef readints():\\n  ...   \n",
       "\n",
       "                         execution_sample_out  \\\n",
       "0  Case #1: Yes\\nCase #2: Yes\\nCase #3: Yes\\n   \n",
       "\n",
       "                                  execution_full_out case_string  \\\n",
       "0  Case #1: Yes\\nCase #2: No\\nCase #3: No\\nCase #...    Case #30   \n",
       "\n",
       "   case_string_found  sample_out_found  \n",
       "0               True             False  "
      ]
     },
     "execution_count": 12,
     "metadata": {},
     "output_type": "execute_result"
    }
   ],
   "source": [
    "df_grouped.head(1)"
   ]
  },
  {
   "cell_type": "code",
   "execution_count": 13,
   "id": "9f5ca8b0",
   "metadata": {},
   "outputs": [
    {
     "data": {
      "text/html": [
       "<div>\n",
       "<style scoped>\n",
       "    .dataframe tbody tr th:only-of-type {\n",
       "        vertical-align: middle;\n",
       "    }\n",
       "\n",
       "    .dataframe tbody tr th {\n",
       "        vertical-align: top;\n",
       "    }\n",
       "\n",
       "    .dataframe thead th {\n",
       "        text-align: right;\n",
       "    }\n",
       "</style>\n",
       "<table border=\"1\" class=\"dataframe\">\n",
       "  <thead>\n",
       "    <tr style=\"text-align: right;\">\n",
       "      <th></th>\n",
       "      <th>problem_code</th>\n",
       "      <th>problem_name</th>\n",
       "      <th>statement</th>\n",
       "      <th>sample_in</th>\n",
       "      <th>sample_out</th>\n",
       "      <th>full_in</th>\n",
       "      <th>solution_id</th>\n",
       "      <th>execution_response</th>\n",
       "      <th>execution_code</th>\n",
       "      <th>execution_sample_out</th>\n",
       "      <th>execution_full_out</th>\n",
       "      <th>case_string</th>\n",
       "      <th>case_string_found</th>\n",
       "      <th>sample_out_found</th>\n",
       "      <th>hash</th>\n",
       "      <th>status</th>\n",
       "      <th>timestring</th>\n",
       "    </tr>\n",
       "  </thead>\n",
       "  <tbody>\n",
       "    <tr>\n",
       "      <th>0</th>\n",
       "      <td>chicken_tender</td>\n",
       "      <td>Chicken Tender</td>\n",
       "      <td>As chef de cuisine of Snacker Cup, you've been...</td>\n",
       "      <td>3\\n7 10 5\\n15 5\\n19 7\\n16 11\\n10 12\\n4 10\\n2 6...</td>\n",
       "      <td>Case #1: Yes\\nCase #2: No\\nCase #3: Yes\\n</td>\n",
       "      <td>30\\n6 31 22\\n0 0\\n32 0\\n31 46\\n26 51\\n6 51\\n1 ...</td>\n",
       "      <td>[002, 003, 004]</td>\n",
       "      <td>[To solve this problem, we need to determine w...</td>\n",
       "      <td>[import sys\\nimport math\\n\\ndef readints():\\n ...</td>\n",
       "      <td>[Case #1: Yes\\nCase #2: Yes\\nCase #3: Yes\\n, C...</td>\n",
       "      <td>[Case #1: Yes\\nCase #2: No\\nCase #3: No\\nCase ...</td>\n",
       "      <td>[Case #30, Case #30, Case #30]</td>\n",
       "      <td>[True, True, True]</td>\n",
       "      <td>[False, False, False]</td>\n",
       "      <td>849f6a6f</td>\n",
       "      <td>not_analyzed</td>\n",
       "      <td>0040</td>\n",
       "    </tr>\n",
       "    <tr>\n",
       "      <th>1</th>\n",
       "      <td>distributed_server</td>\n",
       "      <td>Distributed Server</td>\n",
       "      <td>As the organizer of Meta Snacker Cup, you've b...</td>\n",
       "      <td>3\\n3 4\\nQdMa\\naMex\\nPeta\\n4 4\\nZHaa\\nHaba\\nack...</td>\n",
       "      <td>Case #1: meta\\nCase #2: hacker\\nCase #3: cup\\n</td>\n",
       "      <td>70\\n20 20\\ncAbdcaaacDdccbdcabdb\\nBaccAabddbBbc...</td>\n",
       "      <td>[002]</td>\n",
       "      <td>[**Key Findings when Solving the Problem:**\\n\\...</td>\n",
       "      <td>[import sys\\nimport itertools\\n\\ndef readints(...</td>\n",
       "      <td>[Case #1: meta\\nCase #2: haczdr\\nCase #3: cup\\n]</td>\n",
       "      <td>[Case #1: aabda\\nCase #2: aaabbbbccddcceeeedef...</td>\n",
       "      <td>[Case #70]</td>\n",
       "      <td>[True]</td>\n",
       "      <td>[False]</td>\n",
       "      <td>d3f9577d</td>\n",
       "      <td>not_analyzed</td>\n",
       "      <td>0040</td>\n",
       "    </tr>\n",
       "    <tr>\n",
       "      <th>2</th>\n",
       "      <td>snake_cover</td>\n",
       "      <td>Snake Cover</td>\n",
       "      <td>*\"There's a snake in my fruit!\"*\\n\\nWhile unlo...</td>\n",
       "      <td>2\\n5 3\\nL 3\\nR 1\\nS 5\\n10 4\\nR 2\\nR 1\\nR 3\\nR 2\\n</td>\n",
       "      <td>Case #1: 21\\nCase #2: 66\\n</td>\n",
       "      <td>105\\n10000 1000\\nL 5467\\nL 6513\\nR 9951\\nR 161...</td>\n",
       "      <td>[000]</td>\n",
       "      <td>[**Key Findings:**\\n\\n1. **Snake Movement Repr...</td>\n",
       "      <td>[import sys\\nimport sys\\nimport sys\\nfrom coll...</td>\n",
       "      <td>[Case #1: 21\\nCase #2: 11\\n]</td>\n",
       "      <td>[Case #1: 224798279\\nCase #2: 649461795\\nCase ...</td>\n",
       "      <td>[Case #105]</td>\n",
       "      <td>[True]</td>\n",
       "      <td>[False]</td>\n",
       "      <td>031e2626</td>\n",
       "      <td>not_analyzed</td>\n",
       "      <td>0040</td>\n",
       "    </tr>\n",
       "  </tbody>\n",
       "</table>\n",
       "</div>"
      ],
      "text/plain": [
       "         problem_code        problem_name  \\\n",
       "0      chicken_tender      Chicken Tender   \n",
       "1  distributed_server  Distributed Server   \n",
       "2         snake_cover         Snake Cover   \n",
       "\n",
       "                                           statement  \\\n",
       "0  As chef de cuisine of Snacker Cup, you've been...   \n",
       "1  As the organizer of Meta Snacker Cup, you've b...   \n",
       "2  *\"There's a snake in my fruit!\"*\\n\\nWhile unlo...   \n",
       "\n",
       "                                           sample_in  \\\n",
       "0  3\\n7 10 5\\n15 5\\n19 7\\n16 11\\n10 12\\n4 10\\n2 6...   \n",
       "1  3\\n3 4\\nQdMa\\naMex\\nPeta\\n4 4\\nZHaa\\nHaba\\nack...   \n",
       "2  2\\n5 3\\nL 3\\nR 1\\nS 5\\n10 4\\nR 2\\nR 1\\nR 3\\nR 2\\n   \n",
       "\n",
       "                                       sample_out  \\\n",
       "0       Case #1: Yes\\nCase #2: No\\nCase #3: Yes\\n   \n",
       "1  Case #1: meta\\nCase #2: hacker\\nCase #3: cup\\n   \n",
       "2                      Case #1: 21\\nCase #2: 66\\n   \n",
       "\n",
       "                                             full_in      solution_id  \\\n",
       "0  30\\n6 31 22\\n0 0\\n32 0\\n31 46\\n26 51\\n6 51\\n1 ...  [002, 003, 004]   \n",
       "1  70\\n20 20\\ncAbdcaaacDdccbdcabdb\\nBaccAabddbBbc...            [002]   \n",
       "2  105\\n10000 1000\\nL 5467\\nL 6513\\nR 9951\\nR 161...            [000]   \n",
       "\n",
       "                                  execution_response  \\\n",
       "0  [To solve this problem, we need to determine w...   \n",
       "1  [**Key Findings when Solving the Problem:**\\n\\...   \n",
       "2  [**Key Findings:**\\n\\n1. **Snake Movement Repr...   \n",
       "\n",
       "                                      execution_code  \\\n",
       "0  [import sys\\nimport math\\n\\ndef readints():\\n ...   \n",
       "1  [import sys\\nimport itertools\\n\\ndef readints(...   \n",
       "2  [import sys\\nimport sys\\nimport sys\\nfrom coll...   \n",
       "\n",
       "                                execution_sample_out  \\\n",
       "0  [Case #1: Yes\\nCase #2: Yes\\nCase #3: Yes\\n, C...   \n",
       "1   [Case #1: meta\\nCase #2: haczdr\\nCase #3: cup\\n]   \n",
       "2                       [Case #1: 21\\nCase #2: 11\\n]   \n",
       "\n",
       "                                  execution_full_out  \\\n",
       "0  [Case #1: Yes\\nCase #2: No\\nCase #3: No\\nCase ...   \n",
       "1  [Case #1: aabda\\nCase #2: aaabbbbccddcceeeedef...   \n",
       "2  [Case #1: 224798279\\nCase #2: 649461795\\nCase ...   \n",
       "\n",
       "                      case_string   case_string_found       sample_out_found  \\\n",
       "0  [Case #30, Case #30, Case #30]  [True, True, True]  [False, False, False]   \n",
       "1                      [Case #70]              [True]                [False]   \n",
       "2                     [Case #105]              [True]                [False]   \n",
       "\n",
       "       hash        status timestring  \n",
       "0  849f6a6f  not_analyzed       0040  \n",
       "1  d3f9577d  not_analyzed       0040  \n",
       "2  031e2626  not_analyzed       0040  "
      ]
     },
     "execution_count": 13,
     "metadata": {},
     "output_type": "execute_result"
    }
   ],
   "source": [
    "aggregated_df"
   ]
  },
  {
   "cell_type": "code",
   "execution_count": 6,
   "id": "c0329856",
   "metadata": {},
   "outputs": [
    {
     "data": {
      "text/plain": [
       "dict_keys(['problem_code', 'problem_name', 'statement', 'sample_in', 'sample_out', 'full_in', 'solution_id', 'execution_response', 'execution_code', 'execution_sample_out', 'execution_full_out', 'case_string', 'case_string_found', 'sample_out_found', 'hash', 'status', 'timestring'])"
      ]
     },
     "execution_count": 6,
     "metadata": {},
     "output_type": "execute_result"
    }
   ],
   "source": [
    "aggregated_df.to_dict(orient='records')[0].keys()"
   ]
  },
  {
   "cell_type": "code",
   "execution_count": 7,
   "id": "f5db068a",
   "metadata": {},
   "outputs": [
    {
     "data": {
      "text/plain": [
       "[True, False]"
      ]
     },
     "execution_count": 7,
     "metadata": {},
     "output_type": "execute_result"
    }
   ],
   "source": [
    "aggregated_df[\"sample_out_found\"][0]"
   ]
  },
  {
   "cell_type": "code",
   "execution_count": null,
   "id": "52f72631",
   "metadata": {},
   "outputs": [],
   "source": [
    "# aggregated_df[0]"
   ]
  },
  {
   "cell_type": "code",
   "execution_count": null,
   "id": "6f5b97af",
   "metadata": {},
   "outputs": [],
   "source": []
  },
  {
   "cell_type": "code",
   "execution_count": null,
   "id": "484a204d",
   "metadata": {},
   "outputs": [],
   "source": []
  }
 ],
 "metadata": {
  "kernelspec": {
   "display_name": "Python 3 (ipykernel)",
   "language": "python",
   "name": "python3"
  },
  "language_info": {
   "codemirror_mode": {
    "name": "ipython",
    "version": 3
   },
   "file_extension": ".py",
   "mimetype": "text/x-python",
   "name": "python",
   "nbconvert_exporter": "python",
   "pygments_lexer": "ipython3",
   "version": "3.9.7"
  }
 },
 "nbformat": 4,
 "nbformat_minor": 5
}
