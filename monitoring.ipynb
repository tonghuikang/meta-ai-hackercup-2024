{
 "cells": [
  {
   "cell_type": "code",
   "execution_count": 8,
   "id": "39f83bc0",
   "metadata": {},
   "outputs": [],
   "source": [
    "# contest_folder = 'practice'   # CHANGE THIS\n",
    "contest_folder = 'contestData'\n",
    "contest_folder = 'round1'"
   ]
  },
  {
   "cell_type": "code",
   "execution_count": 9,
   "id": "bb19edb0",
   "metadata": {},
   "outputs": [],
   "source": [
    "from analysis import get_current_status"
   ]
  },
  {
   "cell_type": "code",
   "execution_count": 10,
   "id": "3a47087c",
   "metadata": {},
   "outputs": [],
   "source": [
    "df_grouped, aggregated_df = get_current_status(contest_folder)"
   ]
  },
  {
   "cell_type": "code",
   "execution_count": 11,
   "id": "f9c06c1b",
   "metadata": {},
   "outputs": [],
   "source": [
    "# df_grouped.head(1)"
   ]
  },
  {
   "cell_type": "code",
   "execution_count": 12,
   "id": "9f5ca8b0",
   "metadata": {},
   "outputs": [
    {
     "data": {
      "text/html": [
       "<div>\n",
       "<style scoped>\n",
       "    .dataframe tbody tr th:only-of-type {\n",
       "        vertical-align: middle;\n",
       "    }\n",
       "\n",
       "    .dataframe tbody tr th {\n",
       "        vertical-align: top;\n",
       "    }\n",
       "\n",
       "    .dataframe thead th {\n",
       "        text-align: right;\n",
       "    }\n",
       "</style>\n",
       "<table border=\"1\" class=\"dataframe\">\n",
       "  <thead>\n",
       "    <tr style=\"text-align: right;\">\n",
       "      <th></th>\n",
       "      <th>problem_code</th>\n",
       "      <th>problem_name</th>\n",
       "      <th>statement</th>\n",
       "      <th>sample_in</th>\n",
       "      <th>sample_out</th>\n",
       "      <th>full_in</th>\n",
       "      <th>solution_id</th>\n",
       "      <th>execution_response</th>\n",
       "      <th>execution_code</th>\n",
       "      <th>execution_sample_out</th>\n",
       "      <th>execution_full_out</th>\n",
       "      <th>case_string</th>\n",
       "      <th>case_string_found</th>\n",
       "      <th>sample_out_found</th>\n",
       "      <th>hash</th>\n",
       "      <th>status</th>\n",
       "      <th>timestring</th>\n",
       "    </tr>\n",
       "  </thead>\n",
       "  <tbody>\n",
       "    <tr>\n",
       "      <th>0</th>\n",
       "      <td>prime_subtractorization</td>\n",
       "      <td>Prime Subtractorization</td>\n",
       "      <td>A positive integer is an *$N$-subtractorizatio...</td>\n",
       "      <td>2\\n5\\n8\\n</td>\n",
       "      <td>Case #1: 2\\nCase #2: 3\\n</td>\n",
       "      <td>110\\n5\\n8\\n1\\n6\\n7\\n4170220\\n9971849\\n10000000...</td>\n",
       "      <td>[002, 006]</td>\n",
       "      <td>[### Key Findings\\n\\nTo solve the problem of f...</td>\n",
       "      <td>[import sys\\nimport numpy as np\\n\\ndef sieve_o...</td>\n",
       "      <td>[Case #1: 2\\nCase #2: 3\\n, Case #1: 3\\nCase #2...</td>\n",
       "      <td>[Case #1: 2\\nCase #2: 3\\nCase #3: 0\\nCase #4: ...</td>\n",
       "      <td>[Case #110, Case #110]</td>\n",
       "      <td>[True, True]</td>\n",
       "      <td>[True, False]</td>\n",
       "      <td>8dc04523</td>\n",
       "      <td>analyzed</td>\n",
       "      <td>5828</td>\n",
       "    </tr>\n",
       "    <tr>\n",
       "      <th>1</th>\n",
       "      <td>subsonic_subway</td>\n",
       "      <td>Subsonic Subway</td>\n",
       "      <td>When he's not busy fighting with Dr. Robotnik,...</td>\n",
       "      <td>4\\n3\\n0 10\\n0 10\\n0 10\\n4\\n0 3\\n1 4\\n1 2\\n0 10...</td>\n",
       "      <td>Case #1: 0.3\\nCase #2: 1.5\\nCase #3: -1\\nCase ...</td>\n",
       "      <td>111\\n3\\n0 10\\n0 10\\n0 10\\n4\\n0 3\\n1 4\\n1 2\\n0 ...</td>\n",
       "      <td>[000, 001, 002, 003, 004, 005, 006, 007, 008, ...</td>\n",
       "      <td>[**Key Findings:**\\n\\n1. **Speed Constraints p...</td>\n",
       "      <td>[import sys\\nimport math\\n\\ndef main():\\n    i...</td>\n",
       "      <td>[Case #1: 0.3\\nCase #2: 1.5\\nCase #3: -1\\nCase...</td>\n",
       "      <td>[Case #1: 0.3\\nCase #2: 1.5\\nCase #3: -1\\nCase...</td>\n",
       "      <td>[Case #111, Case #111, Case #111, Case #111, C...</td>\n",
       "      <td>[True, True, True, True, True, True, True, Tru...</td>\n",
       "      <td>[True, True, True, True, True, False, True, Tr...</td>\n",
       "      <td>67e4aada</td>\n",
       "      <td>analyzing</td>\n",
       "      <td>5828</td>\n",
       "    </tr>\n",
       "    <tr>\n",
       "      <th>2</th>\n",
       "      <td>substantial_losses</td>\n",
       "      <td>Substantial Losses</td>\n",
       "      <td>You currently weigh $W$ units, but you would i...</td>\n",
       "      <td>5\\n201 200 1\\n185 183 2\\n250 180 0\\n7766554433...</td>\n",
       "      <td>Case #1: 3\\nCase #2: 10\\nCase #3: 70\\nCase #4:...</td>\n",
       "      <td>114\\n201 200 1\\n185 183 2\\n250 180 0\\n77665544...</td>\n",
       "      <td>[001, 003, 004, 008, 010]</td>\n",
       "      <td>[**Key Findings when Solving the Problem:**\\n\\...</td>\n",
       "      <td>[MOD = 998244353\\n\\nT = int(input())  # Number...</td>\n",
       "      <td>[Case #1: 3\\nCase #2: 10\\nCase #3: 70\\nCase #4...</td>\n",
       "      <td>[Case #1: 3\\nCase #2: 10\\nCase #3: 70\\nCase #4...</td>\n",
       "      <td>[Case #114, Case #114, Case #114, Case #114, C...</td>\n",
       "      <td>[True, True, True, True, True]</td>\n",
       "      <td>[True, True, True, True, True]</td>\n",
       "      <td>bff9fdda</td>\n",
       "      <td>analyzed</td>\n",
       "      <td>5828</td>\n",
       "    </tr>\n",
       "    <tr>\n",
       "      <th>3</th>\n",
       "      <td>substitution_cipher</td>\n",
       "      <td>Substitution Cipher</td>\n",
       "      <td>You’ve probably seen the most classic substitu...</td>\n",
       "      <td>6\\n??2 3\\n135201 1\\n?35 2\\n1?0 2\\n1122 1\\n3???...</td>\n",
       "      <td>Case #1: 122 3\\nCase #2: 135201 2\\nCase #3: 13...</td>\n",
       "      <td>128\\n??2 3\\n135201 1\\n?35 2\\n1?0 2\\n1122 1\\n3?...</td>\n",
       "      <td>[004, 007, 009, 010]</td>\n",
       "      <td>[To solve this problem efficiently, we need to...</td>\n",
       "      <td>[import sys\\nimport sys\\nimport sys\\nsys.setre...</td>\n",
       "      <td>[Case #1: 19 12\\nCase #2: 135201 2\\nCase #3: 2...</td>\n",
       "      <td>[Case #1: 19 12\\nCase #2: 135201 2\\nCase #3: 2...</td>\n",
       "      <td>[Case #128, Case #128, Case #128, Case #128]</td>\n",
       "      <td>[True, True, True, True]</td>\n",
       "      <td>[False, True, False, False]</td>\n",
       "      <td>2224838e</td>\n",
       "      <td>analyzed</td>\n",
       "      <td>5828</td>\n",
       "    </tr>\n",
       "  </tbody>\n",
       "</table>\n",
       "</div>"
      ],
      "text/plain": [
       "              problem_code             problem_name  \\\n",
       "0  prime_subtractorization  Prime Subtractorization   \n",
       "1          subsonic_subway          Subsonic Subway   \n",
       "2       substantial_losses       Substantial Losses   \n",
       "3      substitution_cipher      Substitution Cipher   \n",
       "\n",
       "                                           statement  \\\n",
       "0  A positive integer is an *$N$-subtractorizatio...   \n",
       "1  When he's not busy fighting with Dr. Robotnik,...   \n",
       "2  You currently weigh $W$ units, but you would i...   \n",
       "3  You’ve probably seen the most classic substitu...   \n",
       "\n",
       "                                           sample_in  \\\n",
       "0                                          2\\n5\\n8\\n   \n",
       "1  4\\n3\\n0 10\\n0 10\\n0 10\\n4\\n0 3\\n1 4\\n1 2\\n0 10...   \n",
       "2  5\\n201 200 1\\n185 183 2\\n250 180 0\\n7766554433...   \n",
       "3  6\\n??2 3\\n135201 1\\n?35 2\\n1?0 2\\n1122 1\\n3???...   \n",
       "\n",
       "                                          sample_out  \\\n",
       "0                           Case #1: 2\\nCase #2: 3\\n   \n",
       "1  Case #1: 0.3\\nCase #2: 1.5\\nCase #3: -1\\nCase ...   \n",
       "2  Case #1: 3\\nCase #2: 10\\nCase #3: 70\\nCase #4:...   \n",
       "3  Case #1: 122 3\\nCase #2: 135201 2\\nCase #3: 13...   \n",
       "\n",
       "                                             full_in  \\\n",
       "0  110\\n5\\n8\\n1\\n6\\n7\\n4170220\\n9971849\\n10000000...   \n",
       "1  111\\n3\\n0 10\\n0 10\\n0 10\\n4\\n0 3\\n1 4\\n1 2\\n0 ...   \n",
       "2  114\\n201 200 1\\n185 183 2\\n250 180 0\\n77665544...   \n",
       "3  128\\n??2 3\\n135201 1\\n?35 2\\n1?0 2\\n1122 1\\n3?...   \n",
       "\n",
       "                                         solution_id  \\\n",
       "0                                         [002, 006]   \n",
       "1  [000, 001, 002, 003, 004, 005, 006, 007, 008, ...   \n",
       "2                          [001, 003, 004, 008, 010]   \n",
       "3                               [004, 007, 009, 010]   \n",
       "\n",
       "                                  execution_response  \\\n",
       "0  [### Key Findings\\n\\nTo solve the problem of f...   \n",
       "1  [**Key Findings:**\\n\\n1. **Speed Constraints p...   \n",
       "2  [**Key Findings when Solving the Problem:**\\n\\...   \n",
       "3  [To solve this problem efficiently, we need to...   \n",
       "\n",
       "                                      execution_code  \\\n",
       "0  [import sys\\nimport numpy as np\\n\\ndef sieve_o...   \n",
       "1  [import sys\\nimport math\\n\\ndef main():\\n    i...   \n",
       "2  [MOD = 998244353\\n\\nT = int(input())  # Number...   \n",
       "3  [import sys\\nimport sys\\nimport sys\\nsys.setre...   \n",
       "\n",
       "                                execution_sample_out  \\\n",
       "0  [Case #1: 2\\nCase #2: 3\\n, Case #1: 3\\nCase #2...   \n",
       "1  [Case #1: 0.3\\nCase #2: 1.5\\nCase #3: -1\\nCase...   \n",
       "2  [Case #1: 3\\nCase #2: 10\\nCase #3: 70\\nCase #4...   \n",
       "3  [Case #1: 19 12\\nCase #2: 135201 2\\nCase #3: 2...   \n",
       "\n",
       "                                  execution_full_out  \\\n",
       "0  [Case #1: 2\\nCase #2: 3\\nCase #3: 0\\nCase #4: ...   \n",
       "1  [Case #1: 0.3\\nCase #2: 1.5\\nCase #3: -1\\nCase...   \n",
       "2  [Case #1: 3\\nCase #2: 10\\nCase #3: 70\\nCase #4...   \n",
       "3  [Case #1: 19 12\\nCase #2: 135201 2\\nCase #3: 2...   \n",
       "\n",
       "                                         case_string  \\\n",
       "0                             [Case #110, Case #110]   \n",
       "1  [Case #111, Case #111, Case #111, Case #111, C...   \n",
       "2  [Case #114, Case #114, Case #114, Case #114, C...   \n",
       "3       [Case #128, Case #128, Case #128, Case #128]   \n",
       "\n",
       "                                   case_string_found  \\\n",
       "0                                       [True, True]   \n",
       "1  [True, True, True, True, True, True, True, Tru...   \n",
       "2                     [True, True, True, True, True]   \n",
       "3                           [True, True, True, True]   \n",
       "\n",
       "                                    sample_out_found      hash     status  \\\n",
       "0                                      [True, False]  8dc04523   analyzed   \n",
       "1  [True, True, True, True, True, False, True, Tr...  67e4aada  analyzing   \n",
       "2                     [True, True, True, True, True]  bff9fdda   analyzed   \n",
       "3                        [False, True, False, False]  2224838e   analyzed   \n",
       "\n",
       "  timestring  \n",
       "0       5828  \n",
       "1       5828  \n",
       "2       5828  \n",
       "3       5828  "
      ]
     },
     "execution_count": 12,
     "metadata": {},
     "output_type": "execute_result"
    }
   ],
   "source": [
    "aggregated_df"
   ]
  },
  {
   "cell_type": "code",
   "execution_count": 13,
   "id": "c0329856",
   "metadata": {},
   "outputs": [
    {
     "data": {
      "text/plain": [
       "dict_keys(['problem_code', 'problem_name', 'statement', 'sample_in', 'sample_out', 'full_in', 'solution_id', 'execution_response', 'execution_code', 'execution_sample_out', 'execution_full_out', 'case_string', 'case_string_found', 'sample_out_found', 'hash', 'status', 'timestring'])"
      ]
     },
     "execution_count": 13,
     "metadata": {},
     "output_type": "execute_result"
    }
   ],
   "source": [
    "aggregated_df.to_dict(orient='records')[0].keys()"
   ]
  },
  {
   "cell_type": "code",
   "execution_count": 14,
   "id": "f5db068a",
   "metadata": {},
   "outputs": [
    {
     "data": {
      "text/plain": [
       "[True, False]"
      ]
     },
     "execution_count": 14,
     "metadata": {},
     "output_type": "execute_result"
    }
   ],
   "source": [
    "aggregated_df[\"sample_out_found\"][0]"
   ]
  },
  {
   "cell_type": "code",
   "execution_count": null,
   "id": "52f72631",
   "metadata": {},
   "outputs": [],
   "source": [
    "# aggregated_df[0]"
   ]
  },
  {
   "cell_type": "code",
   "execution_count": null,
   "id": "6f5b97af",
   "metadata": {},
   "outputs": [],
   "source": []
  },
  {
   "cell_type": "code",
   "execution_count": null,
   "id": "484a204d",
   "metadata": {},
   "outputs": [],
   "source": []
  }
 ],
 "metadata": {
  "kernelspec": {
   "display_name": "Python 3 (ipykernel)",
   "language": "python",
   "name": "python3"
  },
  "language_info": {
   "codemirror_mode": {
    "name": "ipython",
    "version": 3
   },
   "file_extension": ".py",
   "mimetype": "text/x-python",
   "name": "python",
   "nbconvert_exporter": "python",
   "pygments_lexer": "ipython3",
   "version": "3.9.7"
  }
 },
 "nbformat": 4,
 "nbformat_minor": 5
}
