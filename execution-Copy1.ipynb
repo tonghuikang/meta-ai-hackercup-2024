{
 "cells": [
  {
   "cell_type": "code",
   "execution_count": 1,
   "id": "acf39247",
   "metadata": {},
   "outputs": [],
   "source": [
    "import os\n",
    "import glob\n",
    "import shutil\n",
    "import subprocess"
   ]
  },
  {
   "cell_type": "code",
   "execution_count": 2,
   "id": "6b6bc6f9",
   "metadata": {},
   "outputs": [],
   "source": [
    "shutil.rmtree(\"execution_response\", ignore_errors=True)\n",
    "shutil.rmtree(\"execution_sample_out\", ignore_errors=True)\n",
    "shutil.rmtree(\"execution_full_out\", ignore_errors=True)\n",
    "shutil.rmtree(\"execution_code\", ignore_errors=True)\n",
    "shutil.rmtree(\"logs/judgement\", ignore_errors=True)"
   ]
  },
  {
   "cell_type": "code",
   "execution_count": 3,
   "id": "ae1644c4",
   "metadata": {},
   "outputs": [],
   "source": [
    "shutil.rmtree(\"practice\", ignore_errors=True)\n",
    "shutil.rmtree(\"round1\", ignore_errors=True)\n",
    "shutil.rmtree(\"round2\", ignore_errors=True)\n",
    "shutil.rmtree(\"round3\", ignore_errors=True)\n",
    "shutil.rmtree(\"contestData\", ignore_errors=True)\n",
    "shutil.rmtree(\"contestDataRound1\", ignore_errors=True)\n",
    "shutil.rmtree(\"contestDataRound2\", ignore_errors=True)\n",
    "shutil.rmtree(\"contestDataRound3\", ignore_errors=True)"
   ]
  },
  {
   "cell_type": "code",
   "execution_count": 4,
   "id": "b786768a",
   "metadata": {},
   "outputs": [],
   "source": [
    "for f in glob.glob(\"response/*\"):\n",
    "    os.remove(f)\n",
    "for f in glob.glob(\"output/*\"):\n",
    "    os.remove(f)\n",
    "for f in glob.glob(\"source/*\"):\n",
    "    os.remove(f)\n",
    "for f in glob.glob(\"output_history/*\"):\n",
    "    os.remove(f)\n",
    "for f in glob.glob(\"source_history/*\"):\n",
    "    os.remove(f)\n",
    "with open('./hash_analyzing', 'w') as f:\n",
    "    f.write(\"\")\n",
    "with open('./hash_analyzed', 'w') as f:\n",
    "    f.write(\"\")"
   ]
  },
  {
   "cell_type": "code",
   "execution_count": 5,
   "id": "4671ce2a",
   "metadata": {},
   "outputs": [],
   "source": [
    "# TODO - change this during contest\n",
    "# contest_folder = 'contestDataRound1'\n",
    "# contest_folder = 'contestDataRound2'\n",
    "# password = '7e6206dd5102e6d1c5cc029e8fd980a6'\n",
    "\n",
    "# contest_folder = 'practice'\n",
    "# contest_folder = 'round1'\n",
    "# contest_folder = 'round2'\n",
    "# password = 'w3ak_password_for_practice'\n",
    "\n",
    "contest_folder = 'contestData'\n",
    "# password = '7e6206dd5102e6d1c5cc029e8fd980a6'\n",
    "password = '365402f885b9dbfd9f3543db22a85371'"
   ]
  },
  {
   "cell_type": "code",
   "execution_count": 8,
   "id": "1167c142",
   "metadata": {},
   "outputs": [
    {
     "name": "stdout",
     "output_type": "stream",
     "text": [
      "\n",
      "7-Zip [64] 17.05 : Copyright (c) 1999-2021 Igor Pavlov : 2017-08-28\n",
      "p7zip Version 17.05 (locale=utf8,Utf16=on,HugeFiles=on,64 bits,8 CPUs x64)\n",
      "\n",
      "Scanning the drive for archives:\n",
      "1 file, 92250154 bytes (88 MiB)\n",
      "\n",
      "Extracting archive: contestData.zip\n",
      "--\n",
      "Path = contestData.zip\n",
      "Type = zip\n",
      "Physical Size = 92250154\n",
      "\n",
      "Everything is Ok\n",
      "\n",
      "Files: 33\n",
      "Size:       306736169\n",
      "Compressed: 92250154\n"
     ]
    },
    {
     "data": {
      "text/plain": [
       "CompletedProcess(args=['7z', 'x', 'contestData.zip', '-p365402f885b9dbfd9f3543db22a85371', '-ocontestData', '-y'], returncode=0)"
      ]
     },
     "execution_count": 8,
     "metadata": {},
     "output_type": "execute_result"
    }
   ],
   "source": [
    "subprocess.run(\n",
    "    [\n",
    "        '7z', 'x', f'{contest_folder}.zip',\n",
    "        f'-p{password}',\n",
    "        f'-o{contest_folder}',\n",
    "        '-y',\n",
    "    ]\n",
    ")"
   ]
  },
  {
   "cell_type": "code",
   "execution_count": 6,
   "id": "f3d09322",
   "metadata": {},
   "outputs": [
    {
     "data": {
      "text/plain": [
       "['Least Common Ancestor',\n",
       " 'All Triplets Shortest Path (Part 1)',\n",
       " 'Coin Change',\n",
       " 'All Triplets Shortest Path (Part 2)',\n",
       " 'Set, Cover',\n",
       " 'Min-flow Max-cut']"
      ]
     },
     "execution_count": 6,
     "metadata": {},
     "output_type": "execute_result"
    }
   ],
   "source": [
    "import glob\n",
    "import os\n",
    "\n",
    "folders = glob.glob(f\"./{contest_folder}/*/\")  # only select folders\n",
    "problem_names = [os.path.basename(os.path.normpath(folder)) for folder in folders]\n",
    "problem_names"
   ]
  },
  {
   "cell_type": "code",
   "execution_count": 7,
   "id": "5de95559",
   "metadata": {},
   "outputs": [],
   "source": [
    "# problem_names = ['Cottontail Climb (Part 2)']"
   ]
  },
  {
   "cell_type": "code",
   "execution_count": 8,
   "id": "17f05ffb",
   "metadata": {},
   "outputs": [],
   "source": [
    "thread_per_question = 4"
   ]
  },
  {
   "cell_type": "code",
   "execution_count": 9,
   "id": "6e1655c7",
   "metadata": {},
   "outputs": [],
   "source": [
    "contest_folders = [contest_folder] * len(problem_names) * thread_per_question\n",
    "passwords = [password] * len(problem_names) * thread_per_question\n",
    "solution_ids = sorted([f\"{i:03}\" for i in range(thread_per_question)] * len(problem_names))\n",
    "problem_names = problem_names * thread_per_question"
   ]
  },
  {
   "cell_type": "code",
   "execution_count": 10,
   "id": "56d190a0",
   "metadata": {},
   "outputs": [],
   "source": [
    "import pandas as pd\n",
    "\n",
    "df = pd.DataFrame(\n",
    "    {\n",
    "        \"contest_folder\": contest_folders,\n",
    "        \"password\": passwords,\n",
    "        \"problem_name\": problem_names,\n",
    "        \"solution_id\": solution_ids,\n",
    "    }\n",
    ")"
   ]
  },
  {
   "cell_type": "code",
   "execution_count": 11,
   "id": "0306c3c3",
   "metadata": {},
   "outputs": [],
   "source": [
    "# solve(contest_folder, password, problem_name, \"001\")"
   ]
  },
  {
   "cell_type": "code",
   "execution_count": 12,
   "id": "df15209f",
   "metadata": {},
   "outputs": [],
   "source": [
    "from worker import solve"
   ]
  },
  {
   "cell_type": "code",
   "execution_count": 13,
   "id": "801afc7d",
   "metadata": {},
   "outputs": [
    {
     "ename": "KeyboardInterrupt",
     "evalue": "",
     "output_type": "error",
     "traceback": [
      "\u001b[0;31m---------------------------------------------------------------------------\u001b[0m",
      "\u001b[0;31mKeyboardInterrupt\u001b[0m                         Traceback (most recent call last)",
      "Input \u001b[0;32mIn [13]\u001b[0m, in \u001b[0;36m<module>\u001b[0;34m\u001b[0m\n\u001b[1;32m      5\u001b[0m results \u001b[38;5;241m=\u001b[39m executor\u001b[38;5;241m.\u001b[39mmap(solve, df[\u001b[38;5;124m\"\u001b[39m\u001b[38;5;124mcontest_folder\u001b[39m\u001b[38;5;124m\"\u001b[39m], df[\u001b[38;5;124m\"\u001b[39m\u001b[38;5;124mpassword\u001b[39m\u001b[38;5;124m\"\u001b[39m], df[\u001b[38;5;124m\"\u001b[39m\u001b[38;5;124mproblem_name\u001b[39m\u001b[38;5;124m\"\u001b[39m], df[\u001b[38;5;124m\"\u001b[39m\u001b[38;5;124msolution_id\u001b[39m\u001b[38;5;124m\"\u001b[39m])\n\u001b[0;32m----> 6\u001b[0m results \u001b[38;5;241m=\u001b[39m \u001b[38;5;28;43mlist\u001b[39;49m\u001b[43m(\u001b[49m\u001b[43mresults\u001b[49m\u001b[43m)\u001b[49m\n",
      "File \u001b[0;32m/usr/local/Caskroom/miniforge/base/lib/python3.9/concurrent/futures/_base.py:608\u001b[0m, in \u001b[0;36mExecutor.map.<locals>.result_iterator\u001b[0;34m()\u001b[0m\n\u001b[1;32m    607\u001b[0m \u001b[38;5;28;01mif\u001b[39;00m timeout \u001b[38;5;129;01mis\u001b[39;00m \u001b[38;5;28;01mNone\u001b[39;00m:\n\u001b[0;32m--> 608\u001b[0m     \u001b[38;5;28;01myield\u001b[39;00m \u001b[43mfs\u001b[49m\u001b[38;5;241;43m.\u001b[39;49m\u001b[43mpop\u001b[49m\u001b[43m(\u001b[49m\u001b[43m)\u001b[49m\u001b[38;5;241;43m.\u001b[39;49m\u001b[43mresult\u001b[49m\u001b[43m(\u001b[49m\u001b[43m)\u001b[49m\n\u001b[1;32m    609\u001b[0m \u001b[38;5;28;01melse\u001b[39;00m:\n",
      "File \u001b[0;32m/usr/local/Caskroom/miniforge/base/lib/python3.9/concurrent/futures/_base.py:440\u001b[0m, in \u001b[0;36mFuture.result\u001b[0;34m(self, timeout)\u001b[0m\n\u001b[1;32m    438\u001b[0m     \u001b[38;5;28;01mreturn\u001b[39;00m \u001b[38;5;28mself\u001b[39m\u001b[38;5;241m.\u001b[39m__get_result()\n\u001b[0;32m--> 440\u001b[0m \u001b[38;5;28;43mself\u001b[39;49m\u001b[38;5;241;43m.\u001b[39;49m\u001b[43m_condition\u001b[49m\u001b[38;5;241;43m.\u001b[39;49m\u001b[43mwait\u001b[49m\u001b[43m(\u001b[49m\u001b[43mtimeout\u001b[49m\u001b[43m)\u001b[49m\n\u001b[1;32m    442\u001b[0m \u001b[38;5;28;01mif\u001b[39;00m \u001b[38;5;28mself\u001b[39m\u001b[38;5;241m.\u001b[39m_state \u001b[38;5;129;01min\u001b[39;00m [CANCELLED, CANCELLED_AND_NOTIFIED]:\n",
      "File \u001b[0;32m/usr/local/Caskroom/miniforge/base/lib/python3.9/threading.py:312\u001b[0m, in \u001b[0;36mCondition.wait\u001b[0;34m(self, timeout)\u001b[0m\n\u001b[1;32m    311\u001b[0m \u001b[38;5;28;01mif\u001b[39;00m timeout \u001b[38;5;129;01mis\u001b[39;00m \u001b[38;5;28;01mNone\u001b[39;00m:\n\u001b[0;32m--> 312\u001b[0m     \u001b[43mwaiter\u001b[49m\u001b[38;5;241;43m.\u001b[39;49m\u001b[43macquire\u001b[49m\u001b[43m(\u001b[49m\u001b[43m)\u001b[49m\n\u001b[1;32m    313\u001b[0m     gotit \u001b[38;5;241m=\u001b[39m \u001b[38;5;28;01mTrue\u001b[39;00m\n",
      "\u001b[0;31mKeyboardInterrupt\u001b[0m: ",
      "\nDuring handling of the above exception, another exception occurred:\n",
      "\u001b[0;31mKeyboardInterrupt\u001b[0m                         Traceback (most recent call last)",
      "Input \u001b[0;32mIn [13]\u001b[0m, in \u001b[0;36m<module>\u001b[0;34m\u001b[0m\n\u001b[1;32m      3\u001b[0m \u001b[38;5;28;01mwith\u001b[39;00m concurrent\u001b[38;5;241m.\u001b[39mfutures\u001b[38;5;241m.\u001b[39mThreadPoolExecutor(max_workers\u001b[38;5;241m=\u001b[39m\u001b[38;5;241m40\u001b[39m) \u001b[38;5;28;01mas\u001b[39;00m executor:\n\u001b[1;32m      4\u001b[0m     \u001b[38;5;66;03m# run in parallel\u001b[39;00m\n\u001b[1;32m      5\u001b[0m     results \u001b[38;5;241m=\u001b[39m executor\u001b[38;5;241m.\u001b[39mmap(solve, df[\u001b[38;5;124m\"\u001b[39m\u001b[38;5;124mcontest_folder\u001b[39m\u001b[38;5;124m\"\u001b[39m], df[\u001b[38;5;124m\"\u001b[39m\u001b[38;5;124mpassword\u001b[39m\u001b[38;5;124m\"\u001b[39m], df[\u001b[38;5;124m\"\u001b[39m\u001b[38;5;124mproblem_name\u001b[39m\u001b[38;5;124m\"\u001b[39m], df[\u001b[38;5;124m\"\u001b[39m\u001b[38;5;124msolution_id\u001b[39m\u001b[38;5;124m\"\u001b[39m])\n\u001b[0;32m----> 6\u001b[0m     results \u001b[38;5;241m=\u001b[39m \u001b[38;5;28mlist\u001b[39m(results)\n",
      "File \u001b[0;32m/usr/local/Caskroom/miniforge/base/lib/python3.9/concurrent/futures/_base.py:636\u001b[0m, in \u001b[0;36mExecutor.__exit__\u001b[0;34m(self, exc_type, exc_val, exc_tb)\u001b[0m\n\u001b[1;32m    635\u001b[0m \u001b[38;5;28;01mdef\u001b[39;00m \u001b[38;5;21m__exit__\u001b[39m(\u001b[38;5;28mself\u001b[39m, exc_type, exc_val, exc_tb):\n\u001b[0;32m--> 636\u001b[0m     \u001b[38;5;28;43mself\u001b[39;49m\u001b[38;5;241;43m.\u001b[39;49m\u001b[43mshutdown\u001b[49m\u001b[43m(\u001b[49m\u001b[43mwait\u001b[49m\u001b[38;5;241;43m=\u001b[39;49m\u001b[38;5;28;43;01mTrue\u001b[39;49;00m\u001b[43m)\u001b[49m\n\u001b[1;32m    637\u001b[0m     \u001b[38;5;28;01mreturn\u001b[39;00m \u001b[38;5;28;01mFalse\u001b[39;00m\n",
      "File \u001b[0;32m/usr/local/Caskroom/miniforge/base/lib/python3.9/concurrent/futures/thread.py:229\u001b[0m, in \u001b[0;36mThreadPoolExecutor.shutdown\u001b[0;34m(self, wait, cancel_futures)\u001b[0m\n\u001b[1;32m    227\u001b[0m \u001b[38;5;28;01mif\u001b[39;00m wait:\n\u001b[1;32m    228\u001b[0m     \u001b[38;5;28;01mfor\u001b[39;00m t \u001b[38;5;129;01min\u001b[39;00m \u001b[38;5;28mself\u001b[39m\u001b[38;5;241m.\u001b[39m_threads:\n\u001b[0;32m--> 229\u001b[0m         \u001b[43mt\u001b[49m\u001b[38;5;241;43m.\u001b[39;49m\u001b[43mjoin\u001b[49m\u001b[43m(\u001b[49m\u001b[43m)\u001b[49m\n",
      "File \u001b[0;32m/usr/local/Caskroom/miniforge/base/lib/python3.9/threading.py:1053\u001b[0m, in \u001b[0;36mThread.join\u001b[0;34m(self, timeout)\u001b[0m\n\u001b[1;32m   1050\u001b[0m     \u001b[38;5;28;01mraise\u001b[39;00m \u001b[38;5;167;01mRuntimeError\u001b[39;00m(\u001b[38;5;124m\"\u001b[39m\u001b[38;5;124mcannot join current thread\u001b[39m\u001b[38;5;124m\"\u001b[39m)\n\u001b[1;32m   1052\u001b[0m \u001b[38;5;28;01mif\u001b[39;00m timeout \u001b[38;5;129;01mis\u001b[39;00m \u001b[38;5;28;01mNone\u001b[39;00m:\n\u001b[0;32m-> 1053\u001b[0m     \u001b[38;5;28;43mself\u001b[39;49m\u001b[38;5;241;43m.\u001b[39;49m\u001b[43m_wait_for_tstate_lock\u001b[49m\u001b[43m(\u001b[49m\u001b[43m)\u001b[49m\n\u001b[1;32m   1054\u001b[0m \u001b[38;5;28;01melse\u001b[39;00m:\n\u001b[1;32m   1055\u001b[0m     \u001b[38;5;66;03m# the behavior of a negative timeout isn't documented, but\u001b[39;00m\n\u001b[1;32m   1056\u001b[0m     \u001b[38;5;66;03m# historically .join(timeout=x) for x<0 has acted as if timeout=0\u001b[39;00m\n\u001b[1;32m   1057\u001b[0m     \u001b[38;5;28mself\u001b[39m\u001b[38;5;241m.\u001b[39m_wait_for_tstate_lock(timeout\u001b[38;5;241m=\u001b[39m\u001b[38;5;28mmax\u001b[39m(timeout, \u001b[38;5;241m0\u001b[39m))\n",
      "File \u001b[0;32m/usr/local/Caskroom/miniforge/base/lib/python3.9/threading.py:1069\u001b[0m, in \u001b[0;36mThread._wait_for_tstate_lock\u001b[0;34m(self, block, timeout)\u001b[0m\n\u001b[1;32m   1067\u001b[0m \u001b[38;5;28;01mif\u001b[39;00m lock \u001b[38;5;129;01mis\u001b[39;00m \u001b[38;5;28;01mNone\u001b[39;00m:  \u001b[38;5;66;03m# already determined that the C code is done\u001b[39;00m\n\u001b[1;32m   1068\u001b[0m     \u001b[38;5;28;01massert\u001b[39;00m \u001b[38;5;28mself\u001b[39m\u001b[38;5;241m.\u001b[39m_is_stopped\n\u001b[0;32m-> 1069\u001b[0m \u001b[38;5;28;01melif\u001b[39;00m \u001b[43mlock\u001b[49m\u001b[38;5;241;43m.\u001b[39;49m\u001b[43macquire\u001b[49m\u001b[43m(\u001b[49m\u001b[43mblock\u001b[49m\u001b[43m,\u001b[49m\u001b[43m \u001b[49m\u001b[43mtimeout\u001b[49m\u001b[43m)\u001b[49m:\n\u001b[1;32m   1070\u001b[0m     lock\u001b[38;5;241m.\u001b[39mrelease()\n\u001b[1;32m   1071\u001b[0m     \u001b[38;5;28mself\u001b[39m\u001b[38;5;241m.\u001b[39m_stop()\n",
      "\u001b[0;31mKeyboardInterrupt\u001b[0m: "
     ]
    }
   ],
   "source": [
    "import concurrent.futures\n",
    "\n",
    "with concurrent.futures.ThreadPoolExecutor(max_workers=40) as executor:\n",
    "    # run in parallel\n",
    "    results = executor.map(solve, df[\"contest_folder\"], df[\"password\"], df[\"problem_name\"], df[\"solution_id\"])\n",
    "    results = list(results)"
   ]
  },
  {
   "cell_type": "code",
   "execution_count": null,
   "id": "2d738b07",
   "metadata": {},
   "outputs": [],
   "source": []
  },
  {
   "cell_type": "code",
   "execution_count": null,
   "id": "32c8a9c6",
   "metadata": {},
   "outputs": [],
   "source": []
  }
 ],
 "metadata": {
  "kernelspec": {
   "display_name": "Python 3 (ipykernel)",
   "language": "python",
   "name": "python3"
  },
  "language_info": {
   "codemirror_mode": {
    "name": "ipython",
    "version": 3
   },
   "file_extension": ".py",
   "mimetype": "text/x-python",
   "name": "python",
   "nbconvert_exporter": "python",
   "pygments_lexer": "ipython3",
   "version": "3.9.7"
  }
 },
 "nbformat": 4,
 "nbformat_minor": 5
}
