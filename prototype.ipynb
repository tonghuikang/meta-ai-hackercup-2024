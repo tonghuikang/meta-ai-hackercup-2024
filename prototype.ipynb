{
 "cells": [
  {
   "cell_type": "code",
   "execution_count": 1,
   "id": "acf39247",
   "metadata": {},
   "outputs": [],
   "source": [
    "import glob\n",
    "import subprocess"
   ]
  },
  {
   "cell_type": "markdown",
   "id": "52639527",
   "metadata": {},
   "source": [
    "- sample_in.txt\n",
    "- sample_out.txt\n",
    "- statement.txt\n",
    "- full_in.txt"
   ]
  },
  {
   "cell_type": "code",
   "execution_count": 2,
   "id": "1167c142",
   "metadata": {},
   "outputs": [
    {
     "name": "stdout",
     "output_type": "stream",
     "text": [
      "\n",
      "7-Zip [64] 17.05 : Copyright (c) 1999-2021 Igor Pavlov : 2017-08-28\n",
      "p7zip Version 17.05 (locale=utf8,Utf16=on,HugeFiles=on,64 bits,8 CPUs x64)\n",
      "\n",
      "Scanning the drive for archives:\n",
      "1 file, 40894256 bytes (39 MiB)\n",
      "\n",
      "Extracting archive: practice.zip\n",
      "--\n",
      "Path = practice.zip\n",
      "Type = zip\n",
      "Physical Size = 40894256\n",
      "\n",
      "Everything is Ok\n",
      "\n",
      "Files: 23\n",
      "Size:       84913192\n",
      "Compressed: 40894256\n"
     ]
    },
    {
     "data": {
      "text/plain": [
       "CompletedProcess(args=['7z', 'x', 'practice.zip', '-pw3ak_password_for_practice', '-opractice', '-y'], returncode=0)"
      ]
     },
     "execution_count": 2,
     "metadata": {},
     "output_type": "execute_result"
    }
   ],
   "source": [
    "# TODO - change this\n",
    "contest_folder = 'practice'\n",
    "password = 'w3ak_password_for_practice'\n",
    "\n",
    "subprocess.run(\n",
    "    [\n",
    "        '7z', 'x', f'{contest_folder}.zip',\n",
    "        '-pw3ak_password_for_practice',\n",
    "        f'-o{contest_folder}',\n",
    "        '-y'\n",
    "    ]\n",
    ")"
   ]
  },
  {
   "cell_type": "code",
   "execution_count": 3,
   "id": "f3d09322",
   "metadata": {},
   "outputs": [
    {
     "data": {
      "text/plain": [
       "['./practice/Line of Delivery (Part 1)/',\n",
       " './practice/Line of Delivery (Part 2)/',\n",
       " './practice/Line by Line/',\n",
       " './practice/Fall in Line/',\n",
       " './practice/Walk the Line/']"
      ]
     },
     "execution_count": 3,
     "metadata": {},
     "output_type": "execute_result"
    }
   ],
   "source": [
    "glob.glob(\"./practice/*/\")  # only select folders"
   ]
  },
  {
   "cell_type": "code",
   "execution_count": 4,
   "id": "17f05ffb",
   "metadata": {},
   "outputs": [],
   "source": [
    "problem_name = \"Line by Line\""
   ]
  },
  {
   "cell_type": "code",
   "execution_count": 5,
   "id": "8aeb66c9",
   "metadata": {},
   "outputs": [],
   "source": [
    "with open(f\"{contest_folder}/{problem_name}/statement.txt\") as f:\n",
    "    statement = f.read()\n",
    "    \n",
    "with open(f\"{contest_folder}/{problem_name}/sample_in.txt\") as f:\n",
    "    sample_in = f.read()\n",
    "\n",
    "with open(f\"{contest_folder}/{problem_name}/sample_out.txt\") as f:\n",
    "    sample_out = f.read()\n",
    "    \n",
    "with open(f\"{contest_folder}/{problem_name}/full_in.txt\") as f:\n",
    "    full_in = f.read()"
   ]
  },
  {
   "cell_type": "code",
   "execution_count": 6,
   "id": "684933c9",
   "metadata": {},
   "outputs": [],
   "source": [
    "prompt = f\"\"\"\n",
    "Write Python code to solve this problem\n",
    "\n",
    "{statement}\n",
    "\n",
    "This is the sample input\n",
    "\n",
    "{sample_in}\n",
    "\n",
    "This is the sample output\n",
    "\n",
    "{sample_out}\n",
    "\n",
    "The Python code, when executed, will take standard input and prints to standard output.\n",
    "\n",
    "Put the Python code within ```python and ```\n",
    "\"\"\""
   ]
  },
  {
   "cell_type": "code",
   "execution_count": null,
   "id": "98443210",
   "metadata": {},
   "outputs": [],
   "source": [
    "from openai import OpenAI\n",
    "client = OpenAI()\n",
    "\n",
    "completion = client.chat.completions.create(\n",
    "    model=\"gpt-4o-mini\",\n",
    "    messages=[{\"role\": \"user\", \"content\": prompt}]\n",
    ")\n",
    "\n",
    "print(completion.choices[0].message)"
   ]
  },
  {
   "cell_type": "code",
   "execution_count": null,
   "id": "62f73259",
   "metadata": {},
   "outputs": [],
   "source": [
    "import re\n",
    "\n",
    "def extract_python_code(response_string):\n",
    "    pattern = r'```python\\s*(.*?)\\s*```'\n",
    "    matches = re.findall(pattern, response_string, re.DOTALL)\n",
    "    python_code = '\\n\\n'.join(matches)\n",
    "    return python_code"
   ]
  },
  {
   "cell_type": "code",
   "execution_count": null,
   "id": "d78573bf",
   "metadata": {},
   "outputs": [],
   "source": [
    "python_code = extract_python_code(completion.choices[0].message.content)"
   ]
  },
  {
   "cell_type": "code",
   "execution_count": null,
   "id": "d693ca25",
   "metadata": {},
   "outputs": [],
   "source": [
    "import subprocess\n",
    "import tempfile\n",
    "import os\n",
    "\n",
    "\n",
    "def execute_code(code_str, input_str):\n",
    "    with tempfile.NamedTemporaryFile('w+', suffix='.py', delete=False) as tmp_file:\n",
    "        tmp_file.write(code_str)\n",
    "        tmp_file_path = tmp_file.name\n",
    "    \n",
    "    try:\n",
    "        result = subprocess.run(\n",
    "            ['python', '-u', tmp_file_path],\n",
    "            input=input_str,\n",
    "            text=True,\n",
    "            capture_output=True,\n",
    "            timeout=5  # Set a timeout to prevent infinite execution\n",
    "        )\n",
    "        if result.stderr:\n",
    "            return result.stdout + \"\\n\\nError:\" + result.stderr\n",
    "        return result.stdout\n",
    "    \n",
    "    except subprocess.TimeoutExpired as e:\n",
    "        return f\"{e.stdout.decode() if e.stdout else ''}\\nError: Code execution timed out.\"\n",
    "    finally:\n",
    "        os.remove(tmp_file_path)"
   ]
  },
  {
   "cell_type": "code",
   "execution_count": null,
   "id": "4b05b829",
   "metadata": {},
   "outputs": [],
   "source": [
    "sample_executed_output = execute_code(python_code, sample_in)"
   ]
  },
  {
   "cell_type": "code",
   "execution_count": null,
   "id": "dd68d4c6",
   "metadata": {},
   "outputs": [],
   "source": [
    "full_executed_output = execute_code(python_code, full_in)"
   ]
  },
  {
   "cell_type": "code",
   "execution_count": null,
   "id": "caf0dab9",
   "metadata": {},
   "outputs": [],
   "source": [
    "import os\n",
    "\n",
    "os.makedirs('submission_output', exist_ok=True)\n",
    "os.makedirs('submission_code', exist_ok=True)"
   ]
  },
  {
   "cell_type": "code",
   "execution_count": null,
   "id": "0de563a0",
   "metadata": {},
   "outputs": [],
   "source": [
    "with open(f\"submission_output/{problem_name.replace(' ', '-')}.txt\", \"w\") as f:\n",
    "    f.write(full_executed_output)"
   ]
  },
  {
   "cell_type": "code",
   "execution_count": null,
   "id": "2c15be24",
   "metadata": {},
   "outputs": [],
   "source": [
    "with open(f\"submission_code/{problem_name.replace(' ', '-')}.py\", \"w\") as f:\n",
    "    f.write(python_code)"
   ]
  },
  {
   "cell_type": "code",
   "execution_count": null,
   "id": "fd7e41ef",
   "metadata": {},
   "outputs": [],
   "source": []
  },
  {
   "cell_type": "code",
   "execution_count": null,
   "id": "e3397954",
   "metadata": {},
   "outputs": [],
   "source": []
  },
  {
   "cell_type": "code",
   "execution_count": null,
   "id": "9bbd06f3",
   "metadata": {},
   "outputs": [],
   "source": []
  },
  {
   "cell_type": "code",
   "execution_count": null,
   "id": "df845bea",
   "metadata": {},
   "outputs": [],
   "source": []
  }
 ],
 "metadata": {
  "kernelspec": {
   "display_name": "Python 3 (ipykernel)",
   "language": "python",
   "name": "python3"
  },
  "language_info": {
   "codemirror_mode": {
    "name": "ipython",
    "version": 3
   },
   "file_extension": ".py",
   "mimetype": "text/x-python",
   "name": "python",
   "nbconvert_exporter": "python",
   "pygments_lexer": "ipython3",
   "version": "3.9.7"
  }
 },
 "nbformat": 4,
 "nbformat_minor": 5
}
