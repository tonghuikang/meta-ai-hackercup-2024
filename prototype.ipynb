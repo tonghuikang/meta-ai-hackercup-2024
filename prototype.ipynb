{
 "cells": [
  {
   "cell_type": "code",
   "execution_count": 1,
   "id": "acf39247",
   "metadata": {},
   "outputs": [],
   "source": [
    "import glob\n",
    "import subprocess"
   ]
  },
  {
   "cell_type": "markdown",
   "id": "b552a3bd",
   "metadata": {},
   "source": [
    "- sample_in.txt\n",
    "- sample_out.txt\n",
    "- statement.txt\n",
    "- full_in.txt"
   ]
  },
  {
   "cell_type": "code",
   "execution_count": 2,
   "id": "b2c7bb8e",
   "metadata": {},
   "outputs": [],
   "source": [
    "# reset\n",
    "\n",
    "import shutil\n",
    "shutil.rmtree(\"execution_sample_out\", ignore_errors=True)\n",
    "shutil.rmtree(\"execution_full_out\", ignore_errors=True)\n",
    "shutil.rmtree(\"execution_code\", ignore_errors=True)"
   ]
  },
  {
   "cell_type": "code",
   "execution_count": 3,
   "id": "1167c142",
   "metadata": {},
   "outputs": [
    {
     "name": "stdout",
     "output_type": "stream",
     "text": [
      "\n",
      "7-Zip [64] 17.05 : Copyright (c) 1999-2021 Igor Pavlov : 2017-08-28\n",
      "p7zip Version 17.05 (locale=utf8,Utf16=on,HugeFiles=on,64 bits,8 CPUs x64)\n",
      "\n",
      "Scanning the drive for archives:\n",
      "1 file, 40894256 bytes (39 MiB)\n",
      "\n",
      "Extracting archive: practice.zip\n",
      "--\n",
      "Path = practice.zip\n",
      "Type = zip\n",
      "Physical Size = 40894256\n",
      "\n",
      "Everything is Ok\n",
      "\n",
      "Files: 23\n",
      "Size:       84913192\n",
      "Compressed: 40894256\n"
     ]
    },
    {
     "data": {
      "text/plain": [
       "CompletedProcess(args=['7z', 'x', 'practice.zip', '-pw3ak_password_for_practice', '-opractice', '-y'], returncode=0)"
      ]
     },
     "execution_count": 3,
     "metadata": {},
     "output_type": "execute_result"
    }
   ],
   "source": [
    "# TODO - change this during contest\n",
    "contest_folder = 'practice'\n",
    "password = 'w3ak_password_for_practice'\n",
    "\n",
    "subprocess.run(\n",
    "    [\n",
    "        '7z', 'x', f'{contest_folder}.zip',\n",
    "        '-pw3ak_password_for_practice',\n",
    "        f'-o{contest_folder}',\n",
    "        '-y'\n",
    "    ]\n",
    ")"
   ]
  },
  {
   "cell_type": "code",
   "execution_count": 4,
   "id": "f3d09322",
   "metadata": {},
   "outputs": [
    {
     "data": {
      "text/plain": [
       "['Line of Delivery (Part 1)',\n",
       " 'Line of Delivery (Part 2)',\n",
       " 'Line by Line',\n",
       " 'Fall in Line',\n",
       " 'Walk the Line']"
      ]
     },
     "execution_count": 4,
     "metadata": {},
     "output_type": "execute_result"
    }
   ],
   "source": [
    "import glob\n",
    "import os\n",
    "\n",
    "folders = glob.glob(\"./practice/*/\")  # only select folders\n",
    "\n",
    "problem_names = [os.path.basename(os.path.normpath(folder)) for folder in folders]\n",
    "\n",
    "problem_names"
   ]
  },
  {
   "cell_type": "code",
   "execution_count": 5,
   "id": "17f05ffb",
   "metadata": {},
   "outputs": [],
   "source": [
    "thread_per_question = 1"
   ]
  },
  {
   "cell_type": "code",
   "execution_count": 6,
   "id": "655d26bd",
   "metadata": {},
   "outputs": [],
   "source": [
    "contest_folders = [contest_folder] * len(problem_names) * thread_per_question\n",
    "passwords = [password] * len(problem_names) * thread_per_question\n",
    "problem_names = problem_names * thread_per_question\n",
    "solution_ids = [f\"{i:03}\" for i in range(thread_per_question)] * len(problem_names)"
   ]
  },
  {
   "cell_type": "code",
   "execution_count": 7,
   "id": "8f33e1f5",
   "metadata": {},
   "outputs": [],
   "source": [
    "import pandas as pd\n",
    "\n",
    "df = pd.DataFrame(\n",
    "    {\n",
    "        \"contest_folder\": contest_folders,\n",
    "        \"password\": passwords,\n",
    "        \"problem_name\": problem_names,\n",
    "        \"solution_id\": solution_ids,\n",
    "    }\n",
    ")"
   ]
  },
  {
   "cell_type": "code",
   "execution_count": 8,
   "id": "85c92410",
   "metadata": {},
   "outputs": [],
   "source": [
    "# solve(contest_folder, password, problem_name, \"001\")"
   ]
  },
  {
   "cell_type": "code",
   "execution_count": 9,
   "id": "8f5acad5",
   "metadata": {},
   "outputs": [],
   "source": [
    "from worker import solve"
   ]
  },
  {
   "cell_type": "code",
   "execution_count": null,
   "id": "d8b2cfa8",
   "metadata": {},
   "outputs": [],
   "source": [
    "import concurrent.futures\n",
    "\n",
    "with concurrent.futures.ThreadPoolExecutor(max_workers=20) as executor:\n",
    "    # run in parallel\n",
    "    results = executor.map(solve, df[\"contest_folder\"], df[\"password\"], df[\"problem_name\"], df[\"solution_id\"])\n",
    "    results = list(results)"
   ]
  },
  {
   "cell_type": "code",
   "execution_count": null,
   "id": "6639f51f",
   "metadata": {},
   "outputs": [],
   "source": []
  },
  {
   "cell_type": "code",
   "execution_count": null,
   "id": "8616e406",
   "metadata": {},
   "outputs": [],
   "source": []
  },
  {
   "cell_type": "code",
   "execution_count": null,
   "id": "aac2576c",
   "metadata": {},
   "outputs": [],
   "source": []
  }
 ],
 "metadata": {
  "kernelspec": {
   "display_name": "Python 3 (ipykernel)",
   "language": "python",
   "name": "python3"
  },
  "language_info": {
   "codemirror_mode": {
    "name": "ipython",
    "version": 3
   },
   "file_extension": ".py",
   "mimetype": "text/x-python",
   "name": "python",
   "nbconvert_exporter": "python",
   "pygments_lexer": "ipython3",
   "version": "3.9.7"
  }
 },
 "nbformat": 4,
 "nbformat_minor": 5
}
