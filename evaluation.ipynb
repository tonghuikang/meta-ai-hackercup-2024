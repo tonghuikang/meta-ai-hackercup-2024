{
 "cells": [
  {
   "cell_type": "code",
   "execution_count": null,
   "id": "2865f9e1",
   "metadata": {},
   "outputs": [],
   "source": [
    "from analysis import get_current_status, select_solution, save_submission"
   ]
  },
  {
   "cell_type": "code",
   "execution_count": null,
   "id": "33f0460e",
   "metadata": {},
   "outputs": [],
   "source": [
    "df_grouped, aggregated_df = get_current_status(None, evaluation=True)"
   ]
  },
  {
   "cell_type": "code",
   "execution_count": null,
   "id": "ba28449e",
   "metadata": {},
   "outputs": [],
   "source": [
    "aggregated_list = aggregated_df.to_dict(orient='records')\n",
    "\n",
    "for row in aggregated_list:\n",
    "    print(f\"Running analysis at {row['timestring']} for {row['problem_name']}\")\n",
    "    select_solution(row)"
   ]
  },
  {
   "cell_type": "code",
   "execution_count": 2,
   "id": "a7ca1b5f",
   "metadata": {},
   "outputs": [],
   "source": [
    "# problem_code = \"prime_subtractorization\"\n",
    "\n",
    "# save_submission(problem_code, \"000\")\n",
    "# save_submission(problem_code, \"001\")\n",
    "# save_submission(problem_code, \"002\")\n",
    "# save_submission(problem_code, \"003\", True)\n",
    "# save_submission(problem_code, \"004\")\n",
    "# save_submission(problem_code, \"005\", True)\n",
    "# save_submission(problem_code, \"006\")\n",
    "# save_submission(problem_code, \"007\")\n",
    "# save_submission(problem_code, \"008\")\n",
    "# save_submission(problem_code, \"009\", True)"
   ]
  },
  {
   "cell_type": "code",
   "execution_count": 14,
   "id": "8f4a5a80",
   "metadata": {},
   "outputs": [],
   "source": [
    "# problem_code = \"subsonic_subway\"\n",
    "\n",
    "# save_submission(problem_code, \"000\")\n",
    "# save_submission(problem_code, \"001\", True)\n",
    "# save_submission(problem_code, \"002\")\n",
    "# save_submission(problem_code, \"003\", True)\n",
    "# save_submission(problem_code, \"004\", True)\n",
    "# save_submission(problem_code, \"005\", True)\n",
    "# save_submission(problem_code, \"006\", True)\n",
    "# save_submission(problem_code, \"007\", True)\n",
    "# save_submission(problem_code, \"008\", True)\n",
    "# save_submission(problem_code, \"009\", True)"
   ]
  },
  {
   "cell_type": "code",
   "execution_count": 17,
   "id": "3a6d0c37",
   "metadata": {},
   "outputs": [],
   "source": [
    "# problem_code = \"substantial_losses\"\n",
    "\n",
    "# save_submission(problem_code, \"000\")\n",
    "# save_submission(problem_code, \"001\", True)\n",
    "# save_submission(problem_code, \"002\")\n",
    "# save_submission(problem_code, \"003\")\n",
    "# save_submission(problem_code, \"004\")\n",
    "# save_submission(problem_code, \"005\")\n",
    "# save_submission(problem_code, \"006\")\n",
    "# save_submission(problem_code, \"007\", True)\n",
    "# save_submission(problem_code, \"008\", True)\n",
    "# save_submission(problem_code, \"009\")"
   ]
  },
  {
   "cell_type": "code",
   "execution_count": 20,
   "id": "e3134e51",
   "metadata": {},
   "outputs": [],
   "source": [
    "# problem_code = \"substitution_cipher\"\n",
    "\n",
    "# save_submission(problem_code, \"000\")\n",
    "# save_submission(problem_code, \"001\")\n",
    "# save_submission(problem_code, \"002\")\n",
    "# save_submission(problem_code, \"003\")\n",
    "# save_submission(problem_code, \"004\")\n",
    "# save_submission(problem_code, \"005\")\n",
    "# save_submission(problem_code, \"006\")\n",
    "# save_submission(problem_code, \"007\")\n",
    "# save_submission(problem_code, \"008\")\n",
    "# save_submission(problem_code, \"009\")"
   ]
  },
  {
   "cell_type": "code",
   "execution_count": 23,
   "id": "c355716c",
   "metadata": {},
   "outputs": [],
   "source": [
    "# problem_code = \"walk_the_line\"\n",
    "\n",
    "# save_submission(problem_code, \"000\")\n",
    "# save_submission(problem_code, \"001\")\n",
    "# save_submission(problem_code, \"002\")\n",
    "# save_submission(problem_code, \"003\")\n",
    "# save_submission(problem_code, \"004\")\n",
    "# save_submission(problem_code, \"005\")\n",
    "# save_submission(problem_code, \"006\")\n",
    "# save_submission(problem_code, \"007\")\n",
    "# save_submission(problem_code, \"008\")\n",
    "# save_submission(problem_code, \"009\")"
   ]
  },
  {
   "cell_type": "code",
   "execution_count": 27,
   "id": "6b81290b",
   "metadata": {},
   "outputs": [],
   "source": [
    "# problem_code = \"line_by_line\"\n",
    "\n",
    "# save_submission(problem_code, \"000\")\n",
    "# save_submission(problem_code, \"001\", True)\n",
    "# save_submission(problem_code, \"002\", True)\n",
    "# save_submission(problem_code, \"003\", True)\n",
    "# save_submission(problem_code, \"004\", True)\n",
    "# save_submission(problem_code, \"005\")\n",
    "# save_submission(problem_code, \"006\")\n",
    "# save_submission(problem_code, \"007\")\n",
    "# save_submission(problem_code, \"008\")\n",
    "# save_submission(problem_code, \"009\")"
   ]
  },
  {
   "cell_type": "code",
   "execution_count": 26,
   "id": "9d9771f1",
   "metadata": {},
   "outputs": [],
   "source": [
    "# problem_code = \"fall_in_line\"\n",
    "\n",
    "# save_submission(problem_code, \"000\")\n",
    "# save_submission(problem_code, \"001\")\n",
    "# save_submission(problem_code, \"002\")\n",
    "# save_submission(problem_code, \"003\", True)\n",
    "# save_submission(problem_code, \"004\")\n",
    "# save_submission(problem_code, \"005\")\n",
    "# save_submission(problem_code, \"006\")\n",
    "# save_submission(problem_code, \"007\")\n",
    "# save_submission(problem_code, \"008\")\n",
    "# save_submission(problem_code, \"009\")"
   ]
  },
  {
   "cell_type": "code",
   "execution_count": null,
   "id": "f1cdde98",
   "metadata": {},
   "outputs": [],
   "source": []
  },
  {
   "cell_type": "code",
   "execution_count": 5,
   "id": "d9f366b6",
   "metadata": {},
   "outputs": [],
   "source": [
    "# problem_code = \"cottontail_climb_part_2\"\n",
    "# save_submission(problem_code, \"004\", True)\n",
    "# save_submission(problem_code, \"005\")"
   ]
  },
  {
   "cell_type": "code",
   "execution_count": null,
   "id": "5839cb63",
   "metadata": {},
   "outputs": [],
   "source": []
  }
 ],
 "metadata": {
  "kernelspec": {
   "display_name": "Python 3 (ipykernel)",
   "language": "python",
   "name": "python3"
  },
  "language_info": {
   "codemirror_mode": {
    "name": "ipython",
    "version": 3
   },
   "file_extension": ".py",
   "mimetype": "text/x-python",
   "name": "python",
   "nbconvert_exporter": "python",
   "pygments_lexer": "ipython3",
   "version": "3.9.7"
  }
 },
 "nbformat": 4,
 "nbformat_minor": 5
}
