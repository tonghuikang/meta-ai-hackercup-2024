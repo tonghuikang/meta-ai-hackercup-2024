{
 "cells": [
  {
   "cell_type": "code",
   "execution_count": null,
   "id": "acf39247",
   "metadata": {},
   "outputs": [],
   "source": [
    "import os\n",
    "import glob\n",
    "import shutil\n",
    "import subprocess"
   ]
  },
  {
   "cell_type": "code",
   "execution_count": null,
   "id": "6b6bc6f9",
   "metadata": {},
   "outputs": [],
   "source": [
    "shutil.rmtree(\"execution_response\", ignore_errors=True)\n",
    "shutil.rmtree(\"execution_sample_out\", ignore_errors=True)\n",
    "shutil.rmtree(\"execution_full_out\", ignore_errors=True)\n",
    "shutil.rmtree(\"execution_code\", ignore_errors=True)\n",
    "shutil.rmtree(\"logs/judgement\", ignore_errors=True)"
   ]
  },
  {
   "cell_type": "code",
   "execution_count": null,
   "id": "ae1644c4",
   "metadata": {},
   "outputs": [],
   "source": [
    "shutil.rmtree(\"practice\", ignore_errors=True)\n",
    "shutil.rmtree(\"round1\", ignore_errors=True)\n",
    "shutil.rmtree(\"round2\", ignore_errors=True)\n",
    "shutil.rmtree(\"round3\", ignore_errors=True)\n",
    "shutil.rmtree(\"contestData\", ignore_errors=True)\n",
    "shutil.rmtree(\"contestDataRound1\", ignore_errors=True)\n",
    "shutil.rmtree(\"contestDataRound2\", ignore_errors=True)\n",
    "shutil.rmtree(\"contestDataRound3\", ignore_errors=True)"
   ]
  },
  {
   "cell_type": "code",
   "execution_count": null,
   "id": "b786768a",
   "metadata": {},
   "outputs": [],
   "source": [
    "for f in glob.glob(\"response/*\"):\n",
    "    os.remove(f)\n",
    "for f in glob.glob(\"output/*\"):\n",
    "    os.remove(f)\n",
    "for f in glob.glob(\"source/*\"):\n",
    "    os.remove(f)\n",
    "for f in glob.glob(\"output_history/*\"):\n",
    "    os.remove(f)\n",
    "for f in glob.glob(\"source_history/*\"):\n",
    "    os.remove(f)\n",
    "with open('./hash_analyzing', 'w') as f:\n",
    "    f.write(\"\")\n",
    "with open('./hash_analyzed', 'w') as f:\n",
    "    f.write(\"\")"
   ]
  },
  {
   "cell_type": "code",
   "execution_count": null,
   "id": "4671ce2a",
   "metadata": {},
   "outputs": [],
   "source": [
    "# TODO - change this during contest\n",
    "# contest_folder = 'contestDataRound1'\n",
    "# contest_folder = 'contestDataRound2'\n",
    "# password = '7e6206dd5102e6d1c5cc029e8fd980a6'\n",
    "\n",
    "contest_folder = 'practice'\n",
    "# contest_folder = 'round1'\n",
    "# contest_folder = 'round2'\n",
    "password = 'w3ak_password_for_practice'\n",
    "\n",
    "# contest_folder = 'contestData'\n",
    "# password = '7e6206dd5102e6d1c5cc029e8fd980a6'"
   ]
  },
  {
   "cell_type": "code",
   "execution_count": null,
   "id": "1167c142",
   "metadata": {},
   "outputs": [],
   "source": [
    "subprocess.run(\n",
    "    [\n",
    "        '7z', 'x', f'{contest_folder}.zip',\n",
    "        f'-p{password}',\n",
    "        f'-o{contest_folder}',\n",
    "        '-y',\n",
    "    ]\n",
    ")"
   ]
  },
  {
   "cell_type": "code",
   "execution_count": null,
   "id": "f3d09322",
   "metadata": {},
   "outputs": [],
   "source": [
    "import glob\n",
    "import os\n",
    "\n",
    "folders = glob.glob(f\"./{contest_folder}/*/\")  # only select folders\n",
    "problem_names = [os.path.basename(os.path.normpath(folder)) for folder in folders]\n",
    "problem_names"
   ]
  },
  {
   "cell_type": "code",
   "execution_count": null,
   "id": "5de95559",
   "metadata": {},
   "outputs": [],
   "source": [
    "# problem_names = ['Cottontail Climb (Part 2)']"
   ]
  },
  {
   "cell_type": "code",
   "execution_count": null,
   "id": "17f05ffb",
   "metadata": {},
   "outputs": [],
   "source": [
    "thread_per_question = 20"
   ]
  },
  {
   "cell_type": "code",
   "execution_count": null,
   "id": "6e1655c7",
   "metadata": {},
   "outputs": [],
   "source": [
    "contest_folders = [contest_folder] * len(problem_names) * thread_per_question\n",
    "passwords = [password] * len(problem_names) * thread_per_question\n",
    "solution_ids = sorted([f\"{i:03}\" for i in range(thread_per_question)] * len(problem_names))\n",
    "problem_names = problem_names * thread_per_question"
   ]
  },
  {
   "cell_type": "code",
   "execution_count": null,
   "id": "56d190a0",
   "metadata": {},
   "outputs": [],
   "source": [
    "import pandas as pd\n",
    "\n",
    "df = pd.DataFrame(\n",
    "    {\n",
    "        \"contest_folder\": contest_folders,\n",
    "        \"password\": passwords,\n",
    "        \"problem_name\": problem_names,\n",
    "        \"solution_id\": solution_ids,\n",
    "    }\n",
    ")"
   ]
  },
  {
   "cell_type": "code",
   "execution_count": null,
   "id": "0306c3c3",
   "metadata": {},
   "outputs": [],
   "source": [
    "# solve(contest_folder, password, problem_name, \"001\")"
   ]
  },
  {
   "cell_type": "code",
   "execution_count": null,
   "id": "df15209f",
   "metadata": {},
   "outputs": [],
   "source": [
    "from worker import solve"
   ]
  },
  {
   "cell_type": "code",
   "execution_count": null,
   "id": "801afc7d",
   "metadata": {},
   "outputs": [],
   "source": [
    "import concurrent.futures\n",
    "\n",
    "with concurrent.futures.ThreadPoolExecutor(max_workers=40) as executor:\n",
    "    # run in parallel\n",
    "    results = executor.map(solve, df[\"contest_folder\"], df[\"password\"], df[\"problem_name\"], df[\"solution_id\"])\n",
    "    results = list(results)"
   ]
  },
  {
   "cell_type": "code",
   "execution_count": null,
   "id": "2d738b07",
   "metadata": {},
   "outputs": [],
   "source": []
  },
  {
   "cell_type": "code",
   "execution_count": null,
   "id": "32c8a9c6",
   "metadata": {},
   "outputs": [],
   "source": []
  }
 ],
 "metadata": {
  "kernelspec": {
   "display_name": "Python 3 (ipykernel)",
   "language": "python",
   "name": "python3"
  },
  "language_info": {
   "codemirror_mode": {
    "name": "ipython",
    "version": 3
   },
   "file_extension": ".py",
   "mimetype": "text/x-python",
   "name": "python",
   "nbconvert_exporter": "python",
   "pygments_lexer": "ipython3",
   "version": "3.9.7"
  }
 },
 "nbformat": 4,
 "nbformat_minor": 5
}
