{
 "cells": [
  {
   "cell_type": "code",
   "execution_count": 1,
   "id": "acf39247",
   "metadata": {},
   "outputs": [],
   "source": [
    "import os\n",
    "import glob\n",
    "import shutil\n",
    "import subprocess"
   ]
  },
  {
   "cell_type": "code",
   "execution_count": 2,
   "id": "6b6bc6f9",
   "metadata": {},
   "outputs": [],
   "source": [
    "shutil.rmtree(\"execution_response\", ignore_errors=True)\n",
    "shutil.rmtree(\"execution_sample_out\", ignore_errors=True)\n",
    "shutil.rmtree(\"execution_full_out\", ignore_errors=True)\n",
    "shutil.rmtree(\"execution_code\", ignore_errors=True)\n",
    "shutil.rmtree(\"logs/judgement\", ignore_errors=True)"
   ]
  },
  {
   "cell_type": "code",
   "execution_count": 3,
   "id": "ae1644c4",
   "metadata": {},
   "outputs": [],
   "source": [
    "shutil.rmtree(\"practice\", ignore_errors=True)\n",
    "shutil.rmtree(\"round1\", ignore_errors=True)\n",
    "shutil.rmtree(\"round2\", ignore_errors=True)\n",
    "shutil.rmtree(\"round3\", ignore_errors=True)\n",
    "shutil.rmtree(\"contestData\", ignore_errors=True)\n",
    "shutil.rmtree(\"contestDataRound1\", ignore_errors=True)\n",
    "shutil.rmtree(\"contestDataRound2\", ignore_errors=True)\n",
    "shutil.rmtree(\"contestDataRound3\", ignore_errors=True)"
   ]
  },
  {
   "cell_type": "code",
   "execution_count": 4,
   "id": "b786768a",
   "metadata": {},
   "outputs": [],
   "source": [
    "for f in glob.glob(\"response/*\"):\n",
    "    os.remove(f)\n",
    "for f in glob.glob(\"output/*\"):\n",
    "    os.remove(f)\n",
    "for f in glob.glob(\"source/*\"):\n",
    "    os.remove(f)\n",
    "for f in glob.glob(\"output_history/*\"):\n",
    "    os.remove(f)\n",
    "for f in glob.glob(\"source_history/*\"):\n",
    "    os.remove(f)\n",
    "with open('./hash_analyzing', 'w') as f:\n",
    "    f.write(\"\")\n",
    "with open('./hash_analyzed', 'w') as f:\n",
    "    f.write(\"\")"
   ]
  },
  {
   "cell_type": "code",
   "execution_count": 7,
   "id": "4671ce2a",
   "metadata": {},
   "outputs": [],
   "source": [
    "# TODO - change this during contest\n",
    "# contest_folder = 'contestDataRound1'\n",
    "# contest_folder = 'contestDataRound2'\n",
    "# password = '7e6206dd5102e6d1c5cc029e8fd980a6'\n",
    "\n",
    "# contest_folder = 'practice'\n",
    "# contest_folder = 'round1'\n",
    "# contest_folder = 'round2'\n",
    "# password = 'w3ak_password_for_practice'\n",
    "\n",
    "contest_folder = 'contestData'\n",
    "# password = '7e6206dd5102e6d1c5cc029e8fd980a6'\n",
    "password = '365402f885b9dbfd9f3543db22a85371'"
   ]
  },
  {
   "cell_type": "code",
   "execution_count": 8,
   "id": "1167c142",
   "metadata": {},
   "outputs": [
    {
     "name": "stdout",
     "output_type": "stream",
     "text": [
      "\n",
      "7-Zip [64] 17.05 : Copyright (c) 1999-2021 Igor Pavlov : 2017-08-28\n",
      "p7zip Version 17.05 (locale=utf8,Utf16=on,HugeFiles=on,64 bits,8 CPUs x64)\n",
      "\n",
      "Scanning the drive for archives:\n",
      "1 file, 92250154 bytes (88 MiB)\n",
      "\n",
      "Extracting archive: contestData.zip\n",
      "--\n",
      "Path = contestData.zip\n",
      "Type = zip\n",
      "Physical Size = 92250154\n",
      "\n",
      "Everything is Ok\n",
      "\n",
      "Files: 33\n",
      "Size:       306736169\n",
      "Compressed: 92250154\n"
     ]
    },
    {
     "data": {
      "text/plain": [
       "CompletedProcess(args=['7z', 'x', 'contestData.zip', '-p365402f885b9dbfd9f3543db22a85371', '-ocontestData', '-y'], returncode=0)"
      ]
     },
     "execution_count": 8,
     "metadata": {},
     "output_type": "execute_result"
    }
   ],
   "source": [
    "subprocess.run(\n",
    "    [\n",
    "        '7z', 'x', f'{contest_folder}.zip',\n",
    "        f'-p{password}',\n",
    "        f'-o{contest_folder}',\n",
    "        '-y',\n",
    "    ]\n",
    ")"
   ]
  },
  {
   "cell_type": "code",
   "execution_count": 9,
   "id": "f3d09322",
   "metadata": {},
   "outputs": [
    {
     "data": {
      "text/plain": [
       "['Least Common Ancestor',\n",
       " 'All Triplets Shortest Path (Part 1)',\n",
       " 'Coin Change',\n",
       " 'All Triplets Shortest Path (Part 2)',\n",
       " 'Set, Cover',\n",
       " 'Min-flow Max-cut']"
      ]
     },
     "execution_count": 9,
     "metadata": {},
     "output_type": "execute_result"
    }
   ],
   "source": [
    "import glob\n",
    "import os\n",
    "\n",
    "folders = glob.glob(f\"./{contest_folder}/*/\")  # only select folders\n",
    "problem_names = [os.path.basename(os.path.normpath(folder)) for folder in folders]\n",
    "problem_names"
   ]
  },
  {
   "cell_type": "code",
   "execution_count": 10,
   "id": "5de95559",
   "metadata": {},
   "outputs": [],
   "source": [
    "# problem_names = ['Cottontail Climb (Part 2)']"
   ]
  },
  {
   "cell_type": "code",
   "execution_count": 11,
   "id": "17f05ffb",
   "metadata": {},
   "outputs": [],
   "source": [
    "thread_per_question = 20"
   ]
  },
  {
   "cell_type": "code",
   "execution_count": 12,
   "id": "6e1655c7",
   "metadata": {},
   "outputs": [],
   "source": [
    "contest_folders = [contest_folder] * len(problem_names) * thread_per_question\n",
    "passwords = [password] * len(problem_names) * thread_per_question\n",
    "solution_ids = sorted([f\"{i:03}\" for i in range(thread_per_question)] * len(problem_names))\n",
    "problem_names = problem_names * thread_per_question"
   ]
  },
  {
   "cell_type": "code",
   "execution_count": 13,
   "id": "56d190a0",
   "metadata": {},
   "outputs": [],
   "source": [
    "import pandas as pd\n",
    "\n",
    "df = pd.DataFrame(\n",
    "    {\n",
    "        \"contest_folder\": contest_folders,\n",
    "        \"password\": passwords,\n",
    "        \"problem_name\": problem_names,\n",
    "        \"solution_id\": solution_ids,\n",
    "    }\n",
    ")"
   ]
  },
  {
   "cell_type": "code",
   "execution_count": 14,
   "id": "0306c3c3",
   "metadata": {},
   "outputs": [],
   "source": [
    "# solve(contest_folder, password, problem_name, \"001\")"
   ]
  },
  {
   "cell_type": "code",
   "execution_count": 15,
   "id": "df15209f",
   "metadata": {},
   "outputs": [],
   "source": [
    "from worker import solve"
   ]
  },
  {
   "cell_type": "code",
   "execution_count": 16,
   "id": "801afc7d",
   "metadata": {},
   "outputs": [
    {
     "name": "stderr",
     "output_type": "stream",
     "text": [
      "Future exception was never retrieved\n",
      "future: <Future finished exception=ClientOSError(32, 'Broken pipe')>\n",
      "aiohttp.client_exceptions.ClientOSError: [Errno 32] Broken pipe\n",
      "Future exception was never retrieved\n",
      "future: <Future finished exception=ClientOSError(32, 'Broken pipe')>\n",
      "aiohttp.client_exceptions.ClientOSError: [Errno 32] Broken pipe\n",
      "Future exception was never retrieved\n",
      "future: <Future finished exception=ClientOSError(32, 'Broken pipe')>\n",
      "aiohttp.client_exceptions.ClientOSError: [Errno 32] Broken pipe\n",
      "Future exception was never retrieved\n",
      "future: <Future finished exception=ClientOSError(32, 'Broken pipe')>\n",
      "aiohttp.client_exceptions.ClientOSError: [Errno 32] Broken pipe\n"
     ]
    },
    {
     "ename": "KeyboardInterrupt",
     "evalue": "",
     "output_type": "error",
     "traceback": [
      "\u001b[0;31m---------------------------------------------------------------------------\u001b[0m",
      "\u001b[0;31mClientOSError\u001b[0m                             Traceback (most recent call last)",
      "Input \u001b[0;32mIn [16]\u001b[0m, in \u001b[0;36m<module>\u001b[0;34m\u001b[0m\n\u001b[1;32m      5\u001b[0m results \u001b[38;5;241m=\u001b[39m executor\u001b[38;5;241m.\u001b[39mmap(solve, df[\u001b[38;5;124m\"\u001b[39m\u001b[38;5;124mcontest_folder\u001b[39m\u001b[38;5;124m\"\u001b[39m], df[\u001b[38;5;124m\"\u001b[39m\u001b[38;5;124mpassword\u001b[39m\u001b[38;5;124m\"\u001b[39m], df[\u001b[38;5;124m\"\u001b[39m\u001b[38;5;124mproblem_name\u001b[39m\u001b[38;5;124m\"\u001b[39m], df[\u001b[38;5;124m\"\u001b[39m\u001b[38;5;124msolution_id\u001b[39m\u001b[38;5;124m\"\u001b[39m])\n\u001b[0;32m----> 6\u001b[0m results \u001b[38;5;241m=\u001b[39m \u001b[38;5;28;43mlist\u001b[39;49m\u001b[43m(\u001b[49m\u001b[43mresults\u001b[49m\u001b[43m)\u001b[49m\n",
      "File \u001b[0;32m/usr/local/Caskroom/miniforge/base/lib/python3.9/concurrent/futures/_base.py:608\u001b[0m, in \u001b[0;36mExecutor.map.<locals>.result_iterator\u001b[0;34m()\u001b[0m\n\u001b[1;32m    607\u001b[0m \u001b[38;5;28;01mif\u001b[39;00m timeout \u001b[38;5;129;01mis\u001b[39;00m \u001b[38;5;28;01mNone\u001b[39;00m:\n\u001b[0;32m--> 608\u001b[0m     \u001b[38;5;28;01myield\u001b[39;00m \u001b[43mfs\u001b[49m\u001b[38;5;241;43m.\u001b[39;49m\u001b[43mpop\u001b[49m\u001b[43m(\u001b[49m\u001b[43m)\u001b[49m\u001b[38;5;241;43m.\u001b[39;49m\u001b[43mresult\u001b[49m\u001b[43m(\u001b[49m\u001b[43m)\u001b[49m\n\u001b[1;32m    609\u001b[0m \u001b[38;5;28;01melse\u001b[39;00m:\n",
      "File \u001b[0;32m/usr/local/Caskroom/miniforge/base/lib/python3.9/concurrent/futures/_base.py:445\u001b[0m, in \u001b[0;36mFuture.result\u001b[0;34m(self, timeout)\u001b[0m\n\u001b[1;32m    444\u001b[0m \u001b[38;5;28;01melif\u001b[39;00m \u001b[38;5;28mself\u001b[39m\u001b[38;5;241m.\u001b[39m_state \u001b[38;5;241m==\u001b[39m FINISHED:\n\u001b[0;32m--> 445\u001b[0m     \u001b[38;5;28;01mreturn\u001b[39;00m \u001b[38;5;28;43mself\u001b[39;49m\u001b[38;5;241;43m.\u001b[39;49m\u001b[43m__get_result\u001b[49m\u001b[43m(\u001b[49m\u001b[43m)\u001b[49m\n\u001b[1;32m    446\u001b[0m \u001b[38;5;28;01melse\u001b[39;00m:\n",
      "File \u001b[0;32m/usr/local/Caskroom/miniforge/base/lib/python3.9/concurrent/futures/_base.py:390\u001b[0m, in \u001b[0;36mFuture.__get_result\u001b[0;34m(self)\u001b[0m\n\u001b[1;32m    389\u001b[0m \u001b[38;5;28;01mtry\u001b[39;00m:\n\u001b[0;32m--> 390\u001b[0m     \u001b[38;5;28;01mraise\u001b[39;00m \u001b[38;5;28mself\u001b[39m\u001b[38;5;241m.\u001b[39m_exception\n\u001b[1;32m    391\u001b[0m \u001b[38;5;28;01mfinally\u001b[39;00m:\n\u001b[1;32m    392\u001b[0m     \u001b[38;5;66;03m# Break a reference cycle with the exception in self._exception\u001b[39;00m\n",
      "File \u001b[0;32m/usr/local/Caskroom/miniforge/base/lib/python3.9/concurrent/futures/thread.py:52\u001b[0m, in \u001b[0;36m_WorkItem.run\u001b[0;34m(self)\u001b[0m\n\u001b[1;32m     51\u001b[0m \u001b[38;5;28;01mtry\u001b[39;00m:\n\u001b[0;32m---> 52\u001b[0m     result \u001b[38;5;241m=\u001b[39m \u001b[38;5;28;43mself\u001b[39;49m\u001b[38;5;241;43m.\u001b[39;49m\u001b[43mfn\u001b[49m\u001b[43m(\u001b[49m\u001b[38;5;241;43m*\u001b[39;49m\u001b[38;5;28;43mself\u001b[39;49m\u001b[38;5;241;43m.\u001b[39;49m\u001b[43margs\u001b[49m\u001b[43m,\u001b[49m\u001b[43m \u001b[49m\u001b[38;5;241;43m*\u001b[39;49m\u001b[38;5;241;43m*\u001b[39;49m\u001b[38;5;28;43mself\u001b[39;49m\u001b[38;5;241;43m.\u001b[39;49m\u001b[43mkwargs\u001b[49m\u001b[43m)\u001b[49m\n\u001b[1;32m     53\u001b[0m \u001b[38;5;28;01mexcept\u001b[39;00m \u001b[38;5;167;01mBaseException\u001b[39;00m \u001b[38;5;28;01mas\u001b[39;00m exc:\n",
      "File \u001b[0;32m~/Desktop/hackercup/worker.py:117\u001b[0m, in \u001b[0;36msolve\u001b[0;34m(contest_folder, password, problem_name, solution_id)\u001b[0m\n\u001b[1;32m    116\u001b[0m     sample_executed_output, sample_executed_error \u001b[38;5;241m=\u001b[39m sample_future\u001b[38;5;241m.\u001b[39mresult()\n\u001b[0;32m--> 117\u001b[0m     full_executed_output, full_executed_error \u001b[38;5;241m=\u001b[39m \u001b[43mfull_future\u001b[49m\u001b[38;5;241;43m.\u001b[39;49m\u001b[43mresult\u001b[49m\u001b[43m(\u001b[49m\u001b[43m)\u001b[49m\n\u001b[1;32m    119\u001b[0m \u001b[38;5;28;01mif\u001b[39;00m sample_executed_error:\n",
      "File \u001b[0;32m/usr/local/Caskroom/miniforge/base/lib/python3.9/concurrent/futures/_base.py:445\u001b[0m, in \u001b[0;36mFuture.result\u001b[0;34m(self, timeout)\u001b[0m\n\u001b[1;32m    444\u001b[0m \u001b[38;5;28;01melif\u001b[39;00m \u001b[38;5;28mself\u001b[39m\u001b[38;5;241m.\u001b[39m_state \u001b[38;5;241m==\u001b[39m FINISHED:\n\u001b[0;32m--> 445\u001b[0m     \u001b[38;5;28;01mreturn\u001b[39;00m \u001b[38;5;28;43mself\u001b[39;49m\u001b[38;5;241;43m.\u001b[39;49m\u001b[43m__get_result\u001b[49m\u001b[43m(\u001b[49m\u001b[43m)\u001b[49m\n\u001b[1;32m    446\u001b[0m \u001b[38;5;28;01melse\u001b[39;00m:\n",
      "File \u001b[0;32m/usr/local/Caskroom/miniforge/base/lib/python3.9/concurrent/futures/_base.py:390\u001b[0m, in \u001b[0;36mFuture.__get_result\u001b[0;34m(self)\u001b[0m\n\u001b[1;32m    389\u001b[0m \u001b[38;5;28;01mtry\u001b[39;00m:\n\u001b[0;32m--> 390\u001b[0m     \u001b[38;5;28;01mraise\u001b[39;00m \u001b[38;5;28mself\u001b[39m\u001b[38;5;241m.\u001b[39m_exception\n\u001b[1;32m    391\u001b[0m \u001b[38;5;28;01mfinally\u001b[39;00m:\n\u001b[1;32m    392\u001b[0m     \u001b[38;5;66;03m# Break a reference cycle with the exception in self._exception\u001b[39;00m\n",
      "File \u001b[0;32m/usr/local/Caskroom/miniforge/base/lib/python3.9/concurrent/futures/thread.py:52\u001b[0m, in \u001b[0;36m_WorkItem.run\u001b[0;34m(self)\u001b[0m\n\u001b[1;32m     51\u001b[0m \u001b[38;5;28;01mtry\u001b[39;00m:\n\u001b[0;32m---> 52\u001b[0m     result \u001b[38;5;241m=\u001b[39m \u001b[38;5;28;43mself\u001b[39;49m\u001b[38;5;241;43m.\u001b[39;49m\u001b[43mfn\u001b[49m\u001b[43m(\u001b[49m\u001b[38;5;241;43m*\u001b[39;49m\u001b[38;5;28;43mself\u001b[39;49m\u001b[38;5;241;43m.\u001b[39;49m\u001b[43margs\u001b[49m\u001b[43m,\u001b[49m\u001b[43m \u001b[49m\u001b[38;5;241;43m*\u001b[39;49m\u001b[38;5;241;43m*\u001b[39;49m\u001b[38;5;28;43mself\u001b[39;49m\u001b[38;5;241;43m.\u001b[39;49m\u001b[43mkwargs\u001b[49m\u001b[43m)\u001b[49m\n\u001b[1;32m     53\u001b[0m \u001b[38;5;28;01mexcept\u001b[39;00m \u001b[38;5;167;01mBaseException\u001b[39;00m \u001b[38;5;28;01mas\u001b[39;00m exc:\n",
      "File \u001b[0;32m~/Desktop/hackercup/worker.py:114\u001b[0m, in \u001b[0;36msolve.<locals>.<lambda>\u001b[0;34m()\u001b[0m\n\u001b[1;32m    113\u001b[0m sample_future \u001b[38;5;241m=\u001b[39m executor\u001b[38;5;241m.\u001b[39msubmit(\u001b[38;5;28;01mlambda\u001b[39;00m: execute_code\u001b[38;5;241m.\u001b[39mremote(python_code, sample_in))\n\u001b[0;32m--> 114\u001b[0m full_future \u001b[38;5;241m=\u001b[39m executor\u001b[38;5;241m.\u001b[39msubmit(\u001b[38;5;28;01mlambda\u001b[39;00m: \u001b[43mexecute_code\u001b[49m\u001b[38;5;241;43m.\u001b[39;49m\u001b[43mremote\u001b[49m\u001b[43m(\u001b[49m\u001b[43mpython_code\u001b[49m\u001b[43m,\u001b[49m\u001b[43m \u001b[49m\u001b[43mfull_in\u001b[49m\u001b[43m)\u001b[49m)\n\u001b[1;32m    116\u001b[0m sample_executed_output, sample_executed_error \u001b[38;5;241m=\u001b[39m sample_future\u001b[38;5;241m.\u001b[39mresult()\n",
      "File \u001b[0;32m/usr/local/Caskroom/miniforge/base/lib/python3.9/site-packages/synchronicity/synchronizer.py:540\u001b[0m, in \u001b[0;36mSynchronizer._wrap_proxy_method.<locals>.proxy_method\u001b[0;34m(self, *args, **kwargs)\u001b[0m\n\u001b[1;32m    539\u001b[0m \u001b[38;5;28;01mtry\u001b[39;00m:\n\u001b[0;32m--> 540\u001b[0m     \u001b[38;5;28;01mreturn\u001b[39;00m \u001b[43mwrapped_method\u001b[49m\u001b[43m(\u001b[49m\u001b[43minstance\u001b[49m\u001b[43m,\u001b[49m\u001b[43m \u001b[49m\u001b[38;5;241;43m*\u001b[39;49m\u001b[43margs\u001b[49m\u001b[43m,\u001b[49m\u001b[43m \u001b[49m\u001b[38;5;241;43m*\u001b[39;49m\u001b[38;5;241;43m*\u001b[39;49m\u001b[43mkwargs\u001b[49m\u001b[43m)\u001b[49m\n\u001b[1;32m    541\u001b[0m \u001b[38;5;28;01mexcept\u001b[39;00m UserCodeException \u001b[38;5;28;01mas\u001b[39;00m uc_exc:\n",
      "File \u001b[0;32m/usr/local/Caskroom/miniforge/base/lib/python3.9/site-packages/synchronicity/combined_types.py:28\u001b[0m, in \u001b[0;36mFunctionWithAio.__call__\u001b[0;34m(self, *args, **kwargs)\u001b[0m\n\u001b[1;32m     27\u001b[0m \u001b[38;5;28;01mexcept\u001b[39;00m UserCodeException \u001b[38;5;28;01mas\u001b[39;00m uc_exc:\n\u001b[0;32m---> 28\u001b[0m     \u001b[38;5;28;01mraise\u001b[39;00m uc_exc\u001b[38;5;241m.\u001b[39mexc \u001b[38;5;28;01mfrom\u001b[39;00m \u001b[38;5;28;01mNone\u001b[39;00m\n",
      "File \u001b[0;32m/usr/local/Caskroom/miniforge/base/lib/python3.9/site-packages/modal/object.py:233\u001b[0m, in \u001b[0;36mlive_method.<locals>.wrapped\u001b[0;34m(self, *args, **kwargs)\u001b[0m\n\u001b[1;32m    232\u001b[0m \u001b[38;5;28;01mawait\u001b[39;00m \u001b[38;5;28mself\u001b[39m\u001b[38;5;241m.\u001b[39mresolve()\n\u001b[0;32m--> 233\u001b[0m \u001b[38;5;28;01mreturn\u001b[39;00m \u001b[38;5;28;01mawait\u001b[39;00m method(\u001b[38;5;28mself\u001b[39m, \u001b[38;5;241m*\u001b[39margs, \u001b[38;5;241m*\u001b[39m\u001b[38;5;241m*\u001b[39mkwargs)\n",
      "File \u001b[0;32m/usr/local/Caskroom/miniforge/base/lib/python3.9/site-packages/modal/functions.py:1247\u001b[0m, in \u001b[0;36m_Function.remote\u001b[0;34m(self, *args, **kwargs)\u001b[0m\n\u001b[1;32m   1243\u001b[0m     \u001b[38;5;28;01mraise\u001b[39;00m InvalidError(\n\u001b[1;32m   1244\u001b[0m         \u001b[38;5;124m\"\u001b[39m\u001b[38;5;124mA generator function cannot be called with `.remote(...)`. Use `.remote_gen(...)` instead.\u001b[39m\u001b[38;5;124m\"\u001b[39m\n\u001b[1;32m   1245\u001b[0m     )\n\u001b[0;32m-> 1247\u001b[0m \u001b[38;5;28;01mreturn\u001b[39;00m \u001b[38;5;28;01mawait\u001b[39;00m \u001b[38;5;28mself\u001b[39m\u001b[38;5;241m.\u001b[39m_call_function(args, kwargs)\n",
      "File \u001b[0;32m/usr/local/Caskroom/miniforge/base/lib/python3.9/site-packages/modal/functions.py:1205\u001b[0m, in \u001b[0;36m_Function._call_function\u001b[0;34m(self, args, kwargs)\u001b[0m\n\u001b[1;32m   1204\u001b[0m \u001b[38;5;28;01masync\u001b[39;00m \u001b[38;5;28;01mdef\u001b[39;00m \u001b[38;5;21m_call_function\u001b[39m(\u001b[38;5;28mself\u001b[39m, args, kwargs) \u001b[38;5;241m-\u001b[39m\u001b[38;5;241m>\u001b[39m R:\n\u001b[0;32m-> 1205\u001b[0m     invocation \u001b[38;5;241m=\u001b[39m \u001b[38;5;28;01mawait\u001b[39;00m _Invocation\u001b[38;5;241m.\u001b[39mcreate(\u001b[38;5;28mself\u001b[39m, args, kwargs, client\u001b[38;5;241m=\u001b[39m\u001b[38;5;28mself\u001b[39m\u001b[38;5;241m.\u001b[39m_client)\n\u001b[1;32m   1206\u001b[0m     \u001b[38;5;28;01mtry\u001b[39;00m:\n",
      "File \u001b[0;32m/usr/local/Caskroom/miniforge/base/lib/python3.9/site-packages/modal/functions.py:113\u001b[0m, in \u001b[0;36m_Invocation.create\u001b[0;34m(function, args, kwargs, client)\u001b[0m\n\u001b[1;32m    112\u001b[0m function_id \u001b[38;5;241m=\u001b[39m function\u001b[38;5;241m.\u001b[39m_invocation_function_id()\n\u001b[0;32m--> 113\u001b[0m item \u001b[38;5;241m=\u001b[39m \u001b[38;5;28;01mawait\u001b[39;00m _create_input(args, kwargs, client, method_name\u001b[38;5;241m=\u001b[39mfunction\u001b[38;5;241m.\u001b[39m_use_method_name)\n\u001b[1;32m    115\u001b[0m request \u001b[38;5;241m=\u001b[39m api_pb2\u001b[38;5;241m.\u001b[39mFunctionMapRequest(\n\u001b[1;32m    116\u001b[0m     function_id\u001b[38;5;241m=\u001b[39mfunction_id,\n\u001b[1;32m    117\u001b[0m     parent_input_id\u001b[38;5;241m=\u001b[39mcurrent_input_id() \u001b[38;5;129;01mor\u001b[39;00m \u001b[38;5;124m\"\u001b[39m\u001b[38;5;124m\"\u001b[39m,\n\u001b[1;32m    118\u001b[0m     function_call_type\u001b[38;5;241m=\u001b[39mapi_pb2\u001b[38;5;241m.\u001b[39mFUNCTION_CALL_TYPE_UNARY,\n\u001b[1;32m    119\u001b[0m     pipelined_inputs\u001b[38;5;241m=\u001b[39m[item],\n\u001b[1;32m    120\u001b[0m )\n",
      "File \u001b[0;32m/usr/local/Caskroom/miniforge/base/lib/python3.9/site-packages/modal/_utils/function_utils.py:462\u001b[0m, in \u001b[0;36m_create_input\u001b[0;34m(args, kwargs, client, idx, method_name)\u001b[0m\n\u001b[1;32m    461\u001b[0m \u001b[38;5;28;01mif\u001b[39;00m \u001b[38;5;28mlen\u001b[39m(args_serialized) \u001b[38;5;241m>\u001b[39m MAX_OBJECT_SIZE_BYTES:\n\u001b[0;32m--> 462\u001b[0m     args_blob_id \u001b[38;5;241m=\u001b[39m \u001b[38;5;28;01mawait\u001b[39;00m blob_upload(args_serialized, client\u001b[38;5;241m.\u001b[39mstub)\n\u001b[1;32m    464\u001b[0m     \u001b[38;5;28;01mreturn\u001b[39;00m api_pb2\u001b[38;5;241m.\u001b[39mFunctionPutInputsItem(\n\u001b[1;32m    465\u001b[0m         \u001b[38;5;28minput\u001b[39m\u001b[38;5;241m=\u001b[39mapi_pb2\u001b[38;5;241m.\u001b[39mFunctionInput(\n\u001b[1;32m    466\u001b[0m             args_blob_id\u001b[38;5;241m=\u001b[39margs_blob_id,\n\u001b[0;32m   (...)\u001b[0m\n\u001b[1;32m    470\u001b[0m         idx\u001b[38;5;241m=\u001b[39midx,\n\u001b[1;32m    471\u001b[0m     )\n",
      "File \u001b[0;32m/usr/local/Caskroom/miniforge/base/lib/python3.9/site-packages/modal/_utils/blob_utils.py:295\u001b[0m, in \u001b[0;36mblob_upload\u001b[0;34m(payload, stub)\u001b[0m\n\u001b[1;32m    294\u001b[0m upload_hashes \u001b[38;5;241m=\u001b[39m get_upload_hashes(payload)\n\u001b[0;32m--> 295\u001b[0m \u001b[38;5;28;01mreturn\u001b[39;00m \u001b[38;5;28;01mawait\u001b[39;00m _blob_upload(upload_hashes, payload, stub)\n",
      "File \u001b[0;32m/usr/local/Caskroom/miniforge/base/lib/python3.9/site-packages/modal/_utils/blob_utils.py:277\u001b[0m, in \u001b[0;36m_blob_upload\u001b[0;34m(upload_hashes, data, stub, progress_report_cb)\u001b[0m\n\u001b[1;32m    274\u001b[0m     payload \u001b[38;5;241m=\u001b[39m BytesIOSegmentPayload(\n\u001b[1;32m    275\u001b[0m         data, segment_start\u001b[38;5;241m=\u001b[39m\u001b[38;5;241m0\u001b[39m, segment_length\u001b[38;5;241m=\u001b[39mcontent_length, progress_report_cb\u001b[38;5;241m=\u001b[39mprogress_report_cb\n\u001b[1;32m    276\u001b[0m     )\n\u001b[0;32m--> 277\u001b[0m     \u001b[38;5;28;01mawait\u001b[39;00m _upload_to_s3_url(\n\u001b[1;32m    278\u001b[0m         resp\u001b[38;5;241m.\u001b[39mupload_url,\n\u001b[1;32m    279\u001b[0m         payload,\n\u001b[1;32m    280\u001b[0m         \u001b[38;5;66;03m# for single part uploads, we use server side md5 checksums\u001b[39;00m\n\u001b[1;32m    281\u001b[0m         content_md5_b64\u001b[38;5;241m=\u001b[39mupload_hashes\u001b[38;5;241m.\u001b[39mmd5_base64,\n\u001b[1;32m    282\u001b[0m     )\n\u001b[1;32m    284\u001b[0m \u001b[38;5;28;01mif\u001b[39;00m progress_report_cb:\n",
      "File \u001b[0;32m/usr/local/Caskroom/miniforge/base/lib/python3.9/site-packages/modal/_utils/async_utils.py:61\u001b[0m, in \u001b[0;36mretry.<locals>.decorator.<locals>.f_wrapped\u001b[0;34m(*args, **kwargs)\u001b[0m\n\u001b[1;32m     60\u001b[0m \u001b[38;5;28;01mtry\u001b[39;00m:\n\u001b[0;32m---> 61\u001b[0m     \u001b[38;5;28;01mreturn\u001b[39;00m \u001b[38;5;28;01mawait\u001b[39;00m asyncio\u001b[38;5;241m.\u001b[39mwait_for(fn(\u001b[38;5;241m*\u001b[39margs, \u001b[38;5;241m*\u001b[39m\u001b[38;5;241m*\u001b[39mkwargs), timeout\u001b[38;5;241m=\u001b[39mtimeout)\n\u001b[1;32m     62\u001b[0m \u001b[38;5;28;01mexcept\u001b[39;00m asyncio\u001b[38;5;241m.\u001b[39mCancelledError:\n",
      "File \u001b[0;32m/usr/local/Caskroom/miniforge/base/lib/python3.9/asyncio/tasks.py:442\u001b[0m, in \u001b[0;36mwait_for\u001b[0;34m(fut, timeout, loop)\u001b[0m\n\u001b[1;32m    441\u001b[0m \u001b[38;5;28;01mif\u001b[39;00m timeout \u001b[38;5;129;01mis\u001b[39;00m \u001b[38;5;28;01mNone\u001b[39;00m:\n\u001b[0;32m--> 442\u001b[0m     \u001b[38;5;28;01mreturn\u001b[39;00m \u001b[38;5;28;01mawait\u001b[39;00m fut\n\u001b[1;32m    444\u001b[0m \u001b[38;5;28;01mif\u001b[39;00m timeout \u001b[38;5;241m<\u001b[39m\u001b[38;5;241m=\u001b[39m \u001b[38;5;241m0\u001b[39m:\n",
      "File \u001b[0;32m/usr/local/Caskroom/miniforge/base/lib/python3.9/site-packages/modal/_utils/blob_utils.py:137\u001b[0m, in \u001b[0;36m_upload_to_s3_url\u001b[0;34m(upload_url, payload, content_md5_b64, content_type)\u001b[0m\n\u001b[1;32m    135\u001b[0m     headers[\u001b[38;5;124m\"\u001b[39m\u001b[38;5;124mContent-Type\u001b[39m\u001b[38;5;124m\"\u001b[39m] \u001b[38;5;241m=\u001b[39m content_type\n\u001b[0;32m--> 137\u001b[0m \u001b[38;5;28;01masync\u001b[39;00m \u001b[38;5;28;01mwith\u001b[39;00m ClientSessionRegistry\u001b[38;5;241m.\u001b[39mget_session()\u001b[38;5;241m.\u001b[39mput(\n\u001b[1;32m    138\u001b[0m     upload_url,\n\u001b[1;32m    139\u001b[0m     data\u001b[38;5;241m=\u001b[39mpayload,\n\u001b[1;32m    140\u001b[0m     headers\u001b[38;5;241m=\u001b[39mheaders,\n\u001b[1;32m    141\u001b[0m     skip_auto_headers\u001b[38;5;241m=\u001b[39m[\u001b[38;5;124m\"\u001b[39m\u001b[38;5;124mcontent-type\u001b[39m\u001b[38;5;124m\"\u001b[39m] \u001b[38;5;28;01mif\u001b[39;00m content_type \u001b[38;5;129;01mis\u001b[39;00m \u001b[38;5;28;01mNone\u001b[39;00m \u001b[38;5;28;01melse\u001b[39;00m [],\n\u001b[1;32m    142\u001b[0m ) \u001b[38;5;28;01mas\u001b[39;00m resp:\n\u001b[1;32m    143\u001b[0m     \u001b[38;5;66;03m# S3 signal to slow down request rate.\u001b[39;00m\n\u001b[1;32m    144\u001b[0m     \u001b[38;5;28;01mif\u001b[39;00m resp\u001b[38;5;241m.\u001b[39mstatus \u001b[38;5;241m==\u001b[39m \u001b[38;5;241m503\u001b[39m:\n",
      "File \u001b[0;32m/usr/local/Caskroom/miniforge/base/lib/python3.9/site-packages/aiohttp/client.py:1141\u001b[0m, in \u001b[0;36m_BaseRequestContextManager.__aenter__\u001b[0;34m(self)\u001b[0m\n\u001b[1;32m   1140\u001b[0m \u001b[38;5;28;01masync\u001b[39;00m \u001b[38;5;28;01mdef\u001b[39;00m \u001b[38;5;21m__aenter__\u001b[39m(\u001b[38;5;28mself\u001b[39m) \u001b[38;5;241m-\u001b[39m\u001b[38;5;241m>\u001b[39m _RetType:\n\u001b[0;32m-> 1141\u001b[0m     \u001b[38;5;28mself\u001b[39m\u001b[38;5;241m.\u001b[39m_resp \u001b[38;5;241m=\u001b[39m \u001b[38;5;28;01mawait\u001b[39;00m \u001b[38;5;28mself\u001b[39m\u001b[38;5;241m.\u001b[39m_coro\n\u001b[1;32m   1142\u001b[0m     \u001b[38;5;28;01mreturn\u001b[39;00m \u001b[38;5;28mself\u001b[39m\u001b[38;5;241m.\u001b[39m_resp\n",
      "File \u001b[0;32m/usr/local/Caskroom/miniforge/base/lib/python3.9/site-packages/aiohttp/client.py:560\u001b[0m, in \u001b[0;36mClientSession._request\u001b[0;34m(self, method, str_or_url, params, data, json, cookies, headers, skip_auto_headers, auth, allow_redirects, max_redirects, compress, chunked, expect100, raise_for_status, read_until_eof, proxy, proxy_auth, timeout, verify_ssl, fingerprint, ssl_context, ssl, proxy_headers, trace_request_ctx, read_bufsize)\u001b[0m\n\u001b[1;32m    559\u001b[0m \u001b[38;5;28;01mtry\u001b[39;00m:\n\u001b[0;32m--> 560\u001b[0m     \u001b[38;5;28;01mawait\u001b[39;00m resp\u001b[38;5;241m.\u001b[39mstart(conn)\n\u001b[1;32m    561\u001b[0m \u001b[38;5;28;01mexcept\u001b[39;00m \u001b[38;5;167;01mBaseException\u001b[39;00m:\n",
      "File \u001b[0;32m/usr/local/Caskroom/miniforge/base/lib/python3.9/site-packages/aiohttp/client_reqrep.py:899\u001b[0m, in \u001b[0;36mClientResponse.start\u001b[0;34m(self, connection)\u001b[0m\n\u001b[1;32m    898\u001b[0m     protocol \u001b[38;5;241m=\u001b[39m \u001b[38;5;28mself\u001b[39m\u001b[38;5;241m.\u001b[39m_protocol\n\u001b[0;32m--> 899\u001b[0m     message, payload \u001b[38;5;241m=\u001b[39m \u001b[38;5;28;01mawait\u001b[39;00m protocol\u001b[38;5;241m.\u001b[39mread()  \u001b[38;5;66;03m# type: ignore[union-attr]\u001b[39;00m\n\u001b[1;32m    900\u001b[0m \u001b[38;5;28;01mexcept\u001b[39;00m http\u001b[38;5;241m.\u001b[39mHttpProcessingError \u001b[38;5;28;01mas\u001b[39;00m exc:\n",
      "File \u001b[0;32m/usr/local/Caskroom/miniforge/base/lib/python3.9/site-packages/aiohttp/streams.py:616\u001b[0m, in \u001b[0;36mDataQueue.read\u001b[0;34m(self)\u001b[0m\n\u001b[1;32m    615\u001b[0m \u001b[38;5;28;01mtry\u001b[39;00m:\n\u001b[0;32m--> 616\u001b[0m     \u001b[38;5;28;01mawait\u001b[39;00m \u001b[38;5;28mself\u001b[39m\u001b[38;5;241m.\u001b[39m_waiter\n\u001b[1;32m    617\u001b[0m \u001b[38;5;28;01mexcept\u001b[39;00m (asyncio\u001b[38;5;241m.\u001b[39mCancelledError, asyncio\u001b[38;5;241m.\u001b[39mTimeoutError):\n",
      "\u001b[0;31mClientOSError\u001b[0m: [Errno 32] Broken pipe",
      "\nDuring handling of the above exception, another exception occurred:\n",
      "\u001b[0;31mKeyboardInterrupt\u001b[0m                         Traceback (most recent call last)",
      "Input \u001b[0;32mIn [16]\u001b[0m, in \u001b[0;36m<module>\u001b[0;34m\u001b[0m\n\u001b[1;32m      3\u001b[0m \u001b[38;5;28;01mwith\u001b[39;00m concurrent\u001b[38;5;241m.\u001b[39mfutures\u001b[38;5;241m.\u001b[39mThreadPoolExecutor(max_workers\u001b[38;5;241m=\u001b[39m\u001b[38;5;241m40\u001b[39m) \u001b[38;5;28;01mas\u001b[39;00m executor:\n\u001b[1;32m      4\u001b[0m     \u001b[38;5;66;03m# run in parallel\u001b[39;00m\n\u001b[1;32m      5\u001b[0m     results \u001b[38;5;241m=\u001b[39m executor\u001b[38;5;241m.\u001b[39mmap(solve, df[\u001b[38;5;124m\"\u001b[39m\u001b[38;5;124mcontest_folder\u001b[39m\u001b[38;5;124m\"\u001b[39m], df[\u001b[38;5;124m\"\u001b[39m\u001b[38;5;124mpassword\u001b[39m\u001b[38;5;124m\"\u001b[39m], df[\u001b[38;5;124m\"\u001b[39m\u001b[38;5;124mproblem_name\u001b[39m\u001b[38;5;124m\"\u001b[39m], df[\u001b[38;5;124m\"\u001b[39m\u001b[38;5;124msolution_id\u001b[39m\u001b[38;5;124m\"\u001b[39m])\n\u001b[0;32m----> 6\u001b[0m     results \u001b[38;5;241m=\u001b[39m \u001b[38;5;28mlist\u001b[39m(results)\n",
      "File \u001b[0;32m/usr/local/Caskroom/miniforge/base/lib/python3.9/concurrent/futures/_base.py:636\u001b[0m, in \u001b[0;36mExecutor.__exit__\u001b[0;34m(self, exc_type, exc_val, exc_tb)\u001b[0m\n\u001b[1;32m    635\u001b[0m \u001b[38;5;28;01mdef\u001b[39;00m \u001b[38;5;21m__exit__\u001b[39m(\u001b[38;5;28mself\u001b[39m, exc_type, exc_val, exc_tb):\n\u001b[0;32m--> 636\u001b[0m     \u001b[38;5;28;43mself\u001b[39;49m\u001b[38;5;241;43m.\u001b[39;49m\u001b[43mshutdown\u001b[49m\u001b[43m(\u001b[49m\u001b[43mwait\u001b[49m\u001b[38;5;241;43m=\u001b[39;49m\u001b[38;5;28;43;01mTrue\u001b[39;49;00m\u001b[43m)\u001b[49m\n\u001b[1;32m    637\u001b[0m     \u001b[38;5;28;01mreturn\u001b[39;00m \u001b[38;5;28;01mFalse\u001b[39;00m\n",
      "File \u001b[0;32m/usr/local/Caskroom/miniforge/base/lib/python3.9/concurrent/futures/thread.py:229\u001b[0m, in \u001b[0;36mThreadPoolExecutor.shutdown\u001b[0;34m(self, wait, cancel_futures)\u001b[0m\n\u001b[1;32m    227\u001b[0m \u001b[38;5;28;01mif\u001b[39;00m wait:\n\u001b[1;32m    228\u001b[0m     \u001b[38;5;28;01mfor\u001b[39;00m t \u001b[38;5;129;01min\u001b[39;00m \u001b[38;5;28mself\u001b[39m\u001b[38;5;241m.\u001b[39m_threads:\n\u001b[0;32m--> 229\u001b[0m         \u001b[43mt\u001b[49m\u001b[38;5;241;43m.\u001b[39;49m\u001b[43mjoin\u001b[49m\u001b[43m(\u001b[49m\u001b[43m)\u001b[49m\n",
      "File \u001b[0;32m/usr/local/Caskroom/miniforge/base/lib/python3.9/threading.py:1053\u001b[0m, in \u001b[0;36mThread.join\u001b[0;34m(self, timeout)\u001b[0m\n\u001b[1;32m   1050\u001b[0m     \u001b[38;5;28;01mraise\u001b[39;00m \u001b[38;5;167;01mRuntimeError\u001b[39;00m(\u001b[38;5;124m\"\u001b[39m\u001b[38;5;124mcannot join current thread\u001b[39m\u001b[38;5;124m\"\u001b[39m)\n\u001b[1;32m   1052\u001b[0m \u001b[38;5;28;01mif\u001b[39;00m timeout \u001b[38;5;129;01mis\u001b[39;00m \u001b[38;5;28;01mNone\u001b[39;00m:\n\u001b[0;32m-> 1053\u001b[0m     \u001b[38;5;28;43mself\u001b[39;49m\u001b[38;5;241;43m.\u001b[39;49m\u001b[43m_wait_for_tstate_lock\u001b[49m\u001b[43m(\u001b[49m\u001b[43m)\u001b[49m\n\u001b[1;32m   1054\u001b[0m \u001b[38;5;28;01melse\u001b[39;00m:\n\u001b[1;32m   1055\u001b[0m     \u001b[38;5;66;03m# the behavior of a negative timeout isn't documented, but\u001b[39;00m\n\u001b[1;32m   1056\u001b[0m     \u001b[38;5;66;03m# historically .join(timeout=x) for x<0 has acted as if timeout=0\u001b[39;00m\n\u001b[1;32m   1057\u001b[0m     \u001b[38;5;28mself\u001b[39m\u001b[38;5;241m.\u001b[39m_wait_for_tstate_lock(timeout\u001b[38;5;241m=\u001b[39m\u001b[38;5;28mmax\u001b[39m(timeout, \u001b[38;5;241m0\u001b[39m))\n",
      "File \u001b[0;32m/usr/local/Caskroom/miniforge/base/lib/python3.9/threading.py:1069\u001b[0m, in \u001b[0;36mThread._wait_for_tstate_lock\u001b[0;34m(self, block, timeout)\u001b[0m\n\u001b[1;32m   1067\u001b[0m \u001b[38;5;28;01mif\u001b[39;00m lock \u001b[38;5;129;01mis\u001b[39;00m \u001b[38;5;28;01mNone\u001b[39;00m:  \u001b[38;5;66;03m# already determined that the C code is done\u001b[39;00m\n\u001b[1;32m   1068\u001b[0m     \u001b[38;5;28;01massert\u001b[39;00m \u001b[38;5;28mself\u001b[39m\u001b[38;5;241m.\u001b[39m_is_stopped\n\u001b[0;32m-> 1069\u001b[0m \u001b[38;5;28;01melif\u001b[39;00m \u001b[43mlock\u001b[49m\u001b[38;5;241;43m.\u001b[39;49m\u001b[43macquire\u001b[49m\u001b[43m(\u001b[49m\u001b[43mblock\u001b[49m\u001b[43m,\u001b[49m\u001b[43m \u001b[49m\u001b[43mtimeout\u001b[49m\u001b[43m)\u001b[49m:\n\u001b[1;32m   1070\u001b[0m     lock\u001b[38;5;241m.\u001b[39mrelease()\n\u001b[1;32m   1071\u001b[0m     \u001b[38;5;28mself\u001b[39m\u001b[38;5;241m.\u001b[39m_stop()\n",
      "\u001b[0;31mKeyboardInterrupt\u001b[0m: "
     ]
    }
   ],
   "source": [
    "import concurrent.futures\n",
    "\n",
    "with concurrent.futures.ThreadPoolExecutor(max_workers=40) as executor:\n",
    "    # run in parallel\n",
    "    results = executor.map(solve, df[\"contest_folder\"], df[\"password\"], df[\"problem_name\"], df[\"solution_id\"])\n",
    "    results = list(results)"
   ]
  },
  {
   "cell_type": "code",
   "execution_count": null,
   "id": "2d738b07",
   "metadata": {},
   "outputs": [],
   "source": []
  },
  {
   "cell_type": "code",
   "execution_count": null,
   "id": "32c8a9c6",
   "metadata": {},
   "outputs": [],
   "source": []
  }
 ],
 "metadata": {
  "kernelspec": {
   "display_name": "Python 3 (ipykernel)",
   "language": "python",
   "name": "python3"
  },
  "language_info": {
   "codemirror_mode": {
    "name": "ipython",
    "version": 3
   },
   "file_extension": ".py",
   "mimetype": "text/x-python",
   "name": "python",
   "nbconvert_exporter": "python",
   "pygments_lexer": "ipython3",
   "version": "3.9.7"
  }
 },
 "nbformat": 4,
 "nbformat_minor": 5
}
