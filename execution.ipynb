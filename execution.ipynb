{
 "cells": [
  {
   "cell_type": "code",
   "execution_count": 1,
   "id": "acf39247",
   "metadata": {},
   "outputs": [],
   "source": [
    "import os\n",
    "import glob\n",
    "import shutil\n",
    "import subprocess"
   ]
  },
  {
   "cell_type": "code",
   "execution_count": 2,
   "id": "6b6bc6f9",
   "metadata": {},
   "outputs": [],
   "source": [
    "shutil.rmtree(\"execution_response\", ignore_errors=True)\n",
    "shutil.rmtree(\"execution_sample_out\", ignore_errors=True)\n",
    "shutil.rmtree(\"execution_full_out\", ignore_errors=True)\n",
    "shutil.rmtree(\"execution_code\", ignore_errors=True)\n",
    "\n",
    "shutil.rmtree(\"practice\", ignore_errors=True)\n",
    "shutil.rmtree(\"contestData\", ignore_errors=True)"
   ]
  },
  {
   "cell_type": "code",
   "execution_count": 3,
   "id": "b786768a",
   "metadata": {},
   "outputs": [],
   "source": [
    "for f in glob.glob(\"output/*\"):\n",
    "    os.remove(f)\n",
    "for f in glob.glob(\"source/*\"):\n",
    "    os.remove(f)\n",
    "for f in glob.glob(\"response/*\"):\n",
    "    os.remove(f)\n",
    "with open('./hash_analyzing', 'w') as f:\n",
    "    f.write(\"\")\n",
    "with open('./hash_analyzed', 'w') as f:\n",
    "    f.write(\"\")"
   ]
  },
  {
   "cell_type": "code",
   "execution_count": 4,
   "id": "6e733643",
   "metadata": {},
   "outputs": [],
   "source": [
    "# TODO - change this during contest\n",
    "contest_folder = 'contestData'\n",
    "password = 'w3ak_password_for_practice'"
   ]
  },
  {
   "cell_type": "code",
   "execution_count": 5,
   "id": "1167c142",
   "metadata": {},
   "outputs": [
    {
     "name": "stdout",
     "output_type": "stream",
     "text": [
      "\n",
      "7-Zip [64] 17.05 : Copyright (c) 1999-2021 Igor Pavlov : 2017-08-28\n",
      "p7zip Version 17.05 (locale=utf8,Utf16=on,HugeFiles=on,64 bits,8 CPUs x64)\n",
      "\n",
      "Scanning the drive for archives:\n",
      "1 file, 11124308 bytes (11 MiB)\n",
      "\n",
      "Extracting archive: contestData.zip\n",
      "--\n",
      "Path = contestData.zip\n",
      "Type = zip\n",
      "Physical Size = 11124308\n",
      "\n",
      "\n",
      "Sub items Errors: 21\n",
      "\n",
      "Archives with Errors: 1\n",
      "\n",
      "Sub items Errors: 21\n"
     ]
    },
    {
     "name": "stderr",
     "output_type": "stream",
     "text": [
      "ERROR: Wrong password : Subsonic Subway/statement.txt\n",
      "ERROR: Wrong password : Subsonic Subway/sample_in.txt\n",
      "ERROR: Wrong password : Subsonic Subway/sample_out.txt\n",
      "ERROR: Wrong password : Subsonic Subway/full_in.txt\n",
      "ERROR: Wrong password : Prime Subtractorization/statement.txt\n",
      "ERROR: Wrong password : Prime Subtractorization/sample_in.txt\n",
      "ERROR: Wrong password : Prime Subtractorization/sample_out.txt\n",
      "ERROR: Wrong password : Prime Subtractorization/full_in.txt\n",
      "ERROR: Wrong password : Substantial Losses/statement.txt\n",
      "ERROR: Wrong password : Substantial Losses/sample_in.txt\n",
      "ERROR: Wrong password : Substantial Losses/sample_out.txt\n",
      "ERROR: Wrong password : Substantial Losses/full_in.txt\n",
      "ERROR: Wrong password : Substitution Cipher/statement.txt\n",
      "ERROR: Wrong password : Substitution Cipher/sample_in.txt\n",
      "ERROR: Wrong password : Substitution Cipher/sample_out.txt\n",
      "ERROR: Wrong password : Substitution Cipher/full_in.txt\n",
      "ERROR: Wrong password : Wildcard Submissions/statement.txt\n",
      "ERROR: Wrong password : Wildcard Submissions/sample_in.txt\n",
      "ERROR: Wrong password : Wildcard Submissions/sample_out.txt\n",
      "ERROR: Wrong password : Wildcard Submissions/full_in.txt\n",
      "ERROR: Wrong password : Subsonic Subway/image_558996120123959_uri.txt\n"
     ]
    },
    {
     "data": {
      "text/plain": [
       "CompletedProcess(args=['7z', 'x', 'contestData.zip', '-pw3ak_password_for_practice', '-ocontestData', '-y'], returncode=2)"
      ]
     },
     "execution_count": 5,
     "metadata": {},
     "output_type": "execute_result"
    }
   ],
   "source": [
    "subprocess.run(\n",
    "    [\n",
    "        '7z', 'x', f'{contest_folder}.zip',\n",
    "        f'-p{password}',\n",
    "        f'-o{contest_folder}',\n",
    "        '-y',\n",
    "    ]\n",
    ")"
   ]
  },
  {
   "cell_type": "code",
   "execution_count": 6,
   "id": "f3d09322",
   "metadata": {},
   "outputs": [
    {
     "data": {
      "text/plain": [
       "['Line of Delivery (Part 1)',\n",
       " 'Line of Delivery (Part 2)',\n",
       " 'Line by Line',\n",
       " 'Fall in Line',\n",
       " 'Walk the Line']"
      ]
     },
     "execution_count": 6,
     "metadata": {},
     "output_type": "execute_result"
    }
   ],
   "source": [
    "import glob\n",
    "import os\n",
    "\n",
    "folders = glob.glob(f\"./{contest_folder}/*/\")  # only select folders\n",
    "problem_names = [os.path.basename(os.path.normpath(folder)) for folder in folders]\n",
    "problem_names"
   ]
  },
  {
   "cell_type": "code",
   "execution_count": 7,
   "id": "17f05ffb",
   "metadata": {},
   "outputs": [],
   "source": [
    "thread_per_question = 10"
   ]
  },
  {
   "cell_type": "code",
   "execution_count": 8,
   "id": "6e1655c7",
   "metadata": {},
   "outputs": [],
   "source": [
    "contest_folders = [contest_folder] * len(problem_names) * thread_per_question\n",
    "passwords = [password] * len(problem_names) * thread_per_question\n",
    "solution_ids = [f\"{i:03}\" for i in range(thread_per_question)] * len(problem_names)\n",
    "problem_names = problem_names * thread_per_question"
   ]
  },
  {
   "cell_type": "code",
   "execution_count": 9,
   "id": "f987a679",
   "metadata": {},
   "outputs": [
    {
     "data": {
      "text/plain": [
       "['000',\n",
       " '001',\n",
       " '002',\n",
       " '003',\n",
       " '004',\n",
       " '005',\n",
       " '006',\n",
       " '007',\n",
       " '008',\n",
       " '009',\n",
       " '000',\n",
       " '001',\n",
       " '002',\n",
       " '003',\n",
       " '004',\n",
       " '005',\n",
       " '006',\n",
       " '007',\n",
       " '008',\n",
       " '009',\n",
       " '000',\n",
       " '001',\n",
       " '002',\n",
       " '003',\n",
       " '004',\n",
       " '005',\n",
       " '006',\n",
       " '007',\n",
       " '008',\n",
       " '009',\n",
       " '000',\n",
       " '001',\n",
       " '002',\n",
       " '003',\n",
       " '004',\n",
       " '005',\n",
       " '006',\n",
       " '007',\n",
       " '008',\n",
       " '009',\n",
       " '000',\n",
       " '001',\n",
       " '002',\n",
       " '003',\n",
       " '004',\n",
       " '005',\n",
       " '006',\n",
       " '007',\n",
       " '008',\n",
       " '009']"
      ]
     },
     "execution_count": 9,
     "metadata": {},
     "output_type": "execute_result"
    }
   ],
   "source": [
    "solution_ids"
   ]
  },
  {
   "cell_type": "code",
   "execution_count": 10,
   "id": "56d190a0",
   "metadata": {},
   "outputs": [],
   "source": [
    "import pandas as pd\n",
    "\n",
    "df = pd.DataFrame(\n",
    "    {\n",
    "        \"contest_folder\": contest_folders,\n",
    "        \"password\": passwords,\n",
    "        \"problem_name\": problem_names,\n",
    "        \"solution_id\": solution_ids,\n",
    "    }\n",
    ")"
   ]
  },
  {
   "cell_type": "code",
   "execution_count": 11,
   "id": "0306c3c3",
   "metadata": {},
   "outputs": [],
   "source": [
    "# solve(contest_folder, password, problem_name, \"001\")"
   ]
  },
  {
   "cell_type": "code",
   "execution_count": 12,
   "id": "df15209f",
   "metadata": {},
   "outputs": [],
   "source": [
    "from worker import solve"
   ]
  },
  {
   "cell_type": "code",
   "execution_count": 13,
   "id": "801afc7d",
   "metadata": {},
   "outputs": [],
   "source": [
    "import concurrent.futures\n",
    "\n",
    "with concurrent.futures.ThreadPoolExecutor(max_workers=20) as executor:\n",
    "    # run in parallel\n",
    "    results = executor.map(solve, df[\"contest_folder\"], df[\"password\"], df[\"problem_name\"], df[\"solution_id\"])\n",
    "    results = list(results)"
   ]
  },
  {
   "cell_type": "code",
   "execution_count": null,
   "id": "b19b8419",
   "metadata": {},
   "outputs": [],
   "source": []
  },
  {
   "cell_type": "code",
   "execution_count": null,
   "id": "9dcf357b",
   "metadata": {},
   "outputs": [],
   "source": []
  }
 ],
 "metadata": {
  "kernelspec": {
   "display_name": "Python 3 (ipykernel)",
   "language": "python",
   "name": "python3"
  },
  "language_info": {
   "codemirror_mode": {
    "name": "ipython",
    "version": 3
   },
   "file_extension": ".py",
   "mimetype": "text/x-python",
   "name": "python",
   "nbconvert_exporter": "python",
   "pygments_lexer": "ipython3",
   "version": "3.9.7"
  }
 },
 "nbformat": 4,
 "nbformat_minor": 5
}
